{
  "nbformat": 4,
  "nbformat_minor": 0,
  "metadata": {
    "colab": {
      "provenance": [],
      "collapsed_sections": [],
      "authorship_tag": "ABX9TyPRq+YOk7NVJVWYMY+KU0qH",
      "include_colab_link": true
    },
    "kernelspec": {
      "name": "python3",
      "display_name": "Python 3"
    },
    "language_info": {
      "name": "python"
    },
    "accelerator": "GPU",
    "gpuClass": "standard"
  },
  "cells": [
    {
      "cell_type": "markdown",
      "metadata": {
        "id": "view-in-github",
        "colab_type": "text"
      },
      "source": [
        "<a href=\"https://colab.research.google.com/github/mcgmed/Tensorflow/blob/main/Introduction-to-Computer-Vision/Horse_or_Human_CNN.ipynb\" target=\"_parent\"><img src=\"https://colab.research.google.com/assets/colab-badge.svg\" alt=\"Open In Colab\"/></a>"
      ]
    },
    {
      "cell_type": "code",
      "execution_count": 1,
      "metadata": {
        "id": "escZNqV440Dh"
      },
      "outputs": [],
      "source": [
        "import urllib.request\n",
        "import zipfile\n",
        "\n",
        "training_url = \"https://storage.googleapis.com/laurencemoroney-blog.appspot.com/horse-or-human.zip\"\n",
        "training_file_name = \"horse-or-human.zip\"\n",
        "training_dir = 'horse-or-human/training/'\n",
        "urllib.request.urlretrieve(training_url, training_file_name)\n",
        "\n",
        "zip_ref = zipfile.ZipFile(training_file_name, 'r')\n",
        "zip_ref.extractall(training_dir)\n",
        "zip_ref.close()"
      ]
    },
    {
      "cell_type": "code",
      "source": [
        "validation_url = \"https://storage.googleapis.com/laurencemoroney-blog.appspot.com/validation-horse-or-human.zip\"\n",
        "validation_file_name = \"validation-horse-or-human.zip\"\n",
        "validation_dir = 'horse-or-human/validation/'\n",
        "urllib.request.urlretrieve(validation_url, validation_file_name)\n",
        "\n",
        "zip_ref = zipfile.ZipFile(validation_file_name, 'r')\n",
        "zip_ref.extractall(validation_dir)\n",
        "zip_ref.close()"
      ],
      "metadata": {
        "id": "0FTxpk4H7mic"
      },
      "execution_count": 2,
      "outputs": []
    },
    {
      "cell_type": "code",
      "source": [
        "from tensorflow.keras.preprocessing.image import ImageDataGenerator\n",
        "\n",
        "train_datagen = ImageDataGenerator(rescale=1/255)\n",
        "\n",
        "train_generator = train_datagen.flow_from_directory(\n",
        "        training_dir,\n",
        "        target_size=(300, 300),\n",
        "        class_mode='binary')\n",
        "\n",
        "validation_datagen = ImageDataGenerator(rescale=1/255)\n",
        "\n",
        "validation_generator = train_datagen.flow_from_directory(\n",
        "        validation_dir,\n",
        "        target_size=(300, 300),\n",
        "        class_mode='binary')"
      ],
      "metadata": {
        "colab": {
          "base_uri": "https://localhost:8080/"
        },
        "id": "JSRcJ4WJ9S5p",
        "outputId": "d41b0629-f981-465c-db56-eca351273a55"
      },
      "execution_count": 3,
      "outputs": [
        {
          "output_type": "stream",
          "name": "stdout",
          "text": [
            "Found 1027 images belonging to 2 classes.\n",
            "Found 256 images belonging to 2 classes.\n"
          ]
        }
      ]
    },
    {
      "cell_type": "code",
      "source": [
        "import tensorflow as tf\n",
        "from tensorflow.keras.optimizers import RMSprop\n",
        "\n",
        "model = tf.keras.models.Sequential([\n",
        "    tf.keras.layers.Conv2D(16, (3,3), activation='relu', input_shape=(300,300,3)),\n",
        "    tf.keras.layers.MaxPooling2D(2,2),\n",
        "    tf.keras.layers.Conv2D(32, (3,3), activation='relu'),\n",
        "    tf.keras.layers.MaxPooling2D(2,2),\n",
        "    tf.keras.layers.Conv2D(64, (3,3), activation='relu'),\n",
        "    tf.keras.layers.MaxPooling2D(2,2),\n",
        "    tf.keras.layers.Conv2D(64, (3,3), activation='relu'),\n",
        "    tf.keras.layers.MaxPooling2D(2,2),\n",
        "    tf.keras.layers.Conv2D(64, (3,3), activation='relu'),\n",
        "    tf.keras.layers.MaxPooling2D(2,2),\n",
        "    tf.keras.layers.Flatten(),\n",
        "    tf.keras.layers.Dense(512, activation='relu'),\n",
        "    tf.keras.layers.Dense(1, activation='sigmoid')\n",
        "])\n",
        "\n",
        "model.compile(optimizer=RMSprop(lr=0.001),\n",
        "              loss='binary_crossentropy',\n",
        "              metrics=['accuracy'])\n",
        "\n",
        "model.summary()"
      ],
      "metadata": {
        "colab": {
          "base_uri": "https://localhost:8080/"
        },
        "id": "3l6ZPmOg9vuY",
        "outputId": "0ceffe53-502a-45f2-eed2-2202620e70b5"
      },
      "execution_count": 4,
      "outputs": [
        {
          "output_type": "stream",
          "name": "stdout",
          "text": [
            "Model: \"sequential\"\n",
            "_________________________________________________________________\n",
            " Layer (type)                Output Shape              Param #   \n",
            "=================================================================\n",
            " conv2d (Conv2D)             (None, 298, 298, 16)      448       \n",
            "                                                                 \n",
            " max_pooling2d (MaxPooling2D  (None, 149, 149, 16)     0         \n",
            " )                                                               \n",
            "                                                                 \n",
            " conv2d_1 (Conv2D)           (None, 147, 147, 32)      4640      \n",
            "                                                                 \n",
            " max_pooling2d_1 (MaxPooling  (None, 73, 73, 32)       0         \n",
            " 2D)                                                             \n",
            "                                                                 \n",
            " conv2d_2 (Conv2D)           (None, 71, 71, 64)        18496     \n",
            "                                                                 \n",
            " max_pooling2d_2 (MaxPooling  (None, 35, 35, 64)       0         \n",
            " 2D)                                                             \n",
            "                                                                 \n",
            " conv2d_3 (Conv2D)           (None, 33, 33, 64)        36928     \n",
            "                                                                 \n",
            " max_pooling2d_3 (MaxPooling  (None, 16, 16, 64)       0         \n",
            " 2D)                                                             \n",
            "                                                                 \n",
            " conv2d_4 (Conv2D)           (None, 14, 14, 64)        36928     \n",
            "                                                                 \n",
            " max_pooling2d_4 (MaxPooling  (None, 7, 7, 64)         0         \n",
            " 2D)                                                             \n",
            "                                                                 \n",
            " flatten (Flatten)           (None, 3136)              0         \n",
            "                                                                 \n",
            " dense (Dense)               (None, 512)               1606144   \n",
            "                                                                 \n",
            " dense_1 (Dense)             (None, 1)                 513       \n",
            "                                                                 \n",
            "=================================================================\n",
            "Total params: 1,704,097\n",
            "Trainable params: 1,704,097\n",
            "Non-trainable params: 0\n",
            "_________________________________________________________________\n"
          ]
        },
        {
          "output_type": "stream",
          "name": "stderr",
          "text": [
            "/usr/local/lib/python3.7/dist-packages/keras/optimizers/optimizer_v2/rmsprop.py:135: UserWarning: The `lr` argument is deprecated, use `learning_rate` instead.\n",
            "  super(RMSprop, self).__init__(name, **kwargs)\n"
          ]
        }
      ]
    },
    {
      "cell_type": "code",
      "source": [
        "history = model.fit(train_generator, epochs=15, validation_data=validation_generator)"
      ],
      "metadata": {
        "colab": {
          "base_uri": "https://localhost:8080/"
        },
        "id": "IQg2P7Yx9vkx",
        "outputId": "4454ef78-2f76-4556-9322-2c58d6579ef8"
      },
      "execution_count": 5,
      "outputs": [
        {
          "output_type": "stream",
          "name": "stdout",
          "text": [
            "Epoch 1/15\n",
            "33/33 [==============================] - 18s 244ms/step - loss: 0.6684 - accuracy: 0.6952 - val_loss: 0.7001 - val_accuracy: 0.8477\n",
            "Epoch 2/15\n",
            "33/33 [==============================] - 8s 236ms/step - loss: 0.3045 - accuracy: 0.8997 - val_loss: 1.1314 - val_accuracy: 0.8008\n",
            "Epoch 3/15\n",
            "33/33 [==============================] - 8s 237ms/step - loss: 0.0946 - accuracy: 0.9581 - val_loss: 1.9393 - val_accuracy: 0.7969\n",
            "Epoch 4/15\n",
            "33/33 [==============================] - 8s 236ms/step - loss: 0.0939 - accuracy: 0.9669 - val_loss: 3.8492 - val_accuracy: 0.7461\n",
            "Epoch 5/15\n",
            "33/33 [==============================] - 8s 237ms/step - loss: 0.2177 - accuracy: 0.9591 - val_loss: 1.0271 - val_accuracy: 0.8711\n",
            "Epoch 6/15\n",
            "33/33 [==============================] - 8s 235ms/step - loss: 0.0063 - accuracy: 0.9971 - val_loss: 1.1759 - val_accuracy: 0.8867\n",
            "Epoch 7/15\n",
            "33/33 [==============================] - 8s 256ms/step - loss: 0.3134 - accuracy: 0.9776 - val_loss: 1.9875 - val_accuracy: 0.7812\n",
            "Epoch 8/15\n",
            "33/33 [==============================] - 8s 237ms/step - loss: 0.6126 - accuracy: 0.9679 - val_loss: 0.7666 - val_accuracy: 0.8711\n",
            "Epoch 9/15\n",
            "33/33 [==============================] - 8s 237ms/step - loss: 0.0072 - accuracy: 0.9990 - val_loss: 2.6743 - val_accuracy: 0.8164\n",
            "Epoch 10/15\n",
            "33/33 [==============================] - 8s 244ms/step - loss: 0.0348 - accuracy: 0.9912 - val_loss: 2.0658 - val_accuracy: 0.8477\n",
            "Epoch 11/15\n",
            "33/33 [==============================] - 8s 237ms/step - loss: 3.8244e-04 - accuracy: 1.0000 - val_loss: 2.8171 - val_accuracy: 0.8398\n",
            "Epoch 12/15\n",
            "33/33 [==============================] - 8s 234ms/step - loss: 1.6571e-05 - accuracy: 1.0000 - val_loss: 3.4447 - val_accuracy: 0.8398\n",
            "Epoch 13/15\n",
            "33/33 [==============================] - 8s 237ms/step - loss: 0.2563 - accuracy: 0.9825 - val_loss: 1.7390 - val_accuracy: 0.8438\n",
            "Epoch 14/15\n",
            "33/33 [==============================] - 8s 236ms/step - loss: 4.3808e-04 - accuracy: 1.0000 - val_loss: 2.3301 - val_accuracy: 0.8477\n",
            "Epoch 15/15\n",
            "33/33 [==============================] - 8s 236ms/step - loss: 3.4056e-05 - accuracy: 1.0000 - val_loss: 2.7528 - val_accuracy: 0.8438\n"
          ]
        }
      ]
    }
  ]
}