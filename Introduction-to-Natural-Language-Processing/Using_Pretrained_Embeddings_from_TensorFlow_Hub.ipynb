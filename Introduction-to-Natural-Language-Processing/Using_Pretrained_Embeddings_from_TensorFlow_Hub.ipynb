{
  "nbformat": 4,
  "nbformat_minor": 0,
  "metadata": {
    "colab": {
      "provenance": [],
      "authorship_tag": "ABX9TyOqtqWQyZ4G2r2lA/FeoH/1",
      "include_colab_link": true
    },
    "kernelspec": {
      "name": "python3",
      "display_name": "Python 3"
    },
    "language_info": {
      "name": "python"
    }
  },
  "cells": [
    {
      "cell_type": "markdown",
      "metadata": {
        "id": "view-in-github",
        "colab_type": "text"
      },
      "source": [
        "<a href=\"https://colab.research.google.com/github/mcgmed/Tensorflow/blob/main/Introduction-to-Natural-Language-Processing/Using_Pretrained_Embeddings_from_TensorFlow_Hub.ipynb\" target=\"_parent\"><img src=\"https://colab.research.google.com/assets/colab-badge.svg\" alt=\"Open In Colab\"/></a>"
      ]
    },
    {
      "cell_type": "markdown",
      "source": [
        "An alternative to training your own embeddings is to use ones that have been pretrained and packaged into Keras layers for you. There are many of these on Tensor‐Flow Hub that you can explore. One thing to note is that they can also contain the tokenization logic for you, so you don’t have to handle the tokenization, sequencing, and padding yourself as you have been doing so far."
      ],
      "metadata": {
        "id": "Zzr7iMZ0Evt4"
      }
    },
    {
      "cell_type": "code",
      "execution_count": 1,
      "metadata": {
        "colab": {
          "base_uri": "https://localhost:8080/"
        },
        "id": "f-cCwK25EDdd",
        "outputId": "951b1632-877d-4d66-febd-a7708b68d733"
      },
      "outputs": [
        {
          "output_type": "stream",
          "name": "stdout",
          "text": [
            "--2022-11-26 18:07:49--  https://storage.googleapis.com/laurencemoroney-blog.appspot.com/sarcasm.json\n",
            "Resolving storage.googleapis.com (storage.googleapis.com)... 142.251.16.128, 142.251.33.208, 172.253.62.128, ...\n",
            "Connecting to storage.googleapis.com (storage.googleapis.com)|142.251.16.128|:443... connected.\n",
            "HTTP request sent, awaiting response... 200 OK\n",
            "Length: 5643545 (5.4M) [application/json]\n",
            "Saving to: ‘/tmp/sarcasm.json’\n",
            "\n",
            "\r/tmp/sarcasm.json     0%[                    ]       0  --.-KB/s               \r/tmp/sarcasm.json   100%[===================>]   5.38M  --.-KB/s    in 0.05s   \n",
            "\n",
            "2022-11-26 18:07:49 (104 MB/s) - ‘/tmp/sarcasm.json’ saved [5643545/5643545]\n",
            "\n"
          ]
        }
      ],
      "source": [
        "import json\n",
        "import tensorflow as tf\n",
        "import numpy as np\n",
        "import matplotlib.pyplot as plt\n",
        "from tensorflow.keras.preprocessing.text import Tokenizer\n",
        "from tensorflow.keras.preprocessing.sequence import pad_sequences\n",
        "from bs4 import BeautifulSoup\n",
        "import string\n",
        "\n",
        "!wget --no-check-certificate \\\n",
        "    https://storage.googleapis.com/laurencemoroney-blog.appspot.com/sarcasm.json \\\n",
        "    -O /tmp/sarcasm.json\n",
        "\n",
        "stopwords = [\"a\", \"about\", \"above\", \"after\", \"again\", \"against\", \"all\", \"am\", \"an\", \"and\", \"any\", \"are\", \"as\", \"at\",\n",
        "             \"be\", \"because\", \"been\", \"before\", \"being\", \"below\", \"between\", \"both\", \"but\", \"by\", \"could\", \"did\", \"do\",\n",
        "             \"does\", \"doing\", \"down\", \"during\", \"each\", \"few\", \"for\", \"from\", \"further\", \"had\", \"has\", \"have\", \"having\",\n",
        "             \"he\", \"hed\", \"hes\", \"her\", \"here\", \"heres\", \"hers\", \"herself\", \"him\", \"himself\", \"his\", \"how\",\n",
        "             \"hows\", \"i\", \"id\", \"ill\", \"im\", \"ive\", \"if\", \"in\", \"into\", \"is\", \"it\", \"its\", \"itself\",\n",
        "             \"lets\", \"me\", \"more\", \"most\", \"my\", \"myself\", \"nor\", \"of\", \"on\", \"once\", \"only\", \"or\", \"other\", \"ought\",\n",
        "             \"our\", \"ours\", \"ourselves\", \"out\", \"over\", \"own\", \"same\", \"she\", \"shed\", \"shell\", \"shes\", \"should\",\n",
        "             \"so\", \"some\", \"such\", \"than\", \"that\", \"thats\", \"the\", \"their\", \"theirs\", \"them\", \"themselves\", \"then\",\n",
        "             \"there\", \"theres\", \"these\", \"they\", \"theyd\", \"theyll\", \"theyre\", \"theyve\", \"this\", \"those\", \"through\",\n",
        "             \"to\", \"too\", \"under\", \"until\", \"up\", \"very\", \"was\", \"we\", \"wed\", \"well\", \"were\", \"weve\", \"were\",\n",
        "             \"what\", \"whats\", \"when\", \"whens\", \"where\", \"wheres\", \"which\", \"while\", \"who\", \"whos\", \"whom\", \"why\",\n",
        "             \"whys\", \"with\", \"would\", \"you\", \"youd\", \"youll\", \"youre\", \"youve\", \"your\", \"yours\", \"yourself\",\n",
        "             \"yourselves\"]\n",
        "\n",
        "table = str.maketrans('', '', string.punctuation)\n",
        "\n",
        "with open(\"/tmp/sarcasm.json\", 'r') as f:\n",
        "    datastore = json.load(f)\n",
        "\n",
        "sentences = [] \n",
        "labels = []\n",
        "urls = []\n",
        "for item in datastore:\n",
        "    sentence = item['headline'].lower()\n",
        "    sentence = sentence.replace(\",\", \" , \")\n",
        "    sentence = sentence.replace(\".\", \" . \")\n",
        "    sentence = sentence.replace(\"-\", \" - \")\n",
        "    sentence = sentence.replace(\"/\", \" / \")\n",
        "    soup = BeautifulSoup(sentence)\n",
        "    sentence = soup.get_text()\n",
        "    words = sentence.split()\n",
        "    filtered_sentence = \"\"\n",
        "    for word in words:\n",
        "        word = word.translate(table)\n",
        "        if word not in stopwords:\n",
        "            filtered_sentence = filtered_sentence + word + \" \"\n",
        "    sentences.append(filtered_sentence)\n",
        "    labels.append(item['is_sarcastic'])\n",
        "    urls.append(item['article_link'])\n",
        "\n",
        "training_size = 24000\n",
        "training_sentences = sentences[0:training_size]\n",
        "testing_sentences = sentences[training_size:]\n",
        "training_labels = labels[0:training_size]\n",
        "testing_labels = labels[training_size:]"
      ]
    },
    {
      "cell_type": "code",
      "source": [
        "import tensorflow_hub as hub\n",
        "\n",
        "hub_layer = hub.KerasLayer(\"https://tfhub.dev/google/tf2-preview/gnews-swivel-20dim/1\", output_shape=[20], input_shape=[], dtype=tf.string, trainable=False)"
      ],
      "metadata": {
        "id": "jdvDof52GT9R"
      },
      "execution_count": 2,
      "outputs": []
    },
    {
      "cell_type": "markdown",
      "source": [
        "This takes the embeddings from the Swivel dataset, trained on 130 GB of Google\n",
        "News. Using this layer will encode your sentences, tokenize them, use the words from them with the embeddings learned as part of Swivel, and then encode your sentences into a single embedding. It’s worth remembering that final part. The technique we’ve been using to date is to just use the word encodings and classify the content based on all of them. When using a layer like this, you’re getting the full sentence aggregated into a new encoding."
      ],
      "metadata": {
        "id": "ynZh7iM-Gzs2"
      }
    },
    {
      "cell_type": "code",
      "source": [
        "model = tf.keras.Sequential([\n",
        "    hub_layer,\n",
        "    tf.keras.layers.Dense(16, activation='relu'),\n",
        "    tf.keras.layers.Dense(1, activation='sigmoid')\n",
        "    ])\n",
        "\n",
        "adam = tf.keras.optimizers.Adam(learning_rate=0.0001, beta_1=0.9, beta_2=0.999, amsgrad=False)\n",
        "model.compile(loss='binary_crossentropy',optimizer=adam, metrics=['accuracy'])\n",
        "\n",
        "model.summary()"
      ],
      "metadata": {
        "colab": {
          "base_uri": "https://localhost:8080/"
        },
        "id": "Yic0ivsEHXBg",
        "outputId": "6fc8f536-a8a3-4d0e-bdf3-37ab6a6e40cd"
      },
      "execution_count": 3,
      "outputs": [
        {
          "output_type": "stream",
          "name": "stdout",
          "text": [
            "Model: \"sequential\"\n",
            "_________________________________________________________________\n",
            " Layer (type)                Output Shape              Param #   \n",
            "=================================================================\n",
            " keras_layer (KerasLayer)    (None, 20)                400020    \n",
            "                                                                 \n",
            " dense (Dense)               (None, 16)                336       \n",
            "                                                                 \n",
            " dense_1 (Dense)             (None, 1)                 17        \n",
            "                                                                 \n",
            "=================================================================\n",
            "Total params: 400,373\n",
            "Trainable params: 353\n",
            "Non-trainable params: 400,020\n",
            "_________________________________________________________________\n"
          ]
        }
      ]
    },
    {
      "cell_type": "code",
      "source": [
        "num_epochs = 50\n",
        "history = model.fit(training_sentences, training_labels, epochs=num_epochs, validation_data=(testing_sentences, testing_labels))"
      ],
      "metadata": {
        "colab": {
          "base_uri": "https://localhost:8080/"
        },
        "id": "7t5lF44WHoma",
        "outputId": "7919af1f-b457-4d7d-f09c-27cf7e59bc17"
      },
      "execution_count": 4,
      "outputs": [
        {
          "output_type": "stream",
          "name": "stdout",
          "text": [
            "Epoch 1/50\n",
            "750/750 [==============================] - 3s 2ms/step - loss: 0.6709 - accuracy: 0.5920 - val_loss: 0.6645 - val_accuracy: 0.6065\n",
            "Epoch 2/50\n",
            "750/750 [==============================] - 3s 3ms/step - loss: 0.6594 - accuracy: 0.6138 - val_loss: 0.6561 - val_accuracy: 0.6194\n",
            "Epoch 3/50\n",
            "750/750 [==============================] - 2s 3ms/step - loss: 0.6533 - accuracy: 0.6229 - val_loss: 0.6502 - val_accuracy: 0.6331\n",
            "Epoch 4/50\n",
            "750/750 [==============================] - 2s 3ms/step - loss: 0.6490 - accuracy: 0.6300 - val_loss: 0.6469 - val_accuracy: 0.6342\n",
            "Epoch 5/50\n",
            "750/750 [==============================] - 2s 3ms/step - loss: 0.6455 - accuracy: 0.6363 - val_loss: 0.6446 - val_accuracy: 0.6316\n",
            "Epoch 6/50\n",
            "750/750 [==============================] - 2s 3ms/step - loss: 0.6426 - accuracy: 0.6389 - val_loss: 0.6421 - val_accuracy: 0.6327\n",
            "Epoch 7/50\n",
            "750/750 [==============================] - 1s 2ms/step - loss: 0.6401 - accuracy: 0.6421 - val_loss: 0.6397 - val_accuracy: 0.6346\n",
            "Epoch 8/50\n",
            "750/750 [==============================] - 1s 2ms/step - loss: 0.6378 - accuracy: 0.6445 - val_loss: 0.6380 - val_accuracy: 0.6379\n",
            "Epoch 9/50\n",
            "750/750 [==============================] - 1s 2ms/step - loss: 0.6357 - accuracy: 0.6472 - val_loss: 0.6359 - val_accuracy: 0.6416\n",
            "Epoch 10/50\n",
            "750/750 [==============================] - 1s 2ms/step - loss: 0.6338 - accuracy: 0.6480 - val_loss: 0.6347 - val_accuracy: 0.6397\n",
            "Epoch 11/50\n",
            "750/750 [==============================] - 2s 3ms/step - loss: 0.6320 - accuracy: 0.6501 - val_loss: 0.6338 - val_accuracy: 0.6405\n",
            "Epoch 12/50\n",
            "750/750 [==============================] - 1s 2ms/step - loss: 0.6305 - accuracy: 0.6524 - val_loss: 0.6322 - val_accuracy: 0.6416\n",
            "Epoch 13/50\n",
            "750/750 [==============================] - 1s 2ms/step - loss: 0.6291 - accuracy: 0.6536 - val_loss: 0.6311 - val_accuracy: 0.6430\n",
            "Epoch 14/50\n",
            "750/750 [==============================] - 2s 2ms/step - loss: 0.6278 - accuracy: 0.6562 - val_loss: 0.6296 - val_accuracy: 0.6467\n",
            "Epoch 15/50\n",
            "750/750 [==============================] - 1s 2ms/step - loss: 0.6265 - accuracy: 0.6575 - val_loss: 0.6293 - val_accuracy: 0.6460\n",
            "Epoch 16/50\n",
            "750/750 [==============================] - 1s 2ms/step - loss: 0.6255 - accuracy: 0.6585 - val_loss: 0.6282 - val_accuracy: 0.6489\n",
            "Epoch 17/50\n",
            "750/750 [==============================] - 1s 2ms/step - loss: 0.6244 - accuracy: 0.6601 - val_loss: 0.6271 - val_accuracy: 0.6530\n",
            "Epoch 18/50\n",
            "750/750 [==============================] - 1s 2ms/step - loss: 0.6234 - accuracy: 0.6602 - val_loss: 0.6272 - val_accuracy: 0.6504\n",
            "Epoch 19/50\n",
            "750/750 [==============================] - 1s 2ms/step - loss: 0.6226 - accuracy: 0.6605 - val_loss: 0.6255 - val_accuracy: 0.6574\n",
            "Epoch 20/50\n",
            "750/750 [==============================] - 1s 2ms/step - loss: 0.6218 - accuracy: 0.6619 - val_loss: 0.6259 - val_accuracy: 0.6526\n",
            "Epoch 21/50\n",
            "750/750 [==============================] - 1s 2ms/step - loss: 0.6210 - accuracy: 0.6622 - val_loss: 0.6246 - val_accuracy: 0.6560\n",
            "Epoch 22/50\n",
            "750/750 [==============================] - 1s 2ms/step - loss: 0.6204 - accuracy: 0.6633 - val_loss: 0.6239 - val_accuracy: 0.6585\n",
            "Epoch 23/50\n",
            "750/750 [==============================] - 1s 2ms/step - loss: 0.6196 - accuracy: 0.6633 - val_loss: 0.6228 - val_accuracy: 0.6600\n",
            "Epoch 24/50\n",
            "750/750 [==============================] - 1s 2ms/step - loss: 0.6191 - accuracy: 0.6644 - val_loss: 0.6225 - val_accuracy: 0.6597\n",
            "Epoch 25/50\n",
            "750/750 [==============================] - 1s 2ms/step - loss: 0.6185 - accuracy: 0.6647 - val_loss: 0.6222 - val_accuracy: 0.6585\n",
            "Epoch 26/50\n",
            "750/750 [==============================] - 1s 2ms/step - loss: 0.6180 - accuracy: 0.6642 - val_loss: 0.6221 - val_accuracy: 0.6615\n",
            "Epoch 27/50\n",
            "750/750 [==============================] - 1s 2ms/step - loss: 0.6175 - accuracy: 0.6641 - val_loss: 0.6218 - val_accuracy: 0.6615\n",
            "Epoch 28/50\n",
            "750/750 [==============================] - 1s 2ms/step - loss: 0.6171 - accuracy: 0.6651 - val_loss: 0.6214 - val_accuracy: 0.6615\n",
            "Epoch 29/50\n",
            "750/750 [==============================] - 1s 2ms/step - loss: 0.6167 - accuracy: 0.6653 - val_loss: 0.6213 - val_accuracy: 0.6608\n",
            "Epoch 30/50\n",
            "750/750 [==============================] - 1s 2ms/step - loss: 0.6162 - accuracy: 0.6660 - val_loss: 0.6214 - val_accuracy: 0.6608\n",
            "Epoch 31/50\n",
            "750/750 [==============================] - 1s 2ms/step - loss: 0.6158 - accuracy: 0.6661 - val_loss: 0.6203 - val_accuracy: 0.6615\n",
            "Epoch 32/50\n",
            "750/750 [==============================] - 1s 2ms/step - loss: 0.6155 - accuracy: 0.6663 - val_loss: 0.6199 - val_accuracy: 0.6641\n",
            "Epoch 33/50\n",
            "750/750 [==============================] - 1s 2ms/step - loss: 0.6151 - accuracy: 0.6660 - val_loss: 0.6196 - val_accuracy: 0.6630\n",
            "Epoch 34/50\n",
            "750/750 [==============================] - 1s 2ms/step - loss: 0.6148 - accuracy: 0.6671 - val_loss: 0.6195 - val_accuracy: 0.6641\n",
            "Epoch 35/50\n",
            "750/750 [==============================] - 1s 2ms/step - loss: 0.6144 - accuracy: 0.6672 - val_loss: 0.6192 - val_accuracy: 0.6626\n",
            "Epoch 36/50\n",
            "750/750 [==============================] - 1s 2ms/step - loss: 0.6142 - accuracy: 0.6669 - val_loss: 0.6190 - val_accuracy: 0.6626\n",
            "Epoch 37/50\n",
            "750/750 [==============================] - 1s 2ms/step - loss: 0.6138 - accuracy: 0.6671 - val_loss: 0.6183 - val_accuracy: 0.6641\n",
            "Epoch 38/50\n",
            "750/750 [==============================] - 1s 2ms/step - loss: 0.6136 - accuracy: 0.6668 - val_loss: 0.6189 - val_accuracy: 0.6637\n",
            "Epoch 39/50\n",
            "750/750 [==============================] - 1s 2ms/step - loss: 0.6133 - accuracy: 0.6681 - val_loss: 0.6183 - val_accuracy: 0.6641\n",
            "Epoch 40/50\n",
            "750/750 [==============================] - 1s 2ms/step - loss: 0.6131 - accuracy: 0.6675 - val_loss: 0.6180 - val_accuracy: 0.6622\n",
            "Epoch 41/50\n",
            "750/750 [==============================] - 1s 2ms/step - loss: 0.6128 - accuracy: 0.6688 - val_loss: 0.6179 - val_accuracy: 0.6641\n",
            "Epoch 42/50\n",
            "750/750 [==============================] - 1s 2ms/step - loss: 0.6126 - accuracy: 0.6680 - val_loss: 0.6180 - val_accuracy: 0.6637\n",
            "Epoch 43/50\n",
            "750/750 [==============================] - 1s 2ms/step - loss: 0.6124 - accuracy: 0.6688 - val_loss: 0.6178 - val_accuracy: 0.6648\n",
            "Epoch 44/50\n",
            "750/750 [==============================] - 1s 2ms/step - loss: 0.6122 - accuracy: 0.6685 - val_loss: 0.6171 - val_accuracy: 0.6645\n",
            "Epoch 45/50\n",
            "750/750 [==============================] - 1s 2ms/step - loss: 0.6119 - accuracy: 0.6685 - val_loss: 0.6175 - val_accuracy: 0.6626\n",
            "Epoch 46/50\n",
            "750/750 [==============================] - 1s 2ms/step - loss: 0.6117 - accuracy: 0.6697 - val_loss: 0.6174 - val_accuracy: 0.6633\n",
            "Epoch 47/50\n",
            "750/750 [==============================] - 1s 2ms/step - loss: 0.6116 - accuracy: 0.6690 - val_loss: 0.6170 - val_accuracy: 0.6615\n",
            "Epoch 48/50\n",
            "750/750 [==============================] - 1s 2ms/step - loss: 0.6114 - accuracy: 0.6698 - val_loss: 0.6170 - val_accuracy: 0.6626\n",
            "Epoch 49/50\n",
            "750/750 [==============================] - 2s 2ms/step - loss: 0.6112 - accuracy: 0.6695 - val_loss: 0.6169 - val_accuracy: 0.6622\n",
            "Epoch 50/50\n",
            "750/750 [==============================] - 1s 2ms/step - loss: 0.6110 - accuracy: 0.6702 - val_loss: 0.6171 - val_accuracy: 0.6611\n"
          ]
        }
      ]
    },
    {
      "cell_type": "code",
      "source": [
        "plt.plot(history.history['accuracy']);\n",
        "plt.plot(history.history['val_accuracy']);\n",
        "plt.legend(['accuracy', 'val_accuracy']);"
      ],
      "metadata": {
        "colab": {
          "base_uri": "https://localhost:8080/",
          "height": 265
        },
        "id": "WBQJgCQrHzO0",
        "outputId": "3bef865c-2b28-469b-9021-b20e7e51ef6f"
      },
      "execution_count": 5,
      "outputs": [
        {
          "output_type": "display_data",
          "data": {
            "text/plain": [
              "<Figure size 432x288 with 1 Axes>"
            ],
            "image/png": "[encoded data removed]"
          },
          "metadata": {
            "needs_background": "light"
          }
        }
      ]
    },
    {
      "cell_type": "code",
      "source": [
        "plt.plot(history.history['loss']);\n",
        "plt.plot(history.history['val_loss']);\n",
        "plt.legend(['loss', 'val_loss']);"
      ],
      "metadata": {
        "colab": {
          "base_uri": "https://localhost:8080/",
          "height": 265
        },
        "id": "zGEg7AD5H1bN",
        "outputId": "a36c0de2-6cbd-4ed5-9f49-551bb3746af3"
      },
      "execution_count": 6,
      "outputs": [
        {
          "output_type": "display_data",
          "data": {
            "text/plain": [
              "<Figure size 432x288 with 1 Axes>"
            ],
            "image/png": "[encoded data removed]"
          },
          "metadata": {
            "needs_background": "light"
          }
        }
      ]
    },
    {
      "cell_type": "code",
      "source": [
        "test_sentences = [\"granny starting to fear spiders in the garden might be real\",\n",
        "                  \"game of thrones season finale showing this sunday night\",\n",
        "                  \"TensorFlow book will be a best seller\"]\n",
        "\n",
        "predictions = model.predict(test_sentences)\n",
        "print(predictions)"
      ],
      "metadata": {
        "colab": {
          "base_uri": "https://localhost:8080/"
        },
        "id": "t477fVLOICVY",
        "outputId": "16926945-6a22-4125-a8af-381eba86a979"
      },
      "execution_count": 7,
      "outputs": [
        {
          "output_type": "stream",
          "name": "stdout",
          "text": [
            "1/1 [==============================] - 0s 106ms/step\n",
            "[[0.5904082 ]\n",
            " [0.15055603]\n",
            " [0.4904335 ]]\n"
          ]
        }
      ]
    }
  ]
}