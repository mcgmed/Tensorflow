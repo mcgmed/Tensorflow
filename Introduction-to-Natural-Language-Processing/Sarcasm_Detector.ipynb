{
  "nbformat": 4,
  "nbformat_minor": 0,
  "metadata": {
    "colab": {
      "provenance": [],
      "authorship_tag": "ABX9TyNdRSEMCtrlb4RkoU9nthyJ",
      "include_colab_link": true
    },
    "kernelspec": {
      "name": "python3",
      "display_name": "Python 3"
    },
    "language_info": {
      "name": "python"
    }
  },
  "cells": [
    {
      "cell_type": "markdown",
      "metadata": {
        "id": "view-in-github",
        "colab_type": "text"
      },
      "source": [
        "<a href=\"https://colab.research.google.com/github/mcgmed/Tensorflow/blob/main/Introduction-to-Natural-Language-Processing/Sarcasm_Detector.ipynb\" target=\"_parent\"><img src=\"https://colab.research.google.com/assets/colab-badge.svg\" alt=\"Open In Colab\"/></a>"
      ]
    },
    {
      "cell_type": "code",
      "execution_count": 1,
      "metadata": {
        "id": "uiZ7NayxHWlv"
      },
      "outputs": [],
      "source": [
        "import numpy as np\n",
        "import tensorflow as tf\n",
        "from tensorflow.keras.preprocessing.text import Tokenizer\n",
        "from tensorflow.keras.preprocessing.sequence import pad_sequences\n",
        "from bs4 import BeautifulSoup\n",
        "import string\n",
        "import json\n",
        "import matplotlib.pyplot as plt"
      ]
    },
    {
      "cell_type": "code",
      "source": [
        "!wget --no-check-certificate \\\n",
        "    https://storage.googleapis.com/laurencemoroney-blog.appspot.com/sarcasm.json \\\n",
        "    -O /tmp/sarcasm.json\n",
        "\n",
        "with open(\"/tmp/sarcasm.json\", 'r') as f:\n",
        "  datastore = json.load(f)\n",
        "\n",
        "stopwords = [\"a\", \"about\", \"above\", \"after\", \"again\", \"against\", \"all\", \"am\", \"an\", \"and\", \"any\", \"are\", \"as\", \"at\",\n",
        "             \"be\", \"because\", \"been\", \"before\", \"being\", \"below\", \"between\", \"both\", \"but\", \"by\", \"could\", \"did\", \"do\",\n",
        "             \"does\", \"doing\", \"down\", \"during\", \"each\", \"few\", \"for\", \"from\", \"further\", \"had\", \"has\", \"have\", \"having\",\n",
        "             \"he\", \"hed\", \"hes\", \"her\", \"here\", \"heres\", \"hers\", \"herself\", \"him\", \"himself\", \"his\", \"how\",\n",
        "             \"hows\", \"i\", \"id\", \"ill\", \"im\", \"ive\", \"if\", \"in\", \"into\", \"is\", \"it\", \"its\", \"itself\",\n",
        "             \"lets\", \"me\", \"more\", \"most\", \"my\", \"myself\", \"nor\", \"of\", \"on\", \"once\", \"only\", \"or\", \"other\", \"ought\",\n",
        "             \"our\", \"ours\", \"ourselves\", \"out\", \"over\", \"own\", \"same\", \"she\", \"shed\", \"shell\", \"shes\", \"should\",\n",
        "             \"so\", \"some\", \"such\", \"than\", \"that\", \"thats\", \"the\", \"their\", \"theirs\", \"them\", \"themselves\", \"then\",\n",
        "             \"there\", \"theres\", \"these\", \"they\", \"theyd\", \"theyll\", \"theyre\", \"theyve\", \"this\", \"those\", \"through\",\n",
        "             \"to\", \"too\", \"under\", \"until\", \"up\", \"very\", \"was\", \"we\", \"wed\", \"well\", \"were\", \"weve\", \"were\",\n",
        "             \"what\", \"whats\", \"when\", \"whens\", \"where\", \"wheres\", \"which\", \"while\", \"who\", \"whos\", \"whom\", \"why\",\n",
        "             \"whys\", \"with\", \"would\", \"you\", \"youd\", \"youll\", \"youre\", \"youve\", \"your\", \"yours\", \"yourself\",\n",
        "             \"yourselves\"]\n",
        "\n",
        "table = str.maketrans('', '', string.punctuation)\n",
        "\n",
        "sentences = [] \n",
        "labels = []\n",
        "urls = []\n",
        "for item in datastore:\n",
        "    sentence = item['headline'].lower()\n",
        "    sentence = sentence.replace(\",\", \" , \")\n",
        "    sentence = sentence.replace(\".\", \" . \")\n",
        "    sentence = sentence.replace(\"-\", \" - \")\n",
        "    sentence = sentence.replace(\"/\", \" / \")\n",
        "    soup = BeautifulSoup(sentence)\n",
        "    sentence = soup.get_text()\n",
        "    words = sentence.split()\n",
        "    filtered_sentence = \"\"\n",
        "    for word in words:\n",
        "        word = word.translate(table)\n",
        "        if word not in stopwords:\n",
        "            filtered_sentence = filtered_sentence + word + \" \"\n",
        "    sentences.append(filtered_sentence)\n",
        "    labels.append(item['is_sarcastic'])\n",
        "    urls.append(item['article_link'])\n",
        "\n",
        "print(f'Length of sentences: {len(sentences)}')\n",
        "print(f'Length of labels: {len(labels)}')\n",
        "print(f'Length of urls: {len(urls)}')"
      ],
      "metadata": {
        "colab": {
          "base_uri": "https://localhost:8080/"
        },
        "id": "2MlDqtUekT6L",
        "outputId": "3b6d1823-7377-4c27-8dcc-f98b1f976364"
      },
      "execution_count": 2,
      "outputs": [
        {
          "output_type": "stream",
          "name": "stdout",
          "text": [
            "--2022-11-26 17:42:10--  https://storage.googleapis.com/laurencemoroney-blog.appspot.com/sarcasm.json\n",
            "Resolving storage.googleapis.com (storage.googleapis.com)... 142.251.163.128, 172.217.164.176, 142.251.16.128, ...\n",
            "Connecting to storage.googleapis.com (storage.googleapis.com)|142.251.163.128|:443... connected.\n",
            "HTTP request sent, awaiting response... 200 OK\n",
            "Length: 5643545 (5.4M) [application/json]\n",
            "Saving to: ‘/tmp/sarcasm.json’\n",
            "\n",
            "\r/tmp/sarcasm.json     0%[                    ]       0  --.-KB/s               \r/tmp/sarcasm.json   100%[===================>]   5.38M  --.-KB/s    in 0.03s   \n",
            "\n",
            "2022-11-26 17:42:10 (206 MB/s) - ‘/tmp/sarcasm.json’ saved [5643545/5643545]\n",
            "\n",
            "Length of sentences: 26709\n",
            "Length of labels: 26709\n",
            "Length of urls: 26709\n"
          ]
        }
      ]
    },
    {
      "cell_type": "code",
      "source": [
        "training_size = 23000\n",
        "vocab_size = 10000\n",
        "max_length = 10\n",
        "trunc_type='post'\n",
        "padding_type='post'\n",
        "oov_tok = \"\"\n",
        "embedding_dim = 16\n",
        "\n",
        "training_sentences = sentences[0:training_size]\n",
        "testing_sentences = sentences[training_size:]\n",
        "training_labels = labels[0:training_size]\n",
        "testing_labels = labels[training_size:]\n",
        "\n",
        "tokenizer = Tokenizer(num_words=vocab_size, oov_token=\"\")\n",
        "tokenizer.fit_on_texts(training_sentences)\n",
        "\n",
        "word_index = tokenizer.word_index\n",
        "\n",
        "training_sequences = tokenizer.texts_to_sequences(training_sentences)\n",
        "training_padded = pad_sequences(training_sequences, padding='post')\n",
        "testing_sequences = tokenizer.texts_to_sequences(testing_sentences)\n",
        "testing_padded = pad_sequences(testing_sequences, padding='post')\n",
        "print(list(word_index.items())[:10])"
      ],
      "metadata": {
        "colab": {
          "base_uri": "https://localhost:8080/"
        },
        "id": "NosElWxukc72",
        "outputId": "5c9be19d-ec1e-4f93-bfd5-b51175feea46"
      },
      "execution_count": 6,
      "outputs": [
        {
          "output_type": "stream",
          "name": "stdout",
          "text": [
            "[('', 1), ('new', 2), ('trump', 3), ('man', 4), ('not', 5), ('just', 6), ('will', 7), ('one', 8), ('year', 9), ('report', 10)]\n"
          ]
        }
      ]
    },
    {
      "cell_type": "code",
      "source": [
        "training_padded = np.array(training_padded)\n",
        "training_labels = np.array(training_labels)\n",
        "testing_padded = np.array(testing_padded)\n",
        "testing_labels = np.array(testing_labels)"
      ],
      "metadata": {
        "id": "FDahftKVlDSH"
      },
      "execution_count": 7,
      "outputs": []
    },
    {
      "cell_type": "code",
      "source": [
        "from collections import OrderedDict\n",
        "\n",
        "wc = tokenizer.word_counts\n",
        "print(list(wc.items())[:10])\n",
        "\n",
        "newlist = (OrderedDict(sorted(wc.items(), key=lambda t: t[1], reverse=True)))\n",
        "print(list(word_index.items())[:10])\n",
        "print(list(newlist.items())[:10])\n",
        "xs=[]\n",
        "ys=[]\n",
        "curr_x = 1\n",
        "for item in newlist:\n",
        "  xs.append(curr_x)\n",
        "  curr_x=curr_x+1\n",
        "  ys.append(newlist[item])\n",
        "\n",
        "plt.plot(xs,ys)\n",
        "plt.show()"
      ],
      "metadata": {
        "colab": {
          "base_uri": "https://localhost:8080/",
          "height": 317
        },
        "id": "tqlA4uYXm_-n",
        "outputId": "c8fbc7d3-b8e8-4b21-bbcf-ea37e0d6e11d"
      },
      "execution_count": 20,
      "outputs": [
        {
          "output_type": "stream",
          "name": "stdout",
          "text": [
            "[('former', 90), ('versace', 1), ('store', 44), ('clerk', 9), ('sues', 13), ('secret', 78), ('black', 230), ('code', 19), ('minority', 12), ('shoppers', 2)]\n",
            "[('', 1), ('new', 2), ('trump', 3), ('man', 4), ('not', 5), ('just', 6), ('will', 7), ('one', 8), ('year', 9), ('report', 10)]\n",
            "[('new', 1318), ('trump', 1117), ('man', 1075), ('not', 634), ('just', 501), ('will', 484), ('one', 469), ('year', 440), ('report', 434), ('area', 421)]\n"
          ]
        },
        {
          "output_type": "display_data",
          "data": {
            "text/plain": [
              "<Figure size 432x288 with 1 Axes>"
            ],
            "image/png": "[encoded data removed]"
          },
          "metadata": {
            "needs_background": "light"
          }
        }
      ]
    },
    {
      "cell_type": "code",
      "source": [
        "plt.plot(xs,ys)\n",
        "plt.axis([300,10000,0,100])\n",
        "plt.show()\n",
        "print(ys[1000])\n",
        "print(ys[2000])"
      ],
      "metadata": {
        "colab": {
          "base_uri": "https://localhost:8080/",
          "height": 304
        },
        "id": "lTtQqJLEFmq2",
        "outputId": "20d17d2a-e858-4938-a211-2e1933287ad2"
      },
      "execution_count": 21,
      "outputs": [
        {
          "output_type": "display_data",
          "data": {
            "text/plain": [
              "<Figure size 432x288 with 1 Axes>"
            ],
            "image/png": "[encoded data removed]"
          },
          "metadata": {
            "needs_background": "light"
          }
        },
        {
          "output_type": "stream",
          "name": "stdout",
          "text": [
            "32\n",
            "17\n"
          ]
        }
      ]
    },
    {
      "cell_type": "code",
      "source": [
        "model = tf.keras.Sequential([tf.keras.layers.Embedding(vocab_size, embedding_dim),\n",
        "                             tf.keras.layers.GlobalAveragePooling1D(),\n",
        "                             tf.keras.layers.Dense(24, activation='relu'),\n",
        "                             tf.keras.layers.Dense(1, activation='sigmoid')\n",
        "                             ])\n",
        "adam = tf.keras.optimizers.Adam(learning_rate=0.0001, beta_1=0.9, beta_2=0.999, amsgrad=False)\n",
        "model.compile(loss='binary_crossentropy',optimizer=adam, metrics=['accuracy'])\n",
        "\n",
        "model.summary()"
      ],
      "metadata": {
        "colab": {
          "base_uri": "https://localhost:8080/"
        },
        "id": "eh2RsVjxnMjM",
        "outputId": "80d695c0-0db5-4858-fdc5-812e10d287c2"
      },
      "execution_count": 15,
      "outputs": [
        {
          "output_type": "stream",
          "name": "stdout",
          "text": [
            "Model: \"sequential\"\n",
            "_________________________________________________________________\n",
            " Layer (type)                Output Shape              Param #   \n",
            "=================================================================\n",
            " embedding (Embedding)       (None, None, 16)          160000    \n",
            "                                                                 \n",
            " global_average_pooling1d (G  (None, 16)               0         \n",
            " lobalAveragePooling1D)                                          \n",
            "                                                                 \n",
            " dense (Dense)               (None, 24)                408       \n",
            "                                                                 \n",
            " dense_1 (Dense)             (None, 1)                 25        \n",
            "                                                                 \n",
            "=================================================================\n",
            "Total params: 160,433\n",
            "Trainable params: 160,433\n",
            "Non-trainable params: 0\n",
            "_________________________________________________________________\n"
          ]
        }
      ]
    },
    {
      "cell_type": "markdown",
      "source": [
        "This much lower learning rate has a profound impact on the network. The lower learning rate can be seen in the first 10 epochs or so, where it appears that the network isn’t learning, before it “breaks out” and starts to learn quickly, and it also prevent overfitting."
      ],
      "metadata": {
        "id": "CFDl4IUyqhzp"
      }
    },
    {
      "cell_type": "code",
      "source": [
        "num_epochs = 100\n",
        "history = model.fit(training_padded, training_labels, epochs=num_epochs, validation_data=(testing_padded, testing_labels))"
      ],
      "metadata": {
        "colab": {
          "base_uri": "https://localhost:8080/"
        },
        "id": "CWjmFLxuoH37",
        "outputId": "00972cb8-36ae-4a63-8071-5cd3e0ef750d"
      },
      "execution_count": 16,
      "outputs": [
        {
          "output_type": "stream",
          "name": "stdout",
          "text": [
            "Epoch 1/100\n",
            "719/719 [==============================] - 3s 4ms/step - loss: 0.6868 - accuracy: 0.5592 - val_loss: 0.6803 - val_accuracy: 0.5700\n",
            "Epoch 2/100\n",
            "719/719 [==============================] - 2s 3ms/step - loss: 0.6802 - accuracy: 0.5596 - val_loss: 0.6711 - val_accuracy: 0.5700\n",
            "Epoch 3/100\n",
            "719/719 [==============================] - 2s 3ms/step - loss: 0.6711 - accuracy: 0.5601 - val_loss: 0.6566 - val_accuracy: 0.6147\n",
            "Epoch 4/100\n",
            "719/719 [==============================] - 2s 3ms/step - loss: 0.6540 - accuracy: 0.5789 - val_loss: 0.6362 - val_accuracy: 0.7204\n",
            "Epoch 5/100\n",
            "719/719 [==============================] - 3s 4ms/step - loss: 0.6259 - accuracy: 0.6587 - val_loss: 0.6052 - val_accuracy: 0.7387\n",
            "Epoch 6/100\n",
            "719/719 [==============================] - 3s 5ms/step - loss: 0.5901 - accuracy: 0.7214 - val_loss: 0.5715 - val_accuracy: 0.7530\n",
            "Epoch 7/100\n",
            "719/719 [==============================] - 2s 3ms/step - loss: 0.5511 - accuracy: 0.7588 - val_loss: 0.5390 - val_accuracy: 0.7582\n",
            "Epoch 8/100\n",
            "719/719 [==============================] - 2s 3ms/step - loss: 0.5123 - accuracy: 0.7855 - val_loss: 0.5147 - val_accuracy: 0.7595\n",
            "Epoch 9/100\n",
            "719/719 [==============================] - 2s 3ms/step - loss: 0.4760 - accuracy: 0.8063 - val_loss: 0.4910 - val_accuracy: 0.7644\n",
            "Epoch 10/100\n",
            "719/719 [==============================] - 2s 3ms/step - loss: 0.4437 - accuracy: 0.8207 - val_loss: 0.4737 - val_accuracy: 0.7724\n",
            "Epoch 11/100\n",
            "719/719 [==============================] - 2s 3ms/step - loss: 0.4155 - accuracy: 0.8346 - val_loss: 0.4629 - val_accuracy: 0.7786\n",
            "Epoch 12/100\n",
            "719/719 [==============================] - 2s 3ms/step - loss: 0.3914 - accuracy: 0.8443 - val_loss: 0.4489 - val_accuracy: 0.7846\n",
            "Epoch 13/100\n",
            "719/719 [==============================] - 2s 3ms/step - loss: 0.3704 - accuracy: 0.8523 - val_loss: 0.4444 - val_accuracy: 0.7889\n",
            "Epoch 14/100\n",
            "719/719 [==============================] - 2s 3ms/step - loss: 0.3524 - accuracy: 0.8590 - val_loss: 0.4364 - val_accuracy: 0.7956\n",
            "Epoch 15/100\n",
            "719/719 [==============================] - 2s 3ms/step - loss: 0.3366 - accuracy: 0.8654 - val_loss: 0.4420 - val_accuracy: 0.7964\n",
            "Epoch 16/100\n",
            "719/719 [==============================] - 2s 3ms/step - loss: 0.3223 - accuracy: 0.8709 - val_loss: 0.4417 - val_accuracy: 0.7978\n",
            "Epoch 17/100\n",
            "719/719 [==============================] - 2s 3ms/step - loss: 0.3097 - accuracy: 0.8756 - val_loss: 0.4369 - val_accuracy: 0.8040\n",
            "Epoch 18/100\n",
            "719/719 [==============================] - 3s 4ms/step - loss: 0.2987 - accuracy: 0.8807 - val_loss: 0.4427 - val_accuracy: 0.8018\n",
            "Epoch 19/100\n",
            "719/719 [==============================] - 3s 3ms/step - loss: 0.2882 - accuracy: 0.8852 - val_loss: 0.4507 - val_accuracy: 0.8008\n",
            "Epoch 20/100\n",
            "719/719 [==============================] - 2s 3ms/step - loss: 0.2790 - accuracy: 0.8881 - val_loss: 0.4545 - val_accuracy: 0.8008\n",
            "Epoch 21/100\n",
            "719/719 [==============================] - 2s 3ms/step - loss: 0.2702 - accuracy: 0.8921 - val_loss: 0.4559 - val_accuracy: 0.8037\n",
            "Epoch 22/100\n",
            "719/719 [==============================] - 2s 3ms/step - loss: 0.2622 - accuracy: 0.8946 - val_loss: 0.4651 - val_accuracy: 0.8016\n",
            "Epoch 23/100\n",
            "719/719 [==============================] - 2s 3ms/step - loss: 0.2547 - accuracy: 0.8980 - val_loss: 0.4640 - val_accuracy: 0.8043\n",
            "Epoch 24/100\n",
            "719/719 [==============================] - 2s 3ms/step - loss: 0.2478 - accuracy: 0.9025 - val_loss: 0.4724 - val_accuracy: 0.8035\n",
            "Epoch 25/100\n",
            "719/719 [==============================] - 2s 3ms/step - loss: 0.2413 - accuracy: 0.9040 - val_loss: 0.4790 - val_accuracy: 0.8048\n",
            "Epoch 26/100\n",
            "719/719 [==============================] - 2s 3ms/step - loss: 0.2352 - accuracy: 0.9063 - val_loss: 0.4882 - val_accuracy: 0.8016\n",
            "Epoch 27/100\n",
            "719/719 [==============================] - 2s 3ms/step - loss: 0.2296 - accuracy: 0.9097 - val_loss: 0.4944 - val_accuracy: 0.8010\n",
            "Epoch 28/100\n",
            "719/719 [==============================] - 2s 3ms/step - loss: 0.2240 - accuracy: 0.9107 - val_loss: 0.4990 - val_accuracy: 0.8035\n",
            "Epoch 29/100\n",
            "719/719 [==============================] - 2s 3ms/step - loss: 0.2190 - accuracy: 0.9137 - val_loss: 0.5116 - val_accuracy: 0.7994\n",
            "Epoch 30/100\n",
            "719/719 [==============================] - 3s 4ms/step - loss: 0.2142 - accuracy: 0.9152 - val_loss: 0.5156 - val_accuracy: 0.8002\n",
            "Epoch 31/100\n",
            "719/719 [==============================] - 3s 5ms/step - loss: 0.2095 - accuracy: 0.9190 - val_loss: 0.5273 - val_accuracy: 0.7983\n",
            "Epoch 32/100\n",
            "719/719 [==============================] - 2s 3ms/step - loss: 0.2049 - accuracy: 0.9207 - val_loss: 0.5336 - val_accuracy: 0.7991\n",
            "Epoch 33/100\n",
            "719/719 [==============================] - 2s 3ms/step - loss: 0.2007 - accuracy: 0.9221 - val_loss: 0.5326 - val_accuracy: 0.8035\n",
            "Epoch 34/100\n",
            "719/719 [==============================] - 3s 4ms/step - loss: 0.1966 - accuracy: 0.9230 - val_loss: 0.5421 - val_accuracy: 0.8013\n",
            "Epoch 35/100\n",
            "719/719 [==============================] - 2s 3ms/step - loss: 0.1928 - accuracy: 0.9259 - val_loss: 0.5577 - val_accuracy: 0.8002\n",
            "Epoch 36/100\n",
            "719/719 [==============================] - 2s 3ms/step - loss: 0.1891 - accuracy: 0.9276 - val_loss: 0.5622 - val_accuracy: 0.8013\n",
            "Epoch 37/100\n",
            "719/719 [==============================] - 2s 3ms/step - loss: 0.1853 - accuracy: 0.9291 - val_loss: 0.5703 - val_accuracy: 0.8018\n",
            "Epoch 38/100\n",
            "719/719 [==============================] - 2s 3ms/step - loss: 0.1820 - accuracy: 0.9310 - val_loss: 0.5760 - val_accuracy: 0.8021\n",
            "Epoch 39/100\n",
            "719/719 [==============================] - 4s 6ms/step - loss: 0.1789 - accuracy: 0.9324 - val_loss: 0.5886 - val_accuracy: 0.7994\n",
            "Epoch 40/100\n",
            "719/719 [==============================] - 4s 6ms/step - loss: 0.1757 - accuracy: 0.9331 - val_loss: 0.5995 - val_accuracy: 0.7981\n",
            "Epoch 41/100\n",
            "719/719 [==============================] - 3s 4ms/step - loss: 0.1724 - accuracy: 0.9350 - val_loss: 0.6130 - val_accuracy: 0.7967\n",
            "Epoch 42/100\n",
            "719/719 [==============================] - 3s 4ms/step - loss: 0.1693 - accuracy: 0.9355 - val_loss: 0.6154 - val_accuracy: 0.7978\n",
            "Epoch 43/100\n",
            "719/719 [==============================] - 4s 5ms/step - loss: 0.1665 - accuracy: 0.9370 - val_loss: 0.6276 - val_accuracy: 0.7978\n",
            "Epoch 44/100\n",
            "719/719 [==============================] - 5s 7ms/step - loss: 0.1637 - accuracy: 0.9386 - val_loss: 0.6425 - val_accuracy: 0.7940\n",
            "Epoch 45/100\n",
            "719/719 [==============================] - 4s 5ms/step - loss: 0.1609 - accuracy: 0.9400 - val_loss: 0.6533 - val_accuracy: 0.7954\n",
            "Epoch 46/100\n",
            "719/719 [==============================] - 4s 6ms/step - loss: 0.1583 - accuracy: 0.9415 - val_loss: 0.6574 - val_accuracy: 0.7954\n",
            "Epoch 47/100\n",
            "719/719 [==============================] - 3s 4ms/step - loss: 0.1558 - accuracy: 0.9428 - val_loss: 0.6720 - val_accuracy: 0.7940\n",
            "Epoch 48/100\n",
            "719/719 [==============================] - 3s 4ms/step - loss: 0.1533 - accuracy: 0.9431 - val_loss: 0.6800 - val_accuracy: 0.7927\n",
            "Epoch 49/100\n",
            "719/719 [==============================] - 3s 4ms/step - loss: 0.1510 - accuracy: 0.9445 - val_loss: 0.6929 - val_accuracy: 0.7919\n",
            "Epoch 50/100\n",
            "719/719 [==============================] - 2s 3ms/step - loss: 0.1486 - accuracy: 0.9456 - val_loss: 0.7006 - val_accuracy: 0.7905\n",
            "Epoch 51/100\n",
            "719/719 [==============================] - 4s 5ms/step - loss: 0.1462 - accuracy: 0.9467 - val_loss: 0.7105 - val_accuracy: 0.7924\n",
            "Epoch 52/100\n",
            "719/719 [==============================] - 3s 3ms/step - loss: 0.1439 - accuracy: 0.9477 - val_loss: 0.7243 - val_accuracy: 0.7897\n",
            "Epoch 53/100\n",
            "719/719 [==============================] - 3s 4ms/step - loss: 0.1420 - accuracy: 0.9481 - val_loss: 0.7370 - val_accuracy: 0.7900\n",
            "Epoch 54/100\n",
            "719/719 [==============================] - 3s 4ms/step - loss: 0.1398 - accuracy: 0.9501 - val_loss: 0.7452 - val_accuracy: 0.7889\n",
            "Epoch 55/100\n",
            "719/719 [==============================] - 3s 4ms/step - loss: 0.1378 - accuracy: 0.9509 - val_loss: 0.7625 - val_accuracy: 0.7889\n",
            "Epoch 56/100\n",
            "719/719 [==============================] - 3s 4ms/step - loss: 0.1355 - accuracy: 0.9515 - val_loss: 0.7662 - val_accuracy: 0.7900\n",
            "Epoch 57/100\n",
            "719/719 [==============================] - 3s 4ms/step - loss: 0.1341 - accuracy: 0.9512 - val_loss: 0.7818 - val_accuracy: 0.7878\n",
            "Epoch 58/100\n",
            "719/719 [==============================] - 3s 4ms/step - loss: 0.1318 - accuracy: 0.9535 - val_loss: 0.7929 - val_accuracy: 0.7870\n",
            "Epoch 59/100\n",
            "719/719 [==============================] - 2s 3ms/step - loss: 0.1300 - accuracy: 0.9538 - val_loss: 0.8031 - val_accuracy: 0.7875\n",
            "Epoch 60/100\n",
            "719/719 [==============================] - 2s 3ms/step - loss: 0.1282 - accuracy: 0.9549 - val_loss: 0.8150 - val_accuracy: 0.7873\n",
            "Epoch 61/100\n",
            "719/719 [==============================] - 3s 4ms/step - loss: 0.1264 - accuracy: 0.9553 - val_loss: 0.8290 - val_accuracy: 0.7878\n",
            "Epoch 62/100\n",
            "719/719 [==============================] - 3s 3ms/step - loss: 0.1247 - accuracy: 0.9567 - val_loss: 0.8416 - val_accuracy: 0.7865\n",
            "Epoch 63/100\n",
            "719/719 [==============================] - 2s 3ms/step - loss: 0.1230 - accuracy: 0.9575 - val_loss: 0.8493 - val_accuracy: 0.7859\n",
            "Epoch 64/100\n",
            "719/719 [==============================] - 3s 4ms/step - loss: 0.1212 - accuracy: 0.9583 - val_loss: 0.8639 - val_accuracy: 0.7854\n",
            "Epoch 65/100\n",
            "719/719 [==============================] - 2s 3ms/step - loss: 0.1197 - accuracy: 0.9590 - val_loss: 0.8807 - val_accuracy: 0.7843\n",
            "Epoch 66/100\n",
            "719/719 [==============================] - 2s 3ms/step - loss: 0.1183 - accuracy: 0.9594 - val_loss: 0.8895 - val_accuracy: 0.7848\n",
            "Epoch 67/100\n",
            "719/719 [==============================] - 2s 3ms/step - loss: 0.1166 - accuracy: 0.9604 - val_loss: 0.9026 - val_accuracy: 0.7846\n",
            "Epoch 68/100\n",
            "719/719 [==============================] - 2s 3ms/step - loss: 0.1150 - accuracy: 0.9617 - val_loss: 0.9126 - val_accuracy: 0.7848\n",
            "Epoch 69/100\n",
            "719/719 [==============================] - 3s 3ms/step - loss: 0.1135 - accuracy: 0.9615 - val_loss: 0.9276 - val_accuracy: 0.7840\n",
            "Epoch 70/100\n",
            "719/719 [==============================] - 2s 3ms/step - loss: 0.1120 - accuracy: 0.9629 - val_loss: 0.9378 - val_accuracy: 0.7830\n",
            "Epoch 71/100\n",
            "719/719 [==============================] - 2s 3ms/step - loss: 0.1106 - accuracy: 0.9632 - val_loss: 0.9514 - val_accuracy: 0.7822\n",
            "Epoch 72/100\n",
            "719/719 [==============================] - 3s 3ms/step - loss: 0.1093 - accuracy: 0.9631 - val_loss: 0.9663 - val_accuracy: 0.7819\n",
            "Epoch 73/100\n",
            "719/719 [==============================] - 2s 3ms/step - loss: 0.1077 - accuracy: 0.9642 - val_loss: 0.9787 - val_accuracy: 0.7822\n",
            "Epoch 74/100\n",
            "719/719 [==============================] - 3s 3ms/step - loss: 0.1068 - accuracy: 0.9642 - val_loss: 0.9928 - val_accuracy: 0.7808\n",
            "Epoch 75/100\n",
            "719/719 [==============================] - 2s 3ms/step - loss: 0.1053 - accuracy: 0.9648 - val_loss: 1.0068 - val_accuracy: 0.7797\n",
            "Epoch 76/100\n",
            "719/719 [==============================] - 2s 3ms/step - loss: 0.1039 - accuracy: 0.9654 - val_loss: 1.0171 - val_accuracy: 0.7797\n",
            "Epoch 77/100\n",
            "719/719 [==============================] - 2s 3ms/step - loss: 0.1027 - accuracy: 0.9664 - val_loss: 1.0300 - val_accuracy: 0.7792\n",
            "Epoch 78/100\n",
            "719/719 [==============================] - 3s 4ms/step - loss: 0.1012 - accuracy: 0.9669 - val_loss: 1.0457 - val_accuracy: 0.7784\n",
            "Epoch 79/100\n",
            "719/719 [==============================] - 2s 3ms/step - loss: 0.1001 - accuracy: 0.9665 - val_loss: 1.0599 - val_accuracy: 0.7792\n",
            "Epoch 80/100\n",
            "719/719 [==============================] - 3s 3ms/step - loss: 0.0989 - accuracy: 0.9679 - val_loss: 1.0710 - val_accuracy: 0.7797\n",
            "Epoch 81/100\n",
            "719/719 [==============================] - 3s 4ms/step - loss: 0.0978 - accuracy: 0.9685 - val_loss: 1.0831 - val_accuracy: 0.7781\n",
            "Epoch 82/100\n",
            "719/719 [==============================] - 3s 4ms/step - loss: 0.0966 - accuracy: 0.9682 - val_loss: 1.0990 - val_accuracy: 0.7803\n",
            "Epoch 83/100\n",
            "719/719 [==============================] - 3s 3ms/step - loss: 0.0955 - accuracy: 0.9692 - val_loss: 1.1100 - val_accuracy: 0.7786\n",
            "Epoch 84/100\n",
            "719/719 [==============================] - 3s 4ms/step - loss: 0.0943 - accuracy: 0.9697 - val_loss: 1.1258 - val_accuracy: 0.7786\n",
            "Epoch 85/100\n",
            "719/719 [==============================] - 3s 4ms/step - loss: 0.0934 - accuracy: 0.9696 - val_loss: 1.1371 - val_accuracy: 0.7800\n",
            "Epoch 86/100\n",
            "719/719 [==============================] - 2s 3ms/step - loss: 0.0920 - accuracy: 0.9707 - val_loss: 1.1519 - val_accuracy: 0.7778\n",
            "Epoch 87/100\n",
            "719/719 [==============================] - 2s 3ms/step - loss: 0.0911 - accuracy: 0.9703 - val_loss: 1.1641 - val_accuracy: 0.7789\n",
            "Epoch 88/100\n",
            "719/719 [==============================] - 3s 4ms/step - loss: 0.0900 - accuracy: 0.9708 - val_loss: 1.1772 - val_accuracy: 0.7786\n",
            "Epoch 89/100\n",
            "719/719 [==============================] - 3s 3ms/step - loss: 0.0891 - accuracy: 0.9708 - val_loss: 1.1917 - val_accuracy: 0.7773\n",
            "Epoch 90/100\n",
            "719/719 [==============================] - 3s 3ms/step - loss: 0.0879 - accuracy: 0.9721 - val_loss: 1.2049 - val_accuracy: 0.7784\n",
            "Epoch 91/100\n",
            "719/719 [==============================] - 3s 4ms/step - loss: 0.0868 - accuracy: 0.9726 - val_loss: 1.2182 - val_accuracy: 0.7776\n",
            "Epoch 92/100\n",
            "719/719 [==============================] - 3s 3ms/step - loss: 0.0860 - accuracy: 0.9728 - val_loss: 1.2347 - val_accuracy: 0.7757\n",
            "Epoch 93/100\n",
            "719/719 [==============================] - 3s 4ms/step - loss: 0.0850 - accuracy: 0.9726 - val_loss: 1.2466 - val_accuracy: 0.7760\n",
            "Epoch 94/100\n",
            "719/719 [==============================] - 2s 3ms/step - loss: 0.0841 - accuracy: 0.9730 - val_loss: 1.2621 - val_accuracy: 0.7762\n",
            "Epoch 95/100\n",
            "719/719 [==============================] - 3s 3ms/step - loss: 0.0831 - accuracy: 0.9737 - val_loss: 1.2748 - val_accuracy: 0.7760\n",
            "Epoch 96/100\n",
            "719/719 [==============================] - 3s 3ms/step - loss: 0.0821 - accuracy: 0.9743 - val_loss: 1.2897 - val_accuracy: 0.7762\n",
            "Epoch 97/100\n",
            "719/719 [==============================] - 4s 5ms/step - loss: 0.0814 - accuracy: 0.9747 - val_loss: 1.3052 - val_accuracy: 0.7735\n",
            "Epoch 98/100\n",
            "719/719 [==============================] - 2s 3ms/step - loss: 0.0806 - accuracy: 0.9746 - val_loss: 1.3175 - val_accuracy: 0.7757\n",
            "Epoch 99/100\n",
            "719/719 [==============================] - 2s 3ms/step - loss: 0.0796 - accuracy: 0.9753 - val_loss: 1.3300 - val_accuracy: 0.7760\n",
            "Epoch 100/100\n",
            "719/719 [==============================] - 3s 3ms/step - loss: 0.0789 - accuracy: 0.9750 - val_loss: 1.3444 - val_accuracy: 0.7765\n"
          ]
        }
      ]
    },
    {
      "cell_type": "code",
      "source": [
        "plt.plot(history.history['accuracy']);\n",
        "plt.plot(history.history['val_accuracy']);\n",
        "plt.legend(['accuracy', 'val_accuracy']);"
      ],
      "metadata": {
        "colab": {
          "base_uri": "https://localhost:8080/",
          "height": 265
        },
        "id": "X-uXM_lpolRu",
        "outputId": "1aed45c5-9071-4b91-c4f2-8c1d9180106b"
      },
      "execution_count": 17,
      "outputs": [
        {
          "output_type": "display_data",
          "data": {
            "text/plain": [
              "<Figure size 432x288 with 1 Axes>"
            ],
            "image/png": "[encoded data removed]"
          },
          "metadata": {
            "needs_background": "light"
          }
        }
      ]
    },
    {
      "cell_type": "code",
      "source": [
        "plt.plot(history.history['loss']);\n",
        "plt.plot(history.history['val_loss']);\n",
        "plt.legend(['loss', 'val_loss']);"
      ],
      "metadata": {
        "colab": {
          "base_uri": "https://localhost:8080/",
          "height": 268
        },
        "id": "M2_D7H5JEXIJ",
        "outputId": "be89accf-4042-4a89-9166-bc2ac19b7413"
      },
      "execution_count": 18,
      "outputs": [
        {
          "output_type": "display_data",
          "data": {
            "text/plain": [
              "<Figure size 432x288 with 1 Axes>"
            ],
            "image/png": "[encoded data removed]"
          },
          "metadata": {
            "needs_background": "light"
          }
        }
      ]
    },
    {
      "cell_type": "code",
      "source": [
        "plt.plot(xs,ys)\n",
        "plt.axis([300,10000,0,100])\n",
        "plt.show()"
      ],
      "metadata": {
        "colab": {
          "base_uri": "https://localhost:8080/",
          "height": 269
        },
        "id": "TEGxO0zwtsxZ",
        "outputId": "c0264acd-b8f8-40a0-81df-b860d34fcb80"
      },
      "execution_count": 19,
      "outputs": [
        {
          "output_type": "display_data",
          "data": {
            "text/plain": [
              "<Figure size 432x288 with 1 Axes>"
            ],
            "image/png": "[encoded data removed]"
          },
          "metadata": {
            "needs_background": "light"
          }
        }
      ]
    },
    {
      "cell_type": "markdown",
      "source": [
        "reducing the size of the vocabulary to prevent the training set from overfitting on low-frequency words can work. You must reduce the 'vocab_size'."
      ],
      "metadata": {
        "id": "AX7LYnx_3WcI"
      }
    },
    {
      "cell_type": "markdown",
      "source": [
        "For this example, an embedding dimension of 16 was arbitrarily chosen. In this instance words are encoded as vectors in 16-dimensional space, with their directions indicating their overall meaning. But is 16 a good number? With only two thousand words in our vocabulary it might be on the high side, leading to a high degree of sparseness of direction.\n",
        "\n",
        "Best practice for embedding size is to have it be the fourth root of the vocab size. The fourth root of 2,000 is 6.687, so let’s explore what happens if we change the embedding dimension to 7 and retrain the model for 100 epochs."
      ],
      "metadata": {
        "id": "qb4RgFsR33P5"
      }
    },
    {
      "cell_type": "code",
      "source": [
        "model = tf.keras.Sequential([tf.keras.layers.Embedding(vocab_size, 7),\n",
        "                             tf.keras.layers.GlobalAveragePooling1D(),\n",
        "                             tf.keras.layers.Dense(24, activation='relu'),\n",
        "                             tf.keras.layers.Dense(1, activation='sigmoid')\n",
        "                             ])\n",
        "adam = tf.keras.optimizers.Adam(learning_rate=0.0001, beta_1=0.9, beta_2=0.999, amsgrad=False)\n",
        "model.compile(loss='binary_crossentropy',optimizer=adam, metrics=['accuracy'])\n",
        "\n",
        "model.summary()"
      ],
      "metadata": {
        "colab": {
          "base_uri": "https://localhost:8080/"
        },
        "id": "dfLk3Wgg4hsu",
        "outputId": "2f32559c-ad39-4db9-e24f-116512a359a1"
      },
      "execution_count": 22,
      "outputs": [
        {
          "output_type": "stream",
          "name": "stdout",
          "text": [
            "Model: \"sequential_1\"\n",
            "_________________________________________________________________\n",
            " Layer (type)                Output Shape              Param #   \n",
            "=================================================================\n",
            " embedding_1 (Embedding)     (None, None, 7)           70000     \n",
            "                                                                 \n",
            " global_average_pooling1d_1   (None, 7)                0         \n",
            " (GlobalAveragePooling1D)                                        \n",
            "                                                                 \n",
            " dense_2 (Dense)             (None, 24)                192       \n",
            "                                                                 \n",
            " dense_3 (Dense)             (None, 1)                 25        \n",
            "                                                                 \n",
            "=================================================================\n",
            "Total params: 70,217\n",
            "Trainable params: 70,217\n",
            "Non-trainable params: 0\n",
            "_________________________________________________________________\n"
          ]
        }
      ]
    },
    {
      "cell_type": "code",
      "source": [
        "num_epochs = 100\n",
        "history = model.fit(training_padded, training_labels, epochs=num_epochs, validation_data=(testing_padded, testing_labels))"
      ],
      "metadata": {
        "colab": {
          "base_uri": "https://localhost:8080/"
        },
        "id": "nDJ5t0XR4m5_",
        "outputId": "c7cea9fa-6471-4801-d6e8-2c33163a2950"
      },
      "execution_count": 23,
      "outputs": [
        {
          "output_type": "stream",
          "name": "stdout",
          "text": [
            "Epoch 1/100\n",
            "719/719 [==============================] - 3s 3ms/step - loss: 0.6894 - accuracy: 0.5527 - val_loss: 0.6850 - val_accuracy: 0.5700\n",
            "Epoch 2/100\n",
            "719/719 [==============================] - 2s 2ms/step - loss: 0.6846 - accuracy: 0.5596 - val_loss: 0.6802 - val_accuracy: 0.5700\n",
            "Epoch 3/100\n",
            "719/719 [==============================] - 2s 2ms/step - loss: 0.6816 - accuracy: 0.5596 - val_loss: 0.6756 - val_accuracy: 0.5700\n",
            "Epoch 4/100\n",
            "719/719 [==============================] - 2s 3ms/step - loss: 0.6773 - accuracy: 0.5597 - val_loss: 0.6687 - val_accuracy: 0.5724\n",
            "Epoch 5/100\n",
            "719/719 [==============================] - 2s 3ms/step - loss: 0.6703 - accuracy: 0.5607 - val_loss: 0.6585 - val_accuracy: 0.6250\n",
            "Epoch 6/100\n",
            "719/719 [==============================] - 2s 3ms/step - loss: 0.6595 - accuracy: 0.5754 - val_loss: 0.6438 - val_accuracy: 0.6881\n",
            "Epoch 7/100\n",
            "719/719 [==============================] - 2s 2ms/step - loss: 0.6445 - accuracy: 0.6230 - val_loss: 0.6254 - val_accuracy: 0.7269\n",
            "Epoch 8/100\n",
            "719/719 [==============================] - 2s 2ms/step - loss: 0.6252 - accuracy: 0.6735 - val_loss: 0.6066 - val_accuracy: 0.7382\n",
            "Epoch 9/100\n",
            "719/719 [==============================] - 2s 2ms/step - loss: 0.6022 - accuracy: 0.7188 - val_loss: 0.5830 - val_accuracy: 0.7441\n",
            "Epoch 10/100\n",
            "719/719 [==============================] - 2s 2ms/step - loss: 0.5772 - accuracy: 0.7442 - val_loss: 0.5633 - val_accuracy: 0.7476\n",
            "Epoch 11/100\n",
            "719/719 [==============================] - 2s 3ms/step - loss: 0.5511 - accuracy: 0.7647 - val_loss: 0.5441 - val_accuracy: 0.7501\n",
            "Epoch 12/100\n",
            "719/719 [==============================] - 2s 3ms/step - loss: 0.5252 - accuracy: 0.7815 - val_loss: 0.5239 - val_accuracy: 0.7565\n",
            "Epoch 13/100\n",
            "719/719 [==============================] - 2s 2ms/step - loss: 0.4990 - accuracy: 0.7953 - val_loss: 0.5077 - val_accuracy: 0.7582\n",
            "Epoch 14/100\n",
            "719/719 [==============================] - 2s 3ms/step - loss: 0.4749 - accuracy: 0.8070 - val_loss: 0.4935 - val_accuracy: 0.7633\n",
            "Epoch 15/100\n",
            "719/719 [==============================] - 2s 3ms/step - loss: 0.4528 - accuracy: 0.8166 - val_loss: 0.4831 - val_accuracy: 0.7676\n",
            "Epoch 16/100\n",
            "719/719 [==============================] - 2s 2ms/step - loss: 0.4327 - accuracy: 0.8275 - val_loss: 0.4714 - val_accuracy: 0.7743\n",
            "Epoch 17/100\n",
            "719/719 [==============================] - 2s 3ms/step - loss: 0.4144 - accuracy: 0.8330 - val_loss: 0.4582 - val_accuracy: 0.7800\n",
            "Epoch 18/100\n",
            "719/719 [==============================] - 2s 3ms/step - loss: 0.3979 - accuracy: 0.8402 - val_loss: 0.4487 - val_accuracy: 0.7843\n",
            "Epoch 19/100\n",
            "719/719 [==============================] - 2s 3ms/step - loss: 0.3829 - accuracy: 0.8453 - val_loss: 0.4495 - val_accuracy: 0.7857\n",
            "Epoch 20/100\n",
            "719/719 [==============================] - 2s 2ms/step - loss: 0.3695 - accuracy: 0.8519 - val_loss: 0.4379 - val_accuracy: 0.7956\n",
            "Epoch 21/100\n",
            "719/719 [==============================] - 2s 3ms/step - loss: 0.3573 - accuracy: 0.8559 - val_loss: 0.4426 - val_accuracy: 0.7943\n",
            "Epoch 22/100\n",
            "719/719 [==============================] - 2s 2ms/step - loss: 0.3461 - accuracy: 0.8611 - val_loss: 0.4402 - val_accuracy: 0.7994\n",
            "Epoch 23/100\n",
            "719/719 [==============================] - 2s 3ms/step - loss: 0.3358 - accuracy: 0.8653 - val_loss: 0.4382 - val_accuracy: 0.8008\n",
            "Epoch 24/100\n",
            "719/719 [==============================] - 2s 2ms/step - loss: 0.3263 - accuracy: 0.8684 - val_loss: 0.4335 - val_accuracy: 0.8037\n",
            "Epoch 25/100\n",
            "719/719 [==============================] - 2s 2ms/step - loss: 0.3178 - accuracy: 0.8727 - val_loss: 0.4402 - val_accuracy: 0.8016\n",
            "Epoch 26/100\n",
            "719/719 [==============================] - 2s 2ms/step - loss: 0.3096 - accuracy: 0.8747 - val_loss: 0.4385 - val_accuracy: 0.8037\n",
            "Epoch 27/100\n",
            "719/719 [==============================] - 2s 2ms/step - loss: 0.3021 - accuracy: 0.8790 - val_loss: 0.4485 - val_accuracy: 0.7999\n",
            "Epoch 28/100\n",
            "719/719 [==============================] - 2s 2ms/step - loss: 0.2950 - accuracy: 0.8814 - val_loss: 0.4431 - val_accuracy: 0.8040\n",
            "Epoch 29/100\n",
            "719/719 [==============================] - 2s 3ms/step - loss: 0.2884 - accuracy: 0.8845 - val_loss: 0.4439 - val_accuracy: 0.8040\n",
            "Epoch 30/100\n",
            "719/719 [==============================] - 2s 3ms/step - loss: 0.2820 - accuracy: 0.8875 - val_loss: 0.4437 - val_accuracy: 0.8040\n",
            "Epoch 31/100\n",
            "719/719 [==============================] - 2s 3ms/step - loss: 0.2760 - accuracy: 0.8898 - val_loss: 0.4487 - val_accuracy: 0.8035\n",
            "Epoch 32/100\n",
            "719/719 [==============================] - 2s 3ms/step - loss: 0.2706 - accuracy: 0.8920 - val_loss: 0.4534 - val_accuracy: 0.8026\n",
            "Epoch 33/100\n",
            "719/719 [==============================] - 2s 3ms/step - loss: 0.2653 - accuracy: 0.8939 - val_loss: 0.4553 - val_accuracy: 0.8029\n",
            "Epoch 34/100\n",
            "719/719 [==============================] - 2s 3ms/step - loss: 0.2600 - accuracy: 0.8959 - val_loss: 0.4610 - val_accuracy: 0.8016\n",
            "Epoch 35/100\n",
            "719/719 [==============================] - 2s 3ms/step - loss: 0.2552 - accuracy: 0.8984 - val_loss: 0.4668 - val_accuracy: 0.8010\n",
            "Epoch 36/100\n",
            "719/719 [==============================] - 2s 3ms/step - loss: 0.2506 - accuracy: 0.9016 - val_loss: 0.4668 - val_accuracy: 0.8032\n",
            "Epoch 37/100\n",
            "719/719 [==============================] - 2s 3ms/step - loss: 0.2460 - accuracy: 0.9026 - val_loss: 0.4658 - val_accuracy: 0.8059\n",
            "Epoch 38/100\n",
            "719/719 [==============================] - 2s 3ms/step - loss: 0.2419 - accuracy: 0.9041 - val_loss: 0.4762 - val_accuracy: 0.8032\n",
            "Epoch 39/100\n",
            "719/719 [==============================] - 2s 3ms/step - loss: 0.2376 - accuracy: 0.9058 - val_loss: 0.4803 - val_accuracy: 0.8024\n",
            "Epoch 40/100\n",
            "719/719 [==============================] - 2s 3ms/step - loss: 0.2338 - accuracy: 0.9072 - val_loss: 0.4858 - val_accuracy: 0.8021\n",
            "Epoch 41/100\n",
            "719/719 [==============================] - 2s 3ms/step - loss: 0.2298 - accuracy: 0.9096 - val_loss: 0.4855 - val_accuracy: 0.8051\n",
            "Epoch 42/100\n",
            "719/719 [==============================] - 2s 3ms/step - loss: 0.2261 - accuracy: 0.9108 - val_loss: 0.4894 - val_accuracy: 0.8056\n",
            "Epoch 43/100\n",
            "719/719 [==============================] - 2s 3ms/step - loss: 0.2226 - accuracy: 0.9122 - val_loss: 0.4994 - val_accuracy: 0.8021\n",
            "Epoch 44/100\n",
            "719/719 [==============================] - 2s 2ms/step - loss: 0.2193 - accuracy: 0.9133 - val_loss: 0.5010 - val_accuracy: 0.8043\n",
            "Epoch 45/100\n",
            "719/719 [==============================] - 2s 2ms/step - loss: 0.2159 - accuracy: 0.9147 - val_loss: 0.5089 - val_accuracy: 0.8026\n",
            "Epoch 46/100\n",
            "719/719 [==============================] - 2s 3ms/step - loss: 0.2128 - accuracy: 0.9168 - val_loss: 0.5120 - val_accuracy: 0.8021\n",
            "Epoch 47/100\n",
            "719/719 [==============================] - 2s 3ms/step - loss: 0.2097 - accuracy: 0.9176 - val_loss: 0.5163 - val_accuracy: 0.8024\n",
            "Epoch 48/100\n",
            "719/719 [==============================] - 2s 3ms/step - loss: 0.2067 - accuracy: 0.9197 - val_loss: 0.5225 - val_accuracy: 0.8018\n",
            "Epoch 49/100\n",
            "719/719 [==============================] - 2s 3ms/step - loss: 0.2038 - accuracy: 0.9211 - val_loss: 0.5278 - val_accuracy: 0.8013\n",
            "Epoch 50/100\n",
            "719/719 [==============================] - 2s 3ms/step - loss: 0.2012 - accuracy: 0.9210 - val_loss: 0.5324 - val_accuracy: 0.8021\n",
            "Epoch 51/100\n",
            "719/719 [==============================] - 2s 3ms/step - loss: 0.1983 - accuracy: 0.9235 - val_loss: 0.5440 - val_accuracy: 0.7986\n",
            "Epoch 52/100\n",
            "719/719 [==============================] - 2s 2ms/step - loss: 0.1957 - accuracy: 0.9240 - val_loss: 0.5441 - val_accuracy: 0.8010\n",
            "Epoch 53/100\n",
            "719/719 [==============================] - 2s 3ms/step - loss: 0.1931 - accuracy: 0.9258 - val_loss: 0.5515 - val_accuracy: 0.8002\n",
            "Epoch 54/100\n",
            "719/719 [==============================] - 2s 3ms/step - loss: 0.1906 - accuracy: 0.9264 - val_loss: 0.5576 - val_accuracy: 0.8018\n",
            "Epoch 55/100\n",
            "719/719 [==============================] - 2s 3ms/step - loss: 0.1882 - accuracy: 0.9275 - val_loss: 0.5644 - val_accuracy: 0.8002\n",
            "Epoch 56/100\n",
            "719/719 [==============================] - 2s 3ms/step - loss: 0.1857 - accuracy: 0.9297 - val_loss: 0.5667 - val_accuracy: 0.8008\n",
            "Epoch 57/100\n",
            "719/719 [==============================] - 2s 3ms/step - loss: 0.1834 - accuracy: 0.9302 - val_loss: 0.5697 - val_accuracy: 0.8016\n",
            "Epoch 58/100\n",
            "719/719 [==============================] - 2s 2ms/step - loss: 0.1811 - accuracy: 0.9308 - val_loss: 0.5788 - val_accuracy: 0.8008\n",
            "Epoch 59/100\n",
            "719/719 [==============================] - 2s 3ms/step - loss: 0.1790 - accuracy: 0.9320 - val_loss: 0.5914 - val_accuracy: 0.7981\n",
            "Epoch 60/100\n",
            "719/719 [==============================] - 2s 3ms/step - loss: 0.1768 - accuracy: 0.9327 - val_loss: 0.5965 - val_accuracy: 0.7986\n",
            "Epoch 61/100\n",
            "719/719 [==============================] - 2s 3ms/step - loss: 0.1748 - accuracy: 0.9335 - val_loss: 0.5965 - val_accuracy: 0.7999\n",
            "Epoch 62/100\n",
            "719/719 [==============================] - 2s 2ms/step - loss: 0.1728 - accuracy: 0.9345 - val_loss: 0.6020 - val_accuracy: 0.7999\n",
            "Epoch 63/100\n",
            "719/719 [==============================] - 2s 3ms/step - loss: 0.1706 - accuracy: 0.9360 - val_loss: 0.6065 - val_accuracy: 0.7999\n",
            "Epoch 64/100\n",
            "719/719 [==============================] - 2s 3ms/step - loss: 0.1687 - accuracy: 0.9368 - val_loss: 0.6167 - val_accuracy: 0.7989\n",
            "Epoch 65/100\n",
            "719/719 [==============================] - 2s 3ms/step - loss: 0.1670 - accuracy: 0.9377 - val_loss: 0.6259 - val_accuracy: 0.7972\n",
            "Epoch 66/100\n",
            "719/719 [==============================] - 2s 3ms/step - loss: 0.1651 - accuracy: 0.9384 - val_loss: 0.6287 - val_accuracy: 0.7972\n",
            "Epoch 67/100\n",
            "719/719 [==============================] - 2s 3ms/step - loss: 0.1631 - accuracy: 0.9397 - val_loss: 0.6390 - val_accuracy: 0.7964\n",
            "Epoch 68/100\n",
            "719/719 [==============================] - 2s 3ms/step - loss: 0.1613 - accuracy: 0.9403 - val_loss: 0.6482 - val_accuracy: 0.7959\n",
            "Epoch 69/100\n",
            "719/719 [==============================] - 2s 3ms/step - loss: 0.1596 - accuracy: 0.9410 - val_loss: 0.6514 - val_accuracy: 0.7959\n",
            "Epoch 70/100\n",
            "719/719 [==============================] - 2s 3ms/step - loss: 0.1579 - accuracy: 0.9412 - val_loss: 0.6540 - val_accuracy: 0.7967\n",
            "Epoch 71/100\n",
            "719/719 [==============================] - 2s 3ms/step - loss: 0.1560 - accuracy: 0.9428 - val_loss: 0.6637 - val_accuracy: 0.7962\n",
            "Epoch 72/100\n",
            "719/719 [==============================] - 2s 2ms/step - loss: 0.1544 - accuracy: 0.9429 - val_loss: 0.6717 - val_accuracy: 0.7959\n",
            "Epoch 73/100\n",
            "719/719 [==============================] - 2s 3ms/step - loss: 0.1529 - accuracy: 0.9436 - val_loss: 0.6807 - val_accuracy: 0.7943\n",
            "Epoch 74/100\n",
            "719/719 [==============================] - 2s 3ms/step - loss: 0.1511 - accuracy: 0.9453 - val_loss: 0.6832 - val_accuracy: 0.7935\n",
            "Epoch 75/100\n",
            "719/719 [==============================] - 2s 3ms/step - loss: 0.1496 - accuracy: 0.9457 - val_loss: 0.6912 - val_accuracy: 0.7932\n",
            "Epoch 76/100\n",
            "719/719 [==============================] - 2s 3ms/step - loss: 0.1483 - accuracy: 0.9457 - val_loss: 0.7028 - val_accuracy: 0.7916\n",
            "Epoch 77/100\n",
            "719/719 [==============================] - 2s 3ms/step - loss: 0.1466 - accuracy: 0.9465 - val_loss: 0.7124 - val_accuracy: 0.7908\n",
            "Epoch 78/100\n",
            "719/719 [==============================] - 2s 3ms/step - loss: 0.1451 - accuracy: 0.9478 - val_loss: 0.7146 - val_accuracy: 0.7916\n",
            "Epoch 79/100\n",
            "719/719 [==============================] - 2s 3ms/step - loss: 0.1437 - accuracy: 0.9484 - val_loss: 0.7250 - val_accuracy: 0.7910\n",
            "Epoch 80/100\n",
            "719/719 [==============================] - 2s 3ms/step - loss: 0.1422 - accuracy: 0.9487 - val_loss: 0.7330 - val_accuracy: 0.7894\n",
            "Epoch 81/100\n",
            "719/719 [==============================] - 2s 3ms/step - loss: 0.1408 - accuracy: 0.9493 - val_loss: 0.7372 - val_accuracy: 0.7894\n",
            "Epoch 82/100\n",
            "719/719 [==============================] - 2s 3ms/step - loss: 0.1395 - accuracy: 0.9500 - val_loss: 0.7499 - val_accuracy: 0.7905\n",
            "Epoch 83/100\n",
            "719/719 [==============================] - 2s 3ms/step - loss: 0.1382 - accuracy: 0.9511 - val_loss: 0.7578 - val_accuracy: 0.7900\n",
            "Epoch 84/100\n",
            "719/719 [==============================] - 2s 3ms/step - loss: 0.1367 - accuracy: 0.9506 - val_loss: 0.7658 - val_accuracy: 0.7889\n",
            "Epoch 85/100\n",
            "719/719 [==============================] - 2s 3ms/step - loss: 0.1354 - accuracy: 0.9520 - val_loss: 0.7739 - val_accuracy: 0.7886\n",
            "Epoch 86/100\n",
            "719/719 [==============================] - 2s 3ms/step - loss: 0.1342 - accuracy: 0.9531 - val_loss: 0.7844 - val_accuracy: 0.7886\n",
            "Epoch 87/100\n",
            "719/719 [==============================] - 2s 3ms/step - loss: 0.1329 - accuracy: 0.9530 - val_loss: 0.7861 - val_accuracy: 0.7886\n",
            "Epoch 88/100\n",
            "719/719 [==============================] - 2s 3ms/step - loss: 0.1316 - accuracy: 0.9528 - val_loss: 0.7962 - val_accuracy: 0.7875\n",
            "Epoch 89/100\n",
            "719/719 [==============================] - 2s 3ms/step - loss: 0.1304 - accuracy: 0.9534 - val_loss: 0.8045 - val_accuracy: 0.7870\n",
            "Epoch 90/100\n",
            "719/719 [==============================] - 2s 3ms/step - loss: 0.1293 - accuracy: 0.9540 - val_loss: 0.8096 - val_accuracy: 0.7854\n",
            "Epoch 91/100\n",
            "719/719 [==============================] - 2s 3ms/step - loss: 0.1279 - accuracy: 0.9550 - val_loss: 0.8170 - val_accuracy: 0.7862\n",
            "Epoch 92/100\n",
            "719/719 [==============================] - 2s 3ms/step - loss: 0.1267 - accuracy: 0.9562 - val_loss: 0.8311 - val_accuracy: 0.7859\n",
            "Epoch 93/100\n",
            "719/719 [==============================] - 2s 3ms/step - loss: 0.1255 - accuracy: 0.9564 - val_loss: 0.8413 - val_accuracy: 0.7851\n",
            "Epoch 94/100\n",
            "719/719 [==============================] - 2s 3ms/step - loss: 0.1244 - accuracy: 0.9563 - val_loss: 0.8435 - val_accuracy: 0.7859\n",
            "Epoch 95/100\n",
            "719/719 [==============================] - 2s 3ms/step - loss: 0.1234 - accuracy: 0.9573 - val_loss: 0.8550 - val_accuracy: 0.7857\n",
            "Epoch 96/100\n",
            "719/719 [==============================] - 2s 3ms/step - loss: 0.1224 - accuracy: 0.9574 - val_loss: 0.8610 - val_accuracy: 0.7851\n",
            "Epoch 97/100\n",
            "719/719 [==============================] - 2s 3ms/step - loss: 0.1212 - accuracy: 0.9581 - val_loss: 0.8749 - val_accuracy: 0.7862\n",
            "Epoch 98/100\n",
            "719/719 [==============================] - 2s 3ms/step - loss: 0.1202 - accuracy: 0.9587 - val_loss: 0.8806 - val_accuracy: 0.7854\n",
            "Epoch 99/100\n",
            "719/719 [==============================] - 2s 3ms/step - loss: 0.1190 - accuracy: 0.9588 - val_loss: 0.8933 - val_accuracy: 0.7865\n",
            "Epoch 100/100\n",
            "719/719 [==============================] - 2s 3ms/step - loss: 0.1180 - accuracy: 0.9597 - val_loss: 0.8977 - val_accuracy: 0.7843\n"
          ]
        }
      ]
    },
    {
      "cell_type": "code",
      "source": [
        "plt.plot(history.history['accuracy']);\n",
        "plt.plot(history.history['val_accuracy']);\n",
        "plt.legend(['accuracy', 'val_accuracy']);"
      ],
      "metadata": {
        "colab": {
          "base_uri": "https://localhost:8080/",
          "height": 265
        },
        "id": "h-J7ykrv4zBo",
        "outputId": "50025b9e-6fd3-440b-fe8b-e9446cd8db6e"
      },
      "execution_count": 24,
      "outputs": [
        {
          "output_type": "display_data",
          "data": {
            "text/plain": [
              "<Figure size 432x288 with 1 Axes>"
            ],
            "image/png": "[encoded data removed]"
          },
          "metadata": {
            "needs_background": "light"
          }
        }
      ]
    },
    {
      "cell_type": "code",
      "source": [
        "plt.plot(history.history['loss']);\n",
        "plt.plot(history.history['val_loss']);\n",
        "plt.legend(['loss', 'val_loss']);"
      ],
      "metadata": {
        "colab": {
          "base_uri": "https://localhost:8080/",
          "height": 265
        },
        "id": "qtZO1OnSEfZ7",
        "outputId": "048b1f29-dcb7-4947-b0ac-8d50994c63e5"
      },
      "execution_count": 25,
      "outputs": [
        {
          "output_type": "display_data",
          "data": {
            "text/plain": [
              "<Figure size 432x288 with 1 Axes>"
            ],
            "image/png": "[encoded data removed]"
          },
          "metadata": {
            "needs_background": "light"
          }
        }
      ]
    },
    {
      "cell_type": "markdown",
      "source": [
        "This isn’t much different from the results in Figure 6-6, but reducing the embedding dimensionality allows the model to train over 30% faster."
      ],
      "metadata": {
        "id": "lJ_6PjGG4w6A"
      }
    },
    {
      "cell_type": "markdown",
      "source": [
        "Let's use Dropout:"
      ],
      "metadata": {
        "id": "l0hDyqR6G_yx"
      }
    },
    {
      "cell_type": "code",
      "source": [
        "model = tf.keras.Sequential([tf.keras.layers.Embedding(vocab_size, 7),\n",
        "                             tf.keras.layers.GlobalAveragePooling1D(),\n",
        "                             tf.keras.layers.Dense(8, activation='relu'),\n",
        "                             tf.keras.layers.Dropout(0.25),\n",
        "                             tf.keras.layers.Dense(1, activation='sigmoid')\n",
        "                             ])\n",
        "adam = tf.keras.optimizers.Adam(learning_rate=0.0001, beta_1=0.9, beta_2=0.999, amsgrad=False)\n",
        "model.compile(loss='binary_crossentropy',optimizer=adam, metrics=['accuracy'])\n",
        "\n",
        "model.summary()"
      ],
      "metadata": {
        "colab": {
          "base_uri": "https://localhost:8080/"
        },
        "id": "iBAr6ifD5Plp",
        "outputId": "ce352255-c55a-4573-e1df-2e2b3d6114d8"
      },
      "execution_count": 26,
      "outputs": [
        {
          "output_type": "stream",
          "name": "stdout",
          "text": [
            "Model: \"sequential_2\"\n",
            "_________________________________________________________________\n",
            " Layer (type)                Output Shape              Param #   \n",
            "=================================================================\n",
            " embedding_2 (Embedding)     (None, None, 7)           70000     \n",
            "                                                                 \n",
            " global_average_pooling1d_2   (None, 7)                0         \n",
            " (GlobalAveragePooling1D)                                        \n",
            "                                                                 \n",
            " dense_4 (Dense)             (None, 8)                 64        \n",
            "                                                                 \n",
            " dropout (Dropout)           (None, 8)                 0         \n",
            "                                                                 \n",
            " dense_5 (Dense)             (None, 1)                 9         \n",
            "                                                                 \n",
            "=================================================================\n",
            "Total params: 70,073\n",
            "Trainable params: 70,073\n",
            "Non-trainable params: 0\n",
            "_________________________________________________________________\n"
          ]
        }
      ]
    },
    {
      "cell_type": "code",
      "source": [
        "num_epochs = 100\n",
        "history = model.fit(training_padded, training_labels, epochs=num_epochs, validation_data=(testing_padded, testing_labels))"
      ],
      "metadata": {
        "colab": {
          "base_uri": "https://localhost:8080/"
        },
        "id": "RLkRF9L25ji7",
        "outputId": "198060a7-e7b8-44df-89c2-bab863de885e"
      },
      "execution_count": 27,
      "outputs": [
        {
          "output_type": "stream",
          "name": "stdout",
          "text": [
            "Epoch 1/100\n",
            "719/719 [==============================] - 3s 3ms/step - loss: 0.6906 - accuracy: 0.5504 - val_loss: 0.6875 - val_accuracy: 0.5700\n",
            "Epoch 2/100\n",
            "719/719 [==============================] - 2s 2ms/step - loss: 0.6868 - accuracy: 0.5596 - val_loss: 0.6832 - val_accuracy: 0.5700\n",
            "Epoch 3/100\n",
            "719/719 [==============================] - 2s 2ms/step - loss: 0.6841 - accuracy: 0.5596 - val_loss: 0.6794 - val_accuracy: 0.5700\n",
            "Epoch 4/100\n",
            "719/719 [==============================] - 2s 2ms/step - loss: 0.6811 - accuracy: 0.5600 - val_loss: 0.6740 - val_accuracy: 0.5710\n",
            "Epoch 5/100\n",
            "719/719 [==============================] - 2s 2ms/step - loss: 0.6763 - accuracy: 0.5694 - val_loss: 0.6679 - val_accuracy: 0.5953\n",
            "Epoch 6/100\n",
            "719/719 [==============================] - 2s 2ms/step - loss: 0.6691 - accuracy: 0.5951 - val_loss: 0.6578 - val_accuracy: 0.6705\n",
            "Epoch 7/100\n",
            "719/719 [==============================] - 2s 2ms/step - loss: 0.6608 - accuracy: 0.6205 - val_loss: 0.6478 - val_accuracy: 0.7172\n",
            "Epoch 8/100\n",
            "719/719 [==============================] - 2s 2ms/step - loss: 0.6508 - accuracy: 0.6502 - val_loss: 0.6367 - val_accuracy: 0.7339\n",
            "Epoch 9/100\n",
            "719/719 [==============================] - 2s 3ms/step - loss: 0.6395 - accuracy: 0.6810 - val_loss: 0.6242 - val_accuracy: 0.7474\n",
            "Epoch 10/100\n",
            "719/719 [==============================] - 2s 2ms/step - loss: 0.6276 - accuracy: 0.7001 - val_loss: 0.6106 - val_accuracy: 0.7503\n",
            "Epoch 11/100\n",
            "719/719 [==============================] - 2s 2ms/step - loss: 0.6156 - accuracy: 0.7160 - val_loss: 0.5982 - val_accuracy: 0.7536\n",
            "Epoch 12/100\n",
            "719/719 [==============================] - 2s 2ms/step - loss: 0.6005 - accuracy: 0.7257 - val_loss: 0.5846 - val_accuracy: 0.7544\n",
            "Epoch 13/100\n",
            "719/719 [==============================] - 2s 3ms/step - loss: 0.5849 - accuracy: 0.7407 - val_loss: 0.5695 - val_accuracy: 0.7573\n",
            "Epoch 14/100\n",
            "719/719 [==============================] - 2s 2ms/step - loss: 0.5701 - accuracy: 0.7491 - val_loss: 0.5545 - val_accuracy: 0.7617\n",
            "Epoch 15/100\n",
            "719/719 [==============================] - 2s 2ms/step - loss: 0.5560 - accuracy: 0.7591 - val_loss: 0.5429 - val_accuracy: 0.7630\n",
            "Epoch 16/100\n",
            "719/719 [==============================] - 2s 2ms/step - loss: 0.5386 - accuracy: 0.7705 - val_loss: 0.5254 - val_accuracy: 0.7738\n",
            "Epoch 17/100\n",
            "719/719 [==============================] - 2s 3ms/step - loss: 0.5236 - accuracy: 0.7803 - val_loss: 0.5148 - val_accuracy: 0.7762\n",
            "Epoch 18/100\n",
            "719/719 [==============================] - 2s 2ms/step - loss: 0.5087 - accuracy: 0.7869 - val_loss: 0.5043 - val_accuracy: 0.7760\n",
            "Epoch 19/100\n",
            "719/719 [==============================] - 2s 2ms/step - loss: 0.4951 - accuracy: 0.7916 - val_loss: 0.4947 - val_accuracy: 0.7795\n",
            "Epoch 20/100\n",
            "719/719 [==============================] - 2s 2ms/step - loss: 0.4828 - accuracy: 0.7940 - val_loss: 0.4874 - val_accuracy: 0.7784\n",
            "Epoch 21/100\n",
            "719/719 [==============================] - 2s 3ms/step - loss: 0.4698 - accuracy: 0.8030 - val_loss: 0.4799 - val_accuracy: 0.7770\n",
            "Epoch 22/100\n",
            "719/719 [==============================] - 2s 3ms/step - loss: 0.4574 - accuracy: 0.8123 - val_loss: 0.4685 - val_accuracy: 0.7865\n",
            "Epoch 23/100\n",
            "719/719 [==============================] - 2s 3ms/step - loss: 0.4453 - accuracy: 0.8151 - val_loss: 0.4602 - val_accuracy: 0.7916\n",
            "Epoch 24/100\n",
            "719/719 [==============================] - 2s 2ms/step - loss: 0.4354 - accuracy: 0.8204 - val_loss: 0.4583 - val_accuracy: 0.7889\n",
            "Epoch 25/100\n",
            "719/719 [==============================] - 2s 2ms/step - loss: 0.4230 - accuracy: 0.8251 - val_loss: 0.4524 - val_accuracy: 0.7924\n",
            "Epoch 26/100\n",
            "719/719 [==============================] - 2s 3ms/step - loss: 0.4154 - accuracy: 0.8283 - val_loss: 0.4495 - val_accuracy: 0.7927\n",
            "Epoch 27/100\n",
            "719/719 [==============================] - 2s 3ms/step - loss: 0.4056 - accuracy: 0.8312 - val_loss: 0.4432 - val_accuracy: 0.7962\n",
            "Epoch 28/100\n",
            "719/719 [==============================] - 2s 2ms/step - loss: 0.3991 - accuracy: 0.8359 - val_loss: 0.4414 - val_accuracy: 0.7978\n",
            "Epoch 29/100\n",
            "719/719 [==============================] - 2s 3ms/step - loss: 0.3897 - accuracy: 0.8403 - val_loss: 0.4435 - val_accuracy: 0.7983\n",
            "Epoch 30/100\n",
            "719/719 [==============================] - 2s 2ms/step - loss: 0.3809 - accuracy: 0.8422 - val_loss: 0.4372 - val_accuracy: 0.7983\n",
            "Epoch 31/100\n",
            "719/719 [==============================] - 2s 3ms/step - loss: 0.3725 - accuracy: 0.8490 - val_loss: 0.4360 - val_accuracy: 0.7994\n",
            "Epoch 32/100\n",
            "719/719 [==============================] - 2s 2ms/step - loss: 0.3666 - accuracy: 0.8501 - val_loss: 0.4390 - val_accuracy: 0.7994\n",
            "Epoch 33/100\n",
            "719/719 [==============================] - 2s 3ms/step - loss: 0.3596 - accuracy: 0.8555 - val_loss: 0.4344 - val_accuracy: 0.8008\n",
            "Epoch 34/100\n",
            "719/719 [==============================] - 2s 3ms/step - loss: 0.3513 - accuracy: 0.8588 - val_loss: 0.4346 - val_accuracy: 0.8024\n",
            "Epoch 35/100\n",
            "719/719 [==============================] - 2s 3ms/step - loss: 0.3473 - accuracy: 0.8589 - val_loss: 0.4355 - val_accuracy: 0.8029\n",
            "Epoch 36/100\n",
            "719/719 [==============================] - 2s 2ms/step - loss: 0.3392 - accuracy: 0.8636 - val_loss: 0.4313 - val_accuracy: 0.7999\n",
            "Epoch 37/100\n",
            "719/719 [==============================] - 2s 3ms/step - loss: 0.3353 - accuracy: 0.8629 - val_loss: 0.4336 - val_accuracy: 0.7994\n",
            "Epoch 38/100\n",
            "719/719 [==============================] - 2s 2ms/step - loss: 0.3301 - accuracy: 0.8665 - val_loss: 0.4355 - val_accuracy: 0.7989\n",
            "Epoch 39/100\n",
            "719/719 [==============================] - 2s 2ms/step - loss: 0.3238 - accuracy: 0.8708 - val_loss: 0.4377 - val_accuracy: 0.7989\n",
            "Epoch 40/100\n",
            "719/719 [==============================] - 2s 3ms/step - loss: 0.3207 - accuracy: 0.8714 - val_loss: 0.4359 - val_accuracy: 0.8008\n",
            "Epoch 41/100\n",
            "719/719 [==============================] - 2s 3ms/step - loss: 0.3162 - accuracy: 0.8748 - val_loss: 0.4415 - val_accuracy: 0.8013\n",
            "Epoch 42/100\n",
            "719/719 [==============================] - 2s 3ms/step - loss: 0.3082 - accuracy: 0.8780 - val_loss: 0.4467 - val_accuracy: 0.7964\n",
            "Epoch 43/100\n",
            "719/719 [==============================] - 2s 3ms/step - loss: 0.3065 - accuracy: 0.8798 - val_loss: 0.4455 - val_accuracy: 0.8002\n",
            "Epoch 44/100\n",
            "719/719 [==============================] - 2s 2ms/step - loss: 0.3007 - accuracy: 0.8810 - val_loss: 0.4477 - val_accuracy: 0.7997\n",
            "Epoch 45/100\n",
            "719/719 [==============================] - 2s 2ms/step - loss: 0.2946 - accuracy: 0.8837 - val_loss: 0.4554 - val_accuracy: 0.7994\n",
            "Epoch 46/100\n",
            "719/719 [==============================] - 2s 2ms/step - loss: 0.2918 - accuracy: 0.8840 - val_loss: 0.4503 - val_accuracy: 0.7994\n",
            "Epoch 47/100\n",
            "719/719 [==============================] - 2s 2ms/step - loss: 0.2876 - accuracy: 0.8890 - val_loss: 0.4547 - val_accuracy: 0.7986\n",
            "Epoch 48/100\n",
            "719/719 [==============================] - 2s 2ms/step - loss: 0.2833 - accuracy: 0.8891 - val_loss: 0.4567 - val_accuracy: 0.8008\n",
            "Epoch 49/100\n",
            "719/719 [==============================] - 2s 2ms/step - loss: 0.2809 - accuracy: 0.8897 - val_loss: 0.4620 - val_accuracy: 0.7994\n",
            "Epoch 50/100\n",
            "719/719 [==============================] - 2s 2ms/step - loss: 0.2746 - accuracy: 0.8933 - val_loss: 0.4629 - val_accuracy: 0.8008\n",
            "Epoch 51/100\n",
            "719/719 [==============================] - 2s 2ms/step - loss: 0.2741 - accuracy: 0.8938 - val_loss: 0.4644 - val_accuracy: 0.8010\n",
            "Epoch 52/100\n",
            "719/719 [==============================] - 2s 2ms/step - loss: 0.2682 - accuracy: 0.8953 - val_loss: 0.4657 - val_accuracy: 0.8016\n",
            "Epoch 53/100\n",
            "719/719 [==============================] - 2s 3ms/step - loss: 0.2673 - accuracy: 0.8978 - val_loss: 0.4674 - val_accuracy: 0.8021\n",
            "Epoch 54/100\n",
            "719/719 [==============================] - 2s 2ms/step - loss: 0.2611 - accuracy: 0.9021 - val_loss: 0.4755 - val_accuracy: 0.8021\n",
            "Epoch 55/100\n",
            "719/719 [==============================] - 2s 2ms/step - loss: 0.2595 - accuracy: 0.8982 - val_loss: 0.4812 - val_accuracy: 0.7999\n",
            "Epoch 56/100\n",
            "719/719 [==============================] - 2s 3ms/step - loss: 0.2582 - accuracy: 0.9009 - val_loss: 0.4872 - val_accuracy: 0.8002\n",
            "Epoch 57/100\n",
            "719/719 [==============================] - 2s 3ms/step - loss: 0.2543 - accuracy: 0.9044 - val_loss: 0.4848 - val_accuracy: 0.8045\n",
            "Epoch 58/100\n",
            "719/719 [==============================] - 2s 2ms/step - loss: 0.2499 - accuracy: 0.9066 - val_loss: 0.4900 - val_accuracy: 0.8021\n",
            "Epoch 59/100\n",
            "719/719 [==============================] - 2s 2ms/step - loss: 0.2472 - accuracy: 0.9067 - val_loss: 0.4892 - val_accuracy: 0.8021\n",
            "Epoch 60/100\n",
            "719/719 [==============================] - 2s 3ms/step - loss: 0.2451 - accuracy: 0.9067 - val_loss: 0.5028 - val_accuracy: 0.7994\n",
            "Epoch 61/100\n",
            "719/719 [==============================] - 2s 3ms/step - loss: 0.2436 - accuracy: 0.9096 - val_loss: 0.5011 - val_accuracy: 0.8013\n",
            "Epoch 62/100\n",
            "719/719 [==============================] - 2s 3ms/step - loss: 0.2389 - accuracy: 0.9128 - val_loss: 0.5038 - val_accuracy: 0.8018\n",
            "Epoch 63/100\n",
            "719/719 [==============================] - 2s 2ms/step - loss: 0.2392 - accuracy: 0.9094 - val_loss: 0.5122 - val_accuracy: 0.7989\n",
            "Epoch 64/100\n",
            "719/719 [==============================] - 2s 2ms/step - loss: 0.2350 - accuracy: 0.9103 - val_loss: 0.5175 - val_accuracy: 0.7997\n",
            "Epoch 65/100\n",
            "719/719 [==============================] - 2s 2ms/step - loss: 0.2307 - accuracy: 0.9151 - val_loss: 0.5205 - val_accuracy: 0.8008\n",
            "Epoch 66/100\n",
            "719/719 [==============================] - 2s 2ms/step - loss: 0.2287 - accuracy: 0.9131 - val_loss: 0.5300 - val_accuracy: 0.7983\n",
            "Epoch 67/100\n",
            "719/719 [==============================] - 2s 3ms/step - loss: 0.2271 - accuracy: 0.9163 - val_loss: 0.5251 - val_accuracy: 0.8008\n",
            "Epoch 68/100\n",
            "719/719 [==============================] - 2s 2ms/step - loss: 0.2253 - accuracy: 0.9157 - val_loss: 0.5272 - val_accuracy: 0.8013\n",
            "Epoch 69/100\n",
            "719/719 [==============================] - 2s 2ms/step - loss: 0.2218 - accuracy: 0.9183 - val_loss: 0.5461 - val_accuracy: 0.7975\n",
            "Epoch 70/100\n",
            "719/719 [==============================] - 2s 3ms/step - loss: 0.2190 - accuracy: 0.9205 - val_loss: 0.5388 - val_accuracy: 0.8021\n",
            "Epoch 71/100\n",
            "719/719 [==============================] - 2s 3ms/step - loss: 0.2171 - accuracy: 0.9213 - val_loss: 0.5499 - val_accuracy: 0.7989\n",
            "Epoch 72/100\n",
            "719/719 [==============================] - 2s 2ms/step - loss: 0.2145 - accuracy: 0.9231 - val_loss: 0.5538 - val_accuracy: 0.7997\n",
            "Epoch 73/100\n",
            "719/719 [==============================] - 2s 3ms/step - loss: 0.2131 - accuracy: 0.9237 - val_loss: 0.5578 - val_accuracy: 0.8008\n",
            "Epoch 74/100\n",
            "719/719 [==============================] - 2s 3ms/step - loss: 0.2089 - accuracy: 0.9242 - val_loss: 0.5607 - val_accuracy: 0.8010\n",
            "Epoch 75/100\n",
            "719/719 [==============================] - 2s 3ms/step - loss: 0.2086 - accuracy: 0.9253 - val_loss: 0.5669 - val_accuracy: 0.8008\n",
            "Epoch 76/100\n",
            "719/719 [==============================] - 2s 2ms/step - loss: 0.2074 - accuracy: 0.9248 - val_loss: 0.5708 - val_accuracy: 0.8005\n",
            "Epoch 77/100\n",
            "719/719 [==============================] - 2s 2ms/step - loss: 0.2053 - accuracy: 0.9265 - val_loss: 0.5788 - val_accuracy: 0.8002\n",
            "Epoch 78/100\n",
            "719/719 [==============================] - 2s 3ms/step - loss: 0.2023 - accuracy: 0.9272 - val_loss: 0.5793 - val_accuracy: 0.8005\n",
            "Epoch 79/100\n",
            "719/719 [==============================] - 2s 3ms/step - loss: 0.2006 - accuracy: 0.9285 - val_loss: 0.5885 - val_accuracy: 0.8005\n",
            "Epoch 80/100\n",
            "719/719 [==============================] - 2s 3ms/step - loss: 0.1986 - accuracy: 0.9294 - val_loss: 0.5949 - val_accuracy: 0.7989\n",
            "Epoch 81/100\n",
            "719/719 [==============================] - 2s 3ms/step - loss: 0.1963 - accuracy: 0.9304 - val_loss: 0.5994 - val_accuracy: 0.7983\n",
            "Epoch 82/100\n",
            "719/719 [==============================] - 2s 3ms/step - loss: 0.1952 - accuracy: 0.9309 - val_loss: 0.5970 - val_accuracy: 0.8010\n",
            "Epoch 83/100\n",
            "719/719 [==============================] - 2s 3ms/step - loss: 0.1921 - accuracy: 0.9333 - val_loss: 0.6113 - val_accuracy: 0.7981\n",
            "Epoch 84/100\n",
            "719/719 [==============================] - 2s 3ms/step - loss: 0.1930 - accuracy: 0.9328 - val_loss: 0.6146 - val_accuracy: 0.7986\n",
            "Epoch 85/100\n",
            "719/719 [==============================] - 2s 3ms/step - loss: 0.1890 - accuracy: 0.9333 - val_loss: 0.6217 - val_accuracy: 0.7989\n",
            "Epoch 86/100\n",
            "719/719 [==============================] - 2s 3ms/step - loss: 0.1881 - accuracy: 0.9335 - val_loss: 0.6261 - val_accuracy: 0.7981\n",
            "Epoch 87/100\n",
            "719/719 [==============================] - 3s 3ms/step - loss: 0.1868 - accuracy: 0.9360 - val_loss: 0.6361 - val_accuracy: 0.7991\n",
            "Epoch 88/100\n",
            "719/719 [==============================] - 2s 3ms/step - loss: 0.1839 - accuracy: 0.9365 - val_loss: 0.6422 - val_accuracy: 0.7994\n",
            "Epoch 89/100\n",
            "719/719 [==============================] - 2s 3ms/step - loss: 0.1821 - accuracy: 0.9371 - val_loss: 0.6449 - val_accuracy: 0.7972\n",
            "Epoch 90/100\n",
            "719/719 [==============================] - 2s 3ms/step - loss: 0.1822 - accuracy: 0.9377 - val_loss: 0.6499 - val_accuracy: 0.7970\n",
            "Epoch 91/100\n",
            "719/719 [==============================] - 2s 3ms/step - loss: 0.1803 - accuracy: 0.9389 - val_loss: 0.6604 - val_accuracy: 0.7962\n",
            "Epoch 92/100\n",
            "719/719 [==============================] - 2s 3ms/step - loss: 0.1770 - accuracy: 0.9393 - val_loss: 0.6646 - val_accuracy: 0.7967\n",
            "Epoch 93/100\n",
            "719/719 [==============================] - 2s 3ms/step - loss: 0.1771 - accuracy: 0.9400 - val_loss: 0.6647 - val_accuracy: 0.7964\n",
            "Epoch 94/100\n",
            "719/719 [==============================] - 2s 3ms/step - loss: 0.1764 - accuracy: 0.9393 - val_loss: 0.6667 - val_accuracy: 0.7962\n",
            "Epoch 95/100\n",
            "719/719 [==============================] - 2s 3ms/step - loss: 0.1732 - accuracy: 0.9403 - val_loss: 0.6752 - val_accuracy: 0.7954\n",
            "Epoch 96/100\n",
            "719/719 [==============================] - 2s 3ms/step - loss: 0.1728 - accuracy: 0.9420 - val_loss: 0.6878 - val_accuracy: 0.7943\n",
            "Epoch 97/100\n",
            "719/719 [==============================] - 2s 3ms/step - loss: 0.1730 - accuracy: 0.9415 - val_loss: 0.6916 - val_accuracy: 0.7943\n",
            "Epoch 98/100\n",
            "719/719 [==============================] - 2s 3ms/step - loss: 0.1691 - accuracy: 0.9439 - val_loss: 0.7070 - val_accuracy: 0.7946\n",
            "Epoch 99/100\n",
            "719/719 [==============================] - 2s 3ms/step - loss: 0.1674 - accuracy: 0.9451 - val_loss: 0.7126 - val_accuracy: 0.7921\n",
            "Epoch 100/100\n",
            "719/719 [==============================] - 2s 3ms/step - loss: 0.1655 - accuracy: 0.9442 - val_loss: 0.7122 - val_accuracy: 0.7919\n"
          ]
        }
      ]
    },
    {
      "cell_type": "code",
      "source": [
        "plt.plot(history.history['accuracy']);\n",
        "plt.plot(history.history['val_accuracy']);\n",
        "plt.legend(['accuracy', 'val_accuracy']);"
      ],
      "metadata": {
        "colab": {
          "base_uri": "https://localhost:8080/",
          "height": 265
        },
        "id": "Kaxsuxqk53U7",
        "outputId": "d5d4daaf-3a39-4b75-8161-9a99bbfb0987"
      },
      "execution_count": 28,
      "outputs": [
        {
          "output_type": "display_data",
          "data": {
            "text/plain": [
              "<Figure size 432x288 with 1 Axes>"
            ],
            "image/png": "[encoded data removed]"
          },
          "metadata": {
            "needs_background": "light"
          }
        }
      ]
    },
    {
      "cell_type": "code",
      "source": [
        "plt.plot(history.history['loss']);\n",
        "plt.plot(history.history['val_loss']);\n",
        "plt.legend(['loss', 'val_loss']);"
      ],
      "metadata": {
        "colab": {
          "base_uri": "https://localhost:8080/",
          "height": 265
        },
        "id": "8obAdXaGEhTV",
        "outputId": "107326f1-19b1-4f0d-8b2c-39a808d6b212"
      },
      "execution_count": 29,
      "outputs": [
        {
          "output_type": "display_data",
          "data": {
            "text/plain": [
              "<Figure size 432x288 with 1 Axes>"
            ],
            "image/png": "[encoded data removed]"
          },
          "metadata": {
            "needs_background": "light"
          }
        }
      ]
    },
    {
      "cell_type": "markdown",
      "source": [
        "L1 regularization is often called lasso (least absolute shrinkage and selection operator) regularization. It effectively helps us ignore the zero or close-to-zero weights when calculating a result in a layer.\n",
        "\n",
        "L2 regularization is often called ridge regression because it pushes values apart by taking their squares. This tends to amplify the differences between nonzero values and zero or close-to-zero ones, creating a ridge effect.\n",
        "\n",
        "For NLP problems like the one we’re considering, L2 is most commonly used."
      ],
      "metadata": {
        "id": "3hpVQGmr6C64"
      }
    },
    {
      "cell_type": "code",
      "source": [
        "model = tf.keras.Sequential([\n",
        "    tf.keras.layers.Embedding(vocab_size, 7),\n",
        "    tf.keras.layers.GlobalAveragePooling1D(),\n",
        "    tf.keras.layers.Dense(8, activation='relu', kernel_regularizer = tf.keras.regularizers.l2(0.01)),\n",
        "    tf.keras.layers.Dense(1, activation='sigmoid')\n",
        "    ])\n",
        "\n",
        "adam = tf.keras.optimizers.Adam(learning_rate=0.0001, beta_1=0.9, beta_2=0.999, amsgrad=False)\n",
        "model.compile(loss='binary_crossentropy',optimizer=adam, metrics=['accuracy'])\n",
        "\n",
        "model.summary()"
      ],
      "metadata": {
        "colab": {
          "base_uri": "https://localhost:8080/"
        },
        "id": "0Uzh-0cI6ZW-",
        "outputId": "f42c760b-e8f7-49e9-a2da-e0101c635faf"
      },
      "execution_count": 30,
      "outputs": [
        {
          "output_type": "stream",
          "name": "stdout",
          "text": [
            "Model: \"sequential_3\"\n",
            "_________________________________________________________________\n",
            " Layer (type)                Output Shape              Param #   \n",
            "=================================================================\n",
            " embedding_3 (Embedding)     (None, None, 7)           70000     \n",
            "                                                                 \n",
            " global_average_pooling1d_3   (None, 7)                0         \n",
            " (GlobalAveragePooling1D)                                        \n",
            "                                                                 \n",
            " dense_6 (Dense)             (None, 8)                 64        \n",
            "                                                                 \n",
            " dense_7 (Dense)             (None, 1)                 9         \n",
            "                                                                 \n",
            "=================================================================\n",
            "Total params: 70,073\n",
            "Trainable params: 70,073\n",
            "Non-trainable params: 0\n",
            "_________________________________________________________________\n"
          ]
        }
      ]
    },
    {
      "cell_type": "code",
      "source": [
        "num_epochs = 100\n",
        "history = model.fit(training_padded, training_labels, epochs=num_epochs, validation_data=(testing_padded, testing_labels))"
      ],
      "metadata": {
        "colab": {
          "base_uri": "https://localhost:8080/"
        },
        "id": "ucOKeOhQ6zxX",
        "outputId": "976d1dab-f1a7-47be-fc2b-8e4ac1280285"
      },
      "execution_count": 31,
      "outputs": [
        {
          "output_type": "stream",
          "name": "stdout",
          "text": [
            "Epoch 1/100\n",
            "719/719 [==============================] - 3s 3ms/step - loss: 0.7413 - accuracy: 0.5597 - val_loss: 0.7278 - val_accuracy: 0.5700\n",
            "Epoch 2/100\n",
            "719/719 [==============================] - 2s 2ms/step - loss: 0.7211 - accuracy: 0.5596 - val_loss: 0.7114 - val_accuracy: 0.5700\n",
            "Epoch 3/100\n",
            "719/719 [==============================] - 2s 2ms/step - loss: 0.7083 - accuracy: 0.5596 - val_loss: 0.7003 - val_accuracy: 0.5700\n",
            "Epoch 4/100\n",
            "719/719 [==============================] - 2s 2ms/step - loss: 0.6994 - accuracy: 0.5596 - val_loss: 0.6926 - val_accuracy: 0.5700\n",
            "Epoch 5/100\n",
            "719/719 [==============================] - 2s 2ms/step - loss: 0.6932 - accuracy: 0.5596 - val_loss: 0.6872 - val_accuracy: 0.5700\n",
            "Epoch 6/100\n",
            "719/719 [==============================] - 2s 2ms/step - loss: 0.6888 - accuracy: 0.5596 - val_loss: 0.6832 - val_accuracy: 0.5700\n",
            "Epoch 7/100\n",
            "719/719 [==============================] - 2s 2ms/step - loss: 0.6855 - accuracy: 0.5596 - val_loss: 0.6797 - val_accuracy: 0.5697\n",
            "Epoch 8/100\n",
            "719/719 [==============================] - 2s 2ms/step - loss: 0.6828 - accuracy: 0.5597 - val_loss: 0.6767 - val_accuracy: 0.5705\n",
            "Epoch 9/100\n",
            "719/719 [==============================] - 2s 2ms/step - loss: 0.6803 - accuracy: 0.5597 - val_loss: 0.6736 - val_accuracy: 0.5727\n",
            "Epoch 10/100\n",
            "719/719 [==============================] - 2s 2ms/step - loss: 0.6776 - accuracy: 0.5600 - val_loss: 0.6701 - val_accuracy: 0.5856\n",
            "Epoch 11/100\n",
            "719/719 [==============================] - 2s 2ms/step - loss: 0.6746 - accuracy: 0.5606 - val_loss: 0.6659 - val_accuracy: 0.6093\n",
            "Epoch 12/100\n",
            "719/719 [==============================] - 2s 2ms/step - loss: 0.6711 - accuracy: 0.5640 - val_loss: 0.6617 - val_accuracy: 0.6541\n",
            "Epoch 13/100\n",
            "719/719 [==============================] - 2s 2ms/step - loss: 0.6670 - accuracy: 0.5731 - val_loss: 0.6571 - val_accuracy: 0.6840\n",
            "Epoch 14/100\n",
            "719/719 [==============================] - 2s 2ms/step - loss: 0.6622 - accuracy: 0.5964 - val_loss: 0.6508 - val_accuracy: 0.6983\n",
            "Epoch 15/100\n",
            "719/719 [==============================] - 2s 3ms/step - loss: 0.6568 - accuracy: 0.6191 - val_loss: 0.6455 - val_accuracy: 0.7191\n",
            "Epoch 16/100\n",
            "719/719 [==============================] - 2s 2ms/step - loss: 0.6507 - accuracy: 0.6479 - val_loss: 0.6394 - val_accuracy: 0.7296\n",
            "Epoch 17/100\n",
            "719/719 [==============================] - 2s 3ms/step - loss: 0.6440 - accuracy: 0.6724 - val_loss: 0.6328 - val_accuracy: 0.7360\n",
            "Epoch 18/100\n",
            "719/719 [==============================] - 2s 2ms/step - loss: 0.6369 - accuracy: 0.6916 - val_loss: 0.6277 - val_accuracy: 0.7374\n",
            "Epoch 19/100\n",
            "719/719 [==============================] - 2s 2ms/step - loss: 0.6294 - accuracy: 0.7117 - val_loss: 0.6221 - val_accuracy: 0.7406\n",
            "Epoch 20/100\n",
            "719/719 [==============================] - 2s 2ms/step - loss: 0.6216 - accuracy: 0.7247 - val_loss: 0.6170 - val_accuracy: 0.7447\n",
            "Epoch 21/100\n",
            "719/719 [==============================] - 2s 2ms/step - loss: 0.6137 - accuracy: 0.7367 - val_loss: 0.6113 - val_accuracy: 0.7422\n",
            "Epoch 22/100\n",
            "719/719 [==============================] - 2s 3ms/step - loss: 0.6056 - accuracy: 0.7497 - val_loss: 0.6032 - val_accuracy: 0.7484\n",
            "Epoch 23/100\n",
            "719/719 [==============================] - 2s 2ms/step - loss: 0.5976 - accuracy: 0.7559 - val_loss: 0.5976 - val_accuracy: 0.7490\n",
            "Epoch 24/100\n",
            "719/719 [==============================] - 2s 2ms/step - loss: 0.5895 - accuracy: 0.7644 - val_loss: 0.5929 - val_accuracy: 0.7525\n",
            "Epoch 25/100\n",
            "719/719 [==============================] - 2s 3ms/step - loss: 0.5815 - accuracy: 0.7724 - val_loss: 0.5865 - val_accuracy: 0.7533\n",
            "Epoch 26/100\n",
            "719/719 [==============================] - 2s 2ms/step - loss: 0.5736 - accuracy: 0.7772 - val_loss: 0.5823 - val_accuracy: 0.7536\n",
            "Epoch 27/100\n",
            "719/719 [==============================] - 2s 2ms/step - loss: 0.5658 - accuracy: 0.7841 - val_loss: 0.5756 - val_accuracy: 0.7555\n",
            "Epoch 28/100\n",
            "719/719 [==============================] - 2s 2ms/step - loss: 0.5582 - accuracy: 0.7891 - val_loss: 0.5712 - val_accuracy: 0.7584\n",
            "Epoch 29/100\n",
            "719/719 [==============================] - 2s 2ms/step - loss: 0.5507 - accuracy: 0.7956 - val_loss: 0.5647 - val_accuracy: 0.7617\n",
            "Epoch 30/100\n",
            "719/719 [==============================] - 2s 2ms/step - loss: 0.5435 - accuracy: 0.8008 - val_loss: 0.5609 - val_accuracy: 0.7619\n",
            "Epoch 31/100\n",
            "719/719 [==============================] - 2s 2ms/step - loss: 0.5364 - accuracy: 0.8054 - val_loss: 0.5563 - val_accuracy: 0.7638\n",
            "Epoch 32/100\n",
            "719/719 [==============================] - 2s 2ms/step - loss: 0.5295 - accuracy: 0.8098 - val_loss: 0.5516 - val_accuracy: 0.7662\n",
            "Epoch 33/100\n",
            "719/719 [==============================] - 2s 3ms/step - loss: 0.5228 - accuracy: 0.8143 - val_loss: 0.5465 - val_accuracy: 0.7684\n",
            "Epoch 34/100\n",
            "719/719 [==============================] - 2s 2ms/step - loss: 0.5163 - accuracy: 0.8175 - val_loss: 0.5463 - val_accuracy: 0.7679\n",
            "Epoch 35/100\n",
            "719/719 [==============================] - 2s 3ms/step - loss: 0.5101 - accuracy: 0.8224 - val_loss: 0.5381 - val_accuracy: 0.7733\n",
            "Epoch 36/100\n",
            "719/719 [==============================] - 2s 2ms/step - loss: 0.5040 - accuracy: 0.8245 - val_loss: 0.5365 - val_accuracy: 0.7733\n",
            "Epoch 37/100\n",
            "719/719 [==============================] - 2s 2ms/step - loss: 0.4982 - accuracy: 0.8277 - val_loss: 0.5334 - val_accuracy: 0.7751\n",
            "Epoch 38/100\n",
            "719/719 [==============================] - 2s 2ms/step - loss: 0.4924 - accuracy: 0.8311 - val_loss: 0.5294 - val_accuracy: 0.7760\n",
            "Epoch 39/100\n",
            "719/719 [==============================] - 2s 2ms/step - loss: 0.4869 - accuracy: 0.8335 - val_loss: 0.5266 - val_accuracy: 0.7776\n",
            "Epoch 40/100\n",
            "719/719 [==============================] - 2s 2ms/step - loss: 0.4815 - accuracy: 0.8353 - val_loss: 0.5236 - val_accuracy: 0.7800\n",
            "Epoch 41/100\n",
            "719/719 [==============================] - 2s 2ms/step - loss: 0.4763 - accuracy: 0.8381 - val_loss: 0.5220 - val_accuracy: 0.7824\n",
            "Epoch 42/100\n",
            "719/719 [==============================] - 2s 2ms/step - loss: 0.4712 - accuracy: 0.8403 - val_loss: 0.5173 - val_accuracy: 0.7830\n",
            "Epoch 43/100\n",
            "719/719 [==============================] - 2s 2ms/step - loss: 0.4663 - accuracy: 0.8430 - val_loss: 0.5150 - val_accuracy: 0.7846\n",
            "Epoch 44/100\n",
            "719/719 [==============================] - 2s 2ms/step - loss: 0.4615 - accuracy: 0.8456 - val_loss: 0.5145 - val_accuracy: 0.7846\n",
            "Epoch 45/100\n",
            "719/719 [==============================] - 2s 2ms/step - loss: 0.4568 - accuracy: 0.8482 - val_loss: 0.5071 - val_accuracy: 0.7875\n",
            "Epoch 46/100\n",
            "719/719 [==============================] - 2s 2ms/step - loss: 0.4524 - accuracy: 0.8482 - val_loss: 0.5085 - val_accuracy: 0.7854\n",
            "Epoch 47/100\n",
            "719/719 [==============================] - 2s 2ms/step - loss: 0.4480 - accuracy: 0.8505 - val_loss: 0.5071 - val_accuracy: 0.7873\n",
            "Epoch 48/100\n",
            "719/719 [==============================] - 2s 2ms/step - loss: 0.4436 - accuracy: 0.8527 - val_loss: 0.5028 - val_accuracy: 0.7897\n",
            "Epoch 49/100\n",
            "719/719 [==============================] - 2s 3ms/step - loss: 0.4395 - accuracy: 0.8536 - val_loss: 0.5031 - val_accuracy: 0.7889\n",
            "Epoch 50/100\n",
            "719/719 [==============================] - 2s 2ms/step - loss: 0.4355 - accuracy: 0.8553 - val_loss: 0.5018 - val_accuracy: 0.7913\n",
            "Epoch 51/100\n",
            "719/719 [==============================] - 2s 2ms/step - loss: 0.4315 - accuracy: 0.8580 - val_loss: 0.5000 - val_accuracy: 0.7924\n",
            "Epoch 52/100\n",
            "719/719 [==============================] - 2s 2ms/step - loss: 0.4276 - accuracy: 0.8595 - val_loss: 0.4993 - val_accuracy: 0.7940\n",
            "Epoch 53/100\n",
            "719/719 [==============================] - 2s 2ms/step - loss: 0.4238 - accuracy: 0.8615 - val_loss: 0.4970 - val_accuracy: 0.7946\n",
            "Epoch 54/100\n",
            "719/719 [==============================] - 2s 2ms/step - loss: 0.4201 - accuracy: 0.8623 - val_loss: 0.4955 - val_accuracy: 0.7959\n",
            "Epoch 55/100\n",
            "719/719 [==============================] - 2s 3ms/step - loss: 0.4166 - accuracy: 0.8646 - val_loss: 0.4951 - val_accuracy: 0.7956\n",
            "Epoch 56/100\n",
            "719/719 [==============================] - 2s 2ms/step - loss: 0.4131 - accuracy: 0.8656 - val_loss: 0.4935 - val_accuracy: 0.7962\n",
            "Epoch 57/100\n",
            "719/719 [==============================] - 2s 2ms/step - loss: 0.4097 - accuracy: 0.8666 - val_loss: 0.4934 - val_accuracy: 0.7964\n",
            "Epoch 58/100\n",
            "719/719 [==============================] - 2s 2ms/step - loss: 0.4063 - accuracy: 0.8680 - val_loss: 0.4892 - val_accuracy: 0.7964\n",
            "Epoch 59/100\n",
            "719/719 [==============================] - 2s 3ms/step - loss: 0.4031 - accuracy: 0.8682 - val_loss: 0.4920 - val_accuracy: 0.7970\n",
            "Epoch 60/100\n",
            "719/719 [==============================] - 2s 2ms/step - loss: 0.3999 - accuracy: 0.8707 - val_loss: 0.4928 - val_accuracy: 0.7981\n",
            "Epoch 61/100\n",
            "719/719 [==============================] - 2s 2ms/step - loss: 0.3968 - accuracy: 0.8717 - val_loss: 0.4893 - val_accuracy: 0.7997\n",
            "Epoch 62/100\n",
            "719/719 [==============================] - 2s 3ms/step - loss: 0.3938 - accuracy: 0.8732 - val_loss: 0.4896 - val_accuracy: 0.7989\n",
            "Epoch 63/100\n",
            "719/719 [==============================] - 2s 3ms/step - loss: 0.3908 - accuracy: 0.8744 - val_loss: 0.4911 - val_accuracy: 0.8002\n",
            "Epoch 64/100\n",
            "719/719 [==============================] - 2s 3ms/step - loss: 0.3878 - accuracy: 0.8759 - val_loss: 0.4903 - val_accuracy: 0.8010\n",
            "Epoch 65/100\n",
            "719/719 [==============================] - 2s 2ms/step - loss: 0.3850 - accuracy: 0.8776 - val_loss: 0.4871 - val_accuracy: 0.8029\n",
            "Epoch 66/100\n",
            "719/719 [==============================] - 2s 2ms/step - loss: 0.3822 - accuracy: 0.8773 - val_loss: 0.4861 - val_accuracy: 0.8029\n",
            "Epoch 67/100\n",
            "719/719 [==============================] - 2s 2ms/step - loss: 0.3795 - accuracy: 0.8786 - val_loss: 0.4899 - val_accuracy: 0.7994\n",
            "Epoch 68/100\n",
            "719/719 [==============================] - 2s 2ms/step - loss: 0.3768 - accuracy: 0.8795 - val_loss: 0.4866 - val_accuracy: 0.8032\n",
            "Epoch 69/100\n",
            "719/719 [==============================] - 2s 2ms/step - loss: 0.3741 - accuracy: 0.8807 - val_loss: 0.4875 - val_accuracy: 0.8005\n",
            "Epoch 70/100\n",
            "719/719 [==============================] - 2s 2ms/step - loss: 0.3715 - accuracy: 0.8821 - val_loss: 0.4867 - val_accuracy: 0.8016\n",
            "Epoch 71/100\n",
            "719/719 [==============================] - 2s 2ms/step - loss: 0.3690 - accuracy: 0.8830 - val_loss: 0.4834 - val_accuracy: 0.8048\n",
            "Epoch 72/100\n",
            "719/719 [==============================] - 2s 3ms/step - loss: 0.3665 - accuracy: 0.8830 - val_loss: 0.4874 - val_accuracy: 0.8008\n",
            "Epoch 73/100\n",
            "719/719 [==============================] - 2s 2ms/step - loss: 0.3640 - accuracy: 0.8841 - val_loss: 0.4823 - val_accuracy: 0.8053\n",
            "Epoch 74/100\n",
            "719/719 [==============================] - 2s 2ms/step - loss: 0.3616 - accuracy: 0.8849 - val_loss: 0.4877 - val_accuracy: 0.8008\n",
            "Epoch 75/100\n",
            "719/719 [==============================] - 2s 2ms/step - loss: 0.3593 - accuracy: 0.8861 - val_loss: 0.4860 - val_accuracy: 0.8008\n",
            "Epoch 76/100\n",
            "719/719 [==============================] - 2s 2ms/step - loss: 0.3570 - accuracy: 0.8877 - val_loss: 0.4835 - val_accuracy: 0.8032\n",
            "Epoch 77/100\n",
            "719/719 [==============================] - 2s 3ms/step - loss: 0.3547 - accuracy: 0.8880 - val_loss: 0.4852 - val_accuracy: 0.8013\n",
            "Epoch 78/100\n",
            "719/719 [==============================] - 2s 2ms/step - loss: 0.3525 - accuracy: 0.8890 - val_loss: 0.4840 - val_accuracy: 0.8032\n",
            "Epoch 79/100\n",
            "719/719 [==============================] - 2s 3ms/step - loss: 0.3503 - accuracy: 0.8893 - val_loss: 0.4854 - val_accuracy: 0.8029\n",
            "Epoch 80/100\n",
            "719/719 [==============================] - 2s 2ms/step - loss: 0.3481 - accuracy: 0.8899 - val_loss: 0.4853 - val_accuracy: 0.8026\n",
            "Epoch 81/100\n",
            "719/719 [==============================] - 2s 2ms/step - loss: 0.3460 - accuracy: 0.8904 - val_loss: 0.4867 - val_accuracy: 0.8035\n",
            "Epoch 82/100\n",
            "719/719 [==============================] - 2s 2ms/step - loss: 0.3439 - accuracy: 0.8914 - val_loss: 0.4848 - val_accuracy: 0.8024\n",
            "Epoch 83/100\n",
            "719/719 [==============================] - 2s 3ms/step - loss: 0.3418 - accuracy: 0.8923 - val_loss: 0.4845 - val_accuracy: 0.8018\n",
            "Epoch 84/100\n",
            "719/719 [==============================] - 2s 2ms/step - loss: 0.3398 - accuracy: 0.8941 - val_loss: 0.4876 - val_accuracy: 0.8021\n",
            "Epoch 85/100\n",
            "719/719 [==============================] - 2s 2ms/step - loss: 0.3378 - accuracy: 0.8938 - val_loss: 0.4859 - val_accuracy: 0.8018\n",
            "Epoch 86/100\n",
            "719/719 [==============================] - 2s 2ms/step - loss: 0.3358 - accuracy: 0.8953 - val_loss: 0.4875 - val_accuracy: 0.8026\n",
            "Epoch 87/100\n",
            "719/719 [==============================] - 2s 2ms/step - loss: 0.3339 - accuracy: 0.8958 - val_loss: 0.4856 - val_accuracy: 0.8021\n",
            "Epoch 88/100\n",
            "719/719 [==============================] - 2s 2ms/step - loss: 0.3321 - accuracy: 0.8955 - val_loss: 0.4878 - val_accuracy: 0.8013\n",
            "Epoch 89/100\n",
            "719/719 [==============================] - 2s 2ms/step - loss: 0.3302 - accuracy: 0.8971 - val_loss: 0.4890 - val_accuracy: 0.8026\n",
            "Epoch 90/100\n",
            "719/719 [==============================] - 2s 2ms/step - loss: 0.3283 - accuracy: 0.8979 - val_loss: 0.4897 - val_accuracy: 0.8029\n",
            "Epoch 91/100\n",
            "719/719 [==============================] - 2s 2ms/step - loss: 0.3266 - accuracy: 0.8984 - val_loss: 0.4861 - val_accuracy: 0.8010\n",
            "Epoch 92/100\n",
            "719/719 [==============================] - 2s 2ms/step - loss: 0.3248 - accuracy: 0.8990 - val_loss: 0.4860 - val_accuracy: 0.8029\n",
            "Epoch 93/100\n",
            "719/719 [==============================] - 2s 3ms/step - loss: 0.3230 - accuracy: 0.8989 - val_loss: 0.4922 - val_accuracy: 0.7994\n",
            "Epoch 94/100\n",
            "719/719 [==============================] - 2s 2ms/step - loss: 0.3213 - accuracy: 0.8998 - val_loss: 0.4883 - val_accuracy: 0.8010\n",
            "Epoch 95/100\n",
            "719/719 [==============================] - 2s 3ms/step - loss: 0.3196 - accuracy: 0.9007 - val_loss: 0.4888 - val_accuracy: 0.8008\n",
            "Epoch 96/100\n",
            "719/719 [==============================] - 2s 2ms/step - loss: 0.3180 - accuracy: 0.9017 - val_loss: 0.4890 - val_accuracy: 0.8008\n",
            "Epoch 97/100\n",
            "719/719 [==============================] - 2s 3ms/step - loss: 0.3163 - accuracy: 0.9023 - val_loss: 0.4911 - val_accuracy: 0.8013\n",
            "Epoch 98/100\n",
            "719/719 [==============================] - 2s 2ms/step - loss: 0.3146 - accuracy: 0.9030 - val_loss: 0.4902 - val_accuracy: 0.8008\n",
            "Epoch 99/100\n",
            "719/719 [==============================] - 2s 3ms/step - loss: 0.3130 - accuracy: 0.9032 - val_loss: 0.4883 - val_accuracy: 0.8043\n",
            "Epoch 100/100\n",
            "719/719 [==============================] - 2s 3ms/step - loss: 0.3115 - accuracy: 0.9037 - val_loss: 0.4921 - val_accuracy: 0.8013\n"
          ]
        }
      ]
    },
    {
      "cell_type": "code",
      "source": [
        "plt.plot(history.history['accuracy']);\n",
        "plt.plot(history.history['val_accuracy']);\n",
        "plt.legend(['accuracy', 'val_accuracy']);"
      ],
      "metadata": {
        "colab": {
          "base_uri": "https://localhost:8080/",
          "height": 265
        },
        "id": "OPnrgYNt62bg",
        "outputId": "f467b6a1-e861-422b-da87-43f9f095f08b"
      },
      "execution_count": 32,
      "outputs": [
        {
          "output_type": "display_data",
          "data": {
            "text/plain": [
              "<Figure size 432x288 with 1 Axes>"
            ],
            "image/png": "[encoded data removed]"
          },
          "metadata": {
            "needs_background": "light"
          }
        }
      ]
    },
    {
      "cell_type": "code",
      "source": [
        "plt.plot(history.history['loss']);\n",
        "plt.plot(history.history['val_loss']);\n",
        "plt.legend(['loss', 'val_loss']);"
      ],
      "metadata": {
        "colab": {
          "base_uri": "https://localhost:8080/",
          "height": 265
        },
        "id": "YAximkP2EjTW",
        "outputId": "7766d226-221e-45fc-b7f2-55455f23b704"
      },
      "execution_count": 33,
      "outputs": [
        {
          "output_type": "display_data",
          "data": {
            "text/plain": [
              "<Figure size 432x288 with 1 Axes>"
            ],
            "image/png": "[encoded data removed]"
          },
          "metadata": {
            "needs_background": "light"
          }
        }
      ]
    },
    {
      "cell_type": "markdown",
      "source": [
        "Let's try:"
      ],
      "metadata": {
        "id": "g1OmXrCs90-8"
      }
    },
    {
      "cell_type": "code",
      "source": [
        "sentences = [\"granny starting to fear spiders in the garden might be real\",\n",
        "             \"game of thrones season finale showing this sunday night\",\n",
        "             \"TensorFlow book will be a best seller\"]\n",
        "\n",
        "sequences = tokenizer.texts_to_sequences(sentences)\n",
        "print(sequences)"
      ],
      "metadata": {
        "colab": {
          "base_uri": "https://localhost:8080/"
        },
        "id": "CxlKhIiR9yG1",
        "outputId": "e953ce7d-b65d-485b-d1fe-f99f4445a930"
      },
      "execution_count": 34,
      "outputs": [
        {
          "output_type": "stream",
          "name": "stdout",
          "text": [
            "[[1, 803, 1, 753, 1, 1, 1, 2592, 312, 1, 97], [123, 1, 1183, 160, 2646, 3236, 1, 1543, 152], [1, 235, 7, 1, 1, 47, 1]]\n"
          ]
        }
      ]
    },
    {
      "cell_type": "code",
      "source": [
        "padded = pad_sequences(sequences, maxlen=max_length, padding=padding_type, truncating=trunc_type)\n",
        "print(padded)"
      ],
      "metadata": {
        "colab": {
          "base_uri": "https://localhost:8080/"
        },
        "id": "GbRkHKTk-IK4",
        "outputId": "3206c19d-cb93-43c3-8d59-f97748922e5b"
      },
      "execution_count": 35,
      "outputs": [
        {
          "output_type": "stream",
          "name": "stdout",
          "text": [
            "[[   1  803    1  753    1    1    1 2592  312    1]\n",
            " [ 123    1 1183  160 2646 3236    1 1543  152    0]\n",
            " [   1  235    7    1    1   47    1    0    0    0]]\n"
          ]
        }
      ]
    },
    {
      "cell_type": "code",
      "source": [
        "print(model.predict(padded))"
      ],
      "metadata": {
        "colab": {
          "base_uri": "https://localhost:8080/"
        },
        "id": "R5_2-JVU-RRE",
        "outputId": "5bf30e8c-1b96-4de7-9957-bc9fe9cadabe"
      },
      "execution_count": 36,
      "outputs": [
        {
          "output_type": "stream",
          "name": "stdout",
          "text": [
            "1/1 [==============================] - 0s 85ms/step\n",
            "[[0.99077743]\n",
            " [0.77637374]\n",
            " [0.31314534]]\n"
          ]
        }
      ]
    },
    {
      "cell_type": "markdown",
      "source": [
        "### **Visualizing the Embeddings**"
      ],
      "metadata": {
        "id": "PL8qakyp-gAt"
      }
    },
    {
      "cell_type": "markdown",
      "source": [
        "To visualize embeddings you can use a tool called the Embedding Projector. First, you’ll need a function to reverse the word index. It currently has the word as the token and the key as the value, but this needs to be inverted so we have word values to plot on the projector."
      ],
      "metadata": {
        "id": "VkxThUlq-jFh"
      }
    },
    {
      "cell_type": "code",
      "source": [
        "reverse_word_index = dict([(value, key) for (key, value) in word_index.items()])\n",
        "\n",
        "e = model.layers[0]\n",
        "weights = e.get_weights()[0]\n",
        "print(weights.shape) # shape: (vocab_size, embedding_dim)"
      ],
      "metadata": {
        "colab": {
          "base_uri": "https://localhost:8080/"
        },
        "id": "U_ntoVeg-XpZ",
        "outputId": "2ce26c56-6b38-4c90-ea55-7a2600d043ae"
      },
      "execution_count": 37,
      "outputs": [
        {
          "output_type": "stream",
          "name": "stdout",
          "text": [
            "(10000, 7)\n"
          ]
        }
      ]
    },
    {
      "cell_type": "code",
      "source": [
        "print(reverse_word_index[2])\n",
        "print(weights[2])"
      ],
      "metadata": {
        "colab": {
          "base_uri": "https://localhost:8080/"
        },
        "id": "zvDLjubh_Eve",
        "outputId": "d6703935-ec95-4812-f827-ff58d4062d56"
      },
      "execution_count": 38,
      "outputs": [
        {
          "output_type": "stream",
          "name": "stdout",
          "text": [
            "new\n",
            "[ 0.13948366  0.21494687  0.25101152 -0.1911905  -0.20235692  0.18020362\n",
            "  0.18635894]\n"
          ]
        }
      ]
    },
    {
      "cell_type": "markdown",
      "source": [
        "So, the word “new” is represented by a vector with those seven coefficients on its axes."
      ],
      "metadata": {
        "id": "vB5yaZTB_kZn"
      }
    },
    {
      "cell_type": "markdown",
      "source": [
        "The Embedding Projector uses two tab-separated values (TSV) files, one for the vector dimensions and one for metadata. This code will generate them for you:"
      ],
      "metadata": {
        "id": "5h7DrUIN_6bN"
      }
    },
    {
      "cell_type": "code",
      "source": [
        "# import io\n",
        "\n",
        "# out_v = io.open('vecs.tsv', 'w', encoding='utf-8')\n",
        "# out_m = io.open('meta.tsv', 'w', encoding='utf-8')\n",
        "# for word_num in range(1, vocab_size):\n",
        "#   word = reverse_word_index[word_num]\n",
        "#   embeddings = weights[word_num]\n",
        "#   out_m.write(word + \"\\n\")\n",
        "#   out_v.write('\\t'.join([str(x) for x in embeddings]) + \"\\n\")\n",
        "# out_v.close()\n",
        "# out_m.close()"
      ],
      "metadata": {
        "id": "IMGuZKbE_6ut"
      },
      "execution_count": 39,
      "outputs": []
    },
    {
      "cell_type": "code",
      "source": [
        "# try:\n",
        "#   from google.colab import files\n",
        "# except ImportError:\n",
        "#   pass\n",
        "# else:\n",
        "#   files.download('vecs.tsv')\n",
        "#   files.download('meta.tsv')"
      ],
      "metadata": {
        "colab": {
          "base_uri": "https://localhost:8080/",
          "height": 17
        },
        "id": "CV7QVv37AOsA",
        "outputId": "c20da12f-c4d6-41e5-8fb5-2af067ec6568"
      },
      "execution_count": 41,
      "outputs": [
        {
          "output_type": "display_data",
          "data": {
            "text/plain": [
              "<IPython.core.display.Javascript object>"
            ],
            "application/javascript": [
              "\n",
              "    async function download(id, filename, size) {\n",
              "      if (!google.colab.kernel.accessAllowed) {\n",
              "        return;\n",
              "      }\n",
              "      const div = document.createElement('div');\n",
              "      const label = document.createElement('label');\n",
              "      label.textContent = `Downloading \"${filename}\": `;\n",
              "      div.appendChild(label);\n",
              "      const progress = document.createElement('progress');\n",
              "      progress.max = size;\n",
              "      div.appendChild(progress);\n",
              "      document.body.appendChild(div);\n",
              "\n",
              "      const buffers = [];\n",
              "      let downloaded = 0;\n",
              "\n",
              "      const channel = await google.colab.kernel.comms.open(id);\n",
              "      // Send a message to notify the kernel that we're ready.\n",
              "      channel.send({})\n",
              "\n",
              "      for await (const message of channel.messages) {\n",
              "        // Send a message to notify the kernel that we're ready.\n",
              "        channel.send({})\n",
              "        if (message.buffers) {\n",
              "          for (const buffer of message.buffers) {\n",
              "            buffers.push(buffer);\n",
              "            downloaded += buffer.byteLength;\n",
              "            progress.value = downloaded;\n",
              "          }\n",
              "        }\n",
              "      }\n",
              "      const blob = new Blob(buffers, {type: 'application/binary'});\n",
              "      const a = document.createElement('a');\n",
              "      a.href = window.URL.createObjectURL(blob);\n",
              "      a.download = filename;\n",
              "      div.appendChild(a);\n",
              "      a.click();\n",
              "      div.remove();\n",
              "    }\n",
              "  "
            ]
          },
          "metadata": {}
        },
        {
          "output_type": "display_data",
          "data": {
            "text/plain": [
              "<IPython.core.display.Javascript object>"
            ],
            "application/javascript": [
              "download(\"download_1bbd24ec-9f12-4415-97c7-84b2fa822a00\", \"vecs.tsv\", 799159)"
            ]
          },
          "metadata": {}
        },
        {
          "output_type": "display_data",
          "data": {
            "text/plain": [
              "<IPython.core.display.Javascript object>"
            ],
            "application/javascript": [
              "\n",
              "    async function download(id, filename, size) {\n",
              "      if (!google.colab.kernel.accessAllowed) {\n",
              "        return;\n",
              "      }\n",
              "      const div = document.createElement('div');\n",
              "      const label = document.createElement('label');\n",
              "      label.textContent = `Downloading \"${filename}\": `;\n",
              "      div.appendChild(label);\n",
              "      const progress = document.createElement('progress');\n",
              "      progress.max = size;\n",
              "      div.appendChild(progress);\n",
              "      document.body.appendChild(div);\n",
              "\n",
              "      const buffers = [];\n",
              "      let downloaded = 0;\n",
              "\n",
              "      const channel = await google.colab.kernel.comms.open(id);\n",
              "      // Send a message to notify the kernel that we're ready.\n",
              "      channel.send({})\n",
              "\n",
              "      for await (const message of channel.messages) {\n",
              "        // Send a message to notify the kernel that we're ready.\n",
              "        channel.send({})\n",
              "        if (message.buffers) {\n",
              "          for (const buffer of message.buffers) {\n",
              "            buffers.push(buffer);\n",
              "            downloaded += buffer.byteLength;\n",
              "            progress.value = downloaded;\n",
              "          }\n",
              "        }\n",
              "      }\n",
              "      const blob = new Blob(buffers, {type: 'application/binary'});\n",
              "      const a = document.createElement('a');\n",
              "      a.href = window.URL.createObjectURL(blob);\n",
              "      a.download = filename;\n",
              "      div.appendChild(a);\n",
              "      a.click();\n",
              "      div.remove();\n",
              "    }\n",
              "  "
            ]
          },
          "metadata": {}
        },
        {
          "output_type": "display_data",
          "data": {
            "text/plain": [
              "<IPython.core.display.Javascript object>"
            ],
            "application/javascript": [
              "download(\"download_b70b8d11-f37d-4388-b740-8473c814c4af\", \"meta.tsv\", 76448)"
            ]
          },
          "metadata": {}
        }
      ]
    }
  ]
}