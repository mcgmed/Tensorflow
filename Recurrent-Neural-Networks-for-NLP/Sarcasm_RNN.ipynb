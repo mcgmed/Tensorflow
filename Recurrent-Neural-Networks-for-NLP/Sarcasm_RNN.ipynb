{
  "nbformat": 4,
  "nbformat_minor": 0,
  "metadata": {
    "colab": {
      "provenance": [],
      "authorship_tag": "ABX9TyPLfejY74K9mbgiy7rGiohg",
      "include_colab_link": true
    },
    "kernelspec": {
      "name": "python3",
      "display_name": "Python 3"
    },
    "language_info": {
      "name": "python"
    },
    "accelerator": "GPU",
    "gpuClass": "standard"
  },
  "cells": [
    {
      "cell_type": "markdown",
      "metadata": {
        "id": "view-in-github",
        "colab_type": "text"
      },
      "source": [
        "<a href=\"https://colab.research.google.com/github/mcgmed/Tensorflow/blob/main/Recurrent-Neural-Networks-for-NLP/Sarcasm_RNN.ipynb\" target=\"_parent\"><img src=\"https://colab.research.google.com/assets/colab-badge.svg\" alt=\"Open In Colab\"/></a>"
      ]
    },
    {
      "cell_type": "code",
      "execution_count": 1,
      "metadata": {
        "id": "gHacEVHHtPvZ"
      },
      "outputs": [],
      "source": [
        "import json\n",
        "import string\n",
        "import numpy as np\n",
        "import tensorflow as tf\n",
        "import matplotlib.pyplot as plt\n",
        "from tensorflow.keras.preprocessing.text import Tokenizer\n",
        "from tensorflow.keras.preprocessing.sequence import pad_sequences\n",
        "from bs4 import BeautifulSoup"
      ]
    },
    {
      "cell_type": "code",
      "source": [
        "!wget --no-check-certificate \\\n",
        "    https://storage.googleapis.com/laurencemoroney-blog.appspot.com/sarcasm.json \\\n",
        "    -O /tmp/sarcasm.json\n",
        "\n",
        "with open(\"/tmp/sarcasm.json\", 'r') as f:\n",
        "    datastore = json.load(f)"
      ],
      "metadata": {
        "colab": {
          "base_uri": "https://localhost:8080/"
        },
        "id": "On-Y_aX7DnO0",
        "outputId": "785afca9-20eb-420e-8b15-8edcfe797636"
      },
      "execution_count": 2,
      "outputs": [
        {
          "output_type": "stream",
          "name": "stdout",
          "text": [
            "--2022-11-29 11:35:33--  https://storage.googleapis.com/laurencemoroney-blog.appspot.com/sarcasm.json\n",
            "Resolving storage.googleapis.com (storage.googleapis.com)... 142.250.152.128, 142.250.128.128, 142.251.6.128, ...\n",
            "Connecting to storage.googleapis.com (storage.googleapis.com)|142.250.152.128|:443... connected.\n",
            "HTTP request sent, awaiting response... 200 OK\n",
            "Length: 5643545 (5.4M) [application/json]\n",
            "Saving to: ‘/tmp/sarcasm.json’\n",
            "\n",
            "\r/tmp/sarcasm.json     0%[                    ]       0  --.-KB/s               \r/tmp/sarcasm.json   100%[===================>]   5.38M  --.-KB/s    in 0.06s   \n",
            "\n",
            "2022-11-29 11:35:33 (97.5 MB/s) - ‘/tmp/sarcasm.json’ saved [5643545/5643545]\n",
            "\n"
          ]
        }
      ]
    },
    {
      "cell_type": "code",
      "source": [
        "datastore[:3]"
      ],
      "metadata": {
        "colab": {
          "base_uri": "https://localhost:8080/"
        },
        "id": "N6xGjHPdUOIJ",
        "outputId": "211a867c-13f1-4ad9-c952-475c96a18fb7"
      },
      "execution_count": 26,
      "outputs": [
        {
          "output_type": "execute_result",
          "data": {
            "text/plain": [
              "[{'article_link': 'https://www.huffingtonpost.com/entry/versace-black-code_us_5861fbefe4b0de3a08f600d5',\n",
              "  'headline': \"former versace store clerk sues over secret 'black code' for minority shoppers\",\n",
              "  'is_sarcastic': 0},\n",
              " {'article_link': 'https://www.huffingtonpost.com/entry/roseanne-revival-review_us_5ab3a497e4b054d118e04365',\n",
              "  'headline': \"the 'roseanne' revival catches up to our thorny political mood, for better and worse\",\n",
              "  'is_sarcastic': 0},\n",
              " {'article_link': 'https://local.theonion.com/mom-starting-to-fear-son-s-web-series-closest-thing-she-1819576697',\n",
              "  'headline': \"mom starting to fear son's web series closest thing she will have to grandchild\",\n",
              "  'is_sarcastic': 1}]"
            ]
          },
          "metadata": {},
          "execution_count": 26
        }
      ]
    },
    {
      "cell_type": "code",
      "source": [
        "stopwords = [\"a\", \"about\", \"above\", \"after\", \"again\", \"against\", \"all\", \"am\", \"an\", \"and\", \"any\", \"are\", \"as\", \"at\",\n",
        "             \"be\", \"because\", \"been\", \"before\", \"being\", \"below\", \"between\", \"both\", \"but\", \"by\", \"could\", \"did\", \"do\",\n",
        "             \"does\", \"doing\", \"down\", \"during\", \"each\", \"few\", \"for\", \"from\", \"further\", \"had\", \"has\", \"have\", \"having\",\n",
        "             \"he\", \"hed\", \"hes\", \"her\", \"here\", \"heres\", \"hers\", \"herself\", \"him\", \"himself\", \"his\", \"how\",\n",
        "             \"hows\", \"i\", \"id\", \"ill\", \"im\", \"ive\", \"if\", \"in\", \"into\", \"is\", \"it\", \"its\", \"itself\",\n",
        "             \"lets\", \"me\", \"more\", \"most\", \"my\", \"myself\", \"nor\", \"of\", \"on\", \"once\", \"only\", \"or\", \"other\", \"ought\",\n",
        "             \"our\", \"ours\", \"ourselves\", \"out\", \"over\", \"own\", \"same\", \"she\", \"shed\", \"shell\", \"shes\", \"should\",\n",
        "             \"so\", \"some\", \"such\", \"than\", \"that\", \"thats\", \"the\", \"their\", \"theirs\", \"them\", \"themselves\", \"then\",\n",
        "             \"there\", \"theres\", \"these\", \"they\", \"theyd\", \"theyll\", \"theyre\", \"theyve\", \"this\", \"those\", \"through\",\n",
        "             \"to\", \"too\", \"under\", \"until\", \"up\", \"very\", \"was\", \"we\", \"wed\", \"well\", \"were\", \"weve\", \"were\",\n",
        "             \"what\", \"whats\", \"when\", \"whens\", \"where\", \"wheres\", \"which\", \"while\", \"who\", \"whos\", \"whom\", \"why\",\n",
        "             \"whys\", \"with\", \"would\", \"you\", \"youd\", \"youll\", \"youre\", \"youve\", \"your\", \"yours\", \"yourself\",\n",
        "             \"yourselves\"]\n",
        "\n",
        "table = str.maketrans('', '', string.punctuation)\n",
        "\n",
        "sentences = [] \n",
        "labels = []\n",
        "urls = []\n",
        "\n",
        "for item in datastore:\n",
        "    sentence = item['headline'].lower()\n",
        "    sentence = sentence.replace(\",\", \" , \")\n",
        "    sentence = sentence.replace(\".\", \" . \")\n",
        "    sentence = sentence.replace(\"-\", \" - \")\n",
        "    sentence = sentence.replace(\"/\", \" / \")\n",
        "    soup = BeautifulSoup(sentence)\n",
        "    sentence = soup.get_text()\n",
        "    words = sentence.split()\n",
        "    filtered_sentence = \"\"\n",
        "    for word in words:\n",
        "        word = word.translate(table)\n",
        "        if word not in stopwords:\n",
        "            filtered_sentence = filtered_sentence + word + \" \"\n",
        "    sentences.append(filtered_sentence)\n",
        "    labels.append(item['is_sarcastic'])\n",
        "    urls.append(item['article_link'])"
      ],
      "metadata": {
        "id": "DPKJmUMLDQ9L"
      },
      "execution_count": 4,
      "outputs": []
    },
    {
      "cell_type": "code",
      "source": [
        "xs=[]\n",
        "ys=[]\n",
        "current_item=1\n",
        "for item in sentences:\n",
        "  xs.append(current_item)\n",
        "  current_item=current_item+1\n",
        "  ys.append(len(item))\n",
        "newys = sorted(ys)\n",
        "\n",
        "import matplotlib.pyplot as plt\n",
        "plt.plot(xs,newys)\n",
        "plt.axis([26000, 27000, 50, 250])\n",
        "plt.show()\n",
        "\n",
        "print(newys[26000])"
      ],
      "metadata": {
        "colab": {
          "base_uri": "https://localhost:8080/",
          "height": 286
        },
        "id": "jwAzhXwlFpyp",
        "outputId": "52cdaca0-85f4-4ca8-96cd-161a09f1f478"
      },
      "execution_count": 5,
      "outputs": [
        {
          "output_type": "display_data",
          "data": {
            "text/plain": [
              "<Figure size 432x288 with 1 Axes>"
            ],
            "image/png": "[encoded data removed]"
          },
          "metadata": {
            "needs_background": "light"
          }
        },
        {
          "output_type": "stream",
          "name": "stdout",
          "text": [
            "85\n"
          ]
        }
      ]
    },
    {
      "cell_type": "code",
      "source": [
        "vocab_size = 2000\n",
        "embedding_dim = 7\n",
        "max_length = 100\n",
        "trunc_type='post'\n",
        "padding_type='post'\n",
        "oov_tok = \"\"\n",
        "training_size = 24000\n",
        "num_epochs = 150"
      ],
      "metadata": {
        "id": "FU2Co7W0FuHr"
      },
      "execution_count": 6,
      "outputs": []
    },
    {
      "cell_type": "code",
      "source": [
        "print(f'Length of sentences: {len(sentences)}')\n",
        "\n",
        "training_sentences = sentences[0:training_size]\n",
        "testing_sentences = sentences[training_size:]\n",
        "training_labels = labels[0:training_size]\n",
        "testing_labels = labels[training_size:]\n",
        "\n",
        "tokenizer = Tokenizer(num_words=vocab_size, oov_token=oov_tok)\n",
        "tokenizer.fit_on_texts(training_sentences)\n",
        "\n",
        "word_index = tokenizer.word_index\n",
        "print(f'Instances from word index: {list(word_index.items())[:6]}')\n",
        "\n",
        "wc = tokenizer.word_counts\n",
        "print(f'Instances from word counts: {list(wc.items())[:6]}')\n",
        "\n",
        "training_sequences = tokenizer.texts_to_sequences(training_sentences)\n",
        "training_padded = pad_sequences(training_sequences, maxlen=max_length, padding=padding_type, truncating=trunc_type)\n",
        "\n",
        "testing_sequences = tokenizer.texts_to_sequences(testing_sentences)\n",
        "testing_padded = pad_sequences(testing_sequences, maxlen=max_length, padding=padding_type, truncating=trunc_type)"
      ],
      "metadata": {
        "colab": {
          "base_uri": "https://localhost:8080/"
        },
        "id": "pud7c-hAGS6S",
        "outputId": "27238b07-818c-49d3-c0bb-b8dec87154e8"
      },
      "execution_count": 7,
      "outputs": [
        {
          "output_type": "stream",
          "name": "stdout",
          "text": [
            "Length of sentences: 26709\n",
            "Instances from word index: [('', 1), ('new', 2), ('trump', 3), ('man', 4), ('not', 5), ('just', 6)]\n",
            "Instances from word counts: [('former', 96), ('versace', 1), ('store', 47), ('clerk', 9), ('sues', 16), ('secret', 83)]\n"
          ]
        }
      ]
    },
    {
      "cell_type": "code",
      "source": [
        "from collections import OrderedDict\n",
        "\n",
        "newlist = (OrderedDict(sorted(wc.items(), key=lambda t: t[1], reverse=True)))\n",
        "print(f'Instances from new list: {list(newlist.items())[:6]}')\n",
        "xs=[]\n",
        "ys=[]\n",
        "curr_x = 1\n",
        "for item in newlist:\n",
        "  xs.append(curr_x)\n",
        "  curr_x=curr_x+1\n",
        "  ys.append(newlist[item])\n",
        "\n",
        "plt.plot(xs,ys)\n",
        "plt.show()"
      ],
      "metadata": {
        "colab": {
          "base_uri": "https://localhost:8080/",
          "height": 282
        },
        "id": "DvBjQJQQGGfJ",
        "outputId": "207148eb-030b-4ed3-8a8a-c8ce7c87dc5b"
      },
      "execution_count": 8,
      "outputs": [
        {
          "output_type": "stream",
          "name": "stdout",
          "text": [
            "Instances from new list: [('new', 1376), ('trump', 1170), ('man', 1135), ('not', 668), ('just', 528), ('will', 502)]\n"
          ]
        },
        {
          "output_type": "display_data",
          "data": {
            "text/plain": [
              "<Figure size 432x288 with 1 Axes>"
            ],
            "image/png": "[encoded data removed]"
          },
          "metadata": {
            "needs_background": "light"
          }
        }
      ]
    },
    {
      "cell_type": "code",
      "source": [
        "training_padded = np.array(training_padded)\n",
        "training_labels = np.array(training_labels)\n",
        "testing_padded = np.array(testing_padded)\n",
        "testing_labels = np.array(testing_labels)"
      ],
      "metadata": {
        "id": "3Z085rygIwFF"
      },
      "execution_count": 9,
      "outputs": []
    },
    {
      "cell_type": "code",
      "source": [
        "model = tf.keras.Sequential([\n",
        "    tf.keras.layers.Embedding(vocab_size, embedding_dim),\n",
        "    tf.keras.layers.Bidirectional(tf.keras.layers.LSTM(100)),\n",
        "    tf.keras.layers.Dense(32, activation='relu', kernel_regularizer=tf.keras.regularizers.l2(0.1)),\n",
        "    tf.keras.layers.Dense(1, activation='sigmoid')\n",
        "])\n",
        "\n",
        "model.compile(loss='binary_crossentropy',optimizer='adam',metrics=['accuracy'])\n",
        "model.summary()"
      ],
      "metadata": {
        "colab": {
          "base_uri": "https://localhost:8080/"
        },
        "id": "fMRnIFHoJZXy",
        "outputId": "49284a3e-1314-4df2-f995-d53c4af79a8c"
      },
      "execution_count": 10,
      "outputs": [
        {
          "output_type": "stream",
          "name": "stdout",
          "text": [
            "Model: \"sequential\"\n",
            "_________________________________________________________________\n",
            " Layer (type)                Output Shape              Param #   \n",
            "=================================================================\n",
            " embedding (Embedding)       (None, None, 7)           14000     \n",
            "                                                                 \n",
            " bidirectional (Bidirectiona  (None, 200)              86400     \n",
            " l)                                                              \n",
            "                                                                 \n",
            " dense (Dense)               (None, 32)                6432      \n",
            "                                                                 \n",
            " dense_1 (Dense)             (None, 1)                 33        \n",
            "                                                                 \n",
            "=================================================================\n",
            "Total params: 106,865\n",
            "Trainable params: 106,865\n",
            "Non-trainable params: 0\n",
            "_________________________________________________________________\n"
          ]
        }
      ]
    },
    {
      "cell_type": "code",
      "source": [
        "history = model.fit(training_padded, training_labels, epochs=num_epochs, validation_data=(testing_padded, testing_labels))"
      ],
      "metadata": {
        "colab": {
          "base_uri": "https://localhost:8080/"
        },
        "id": "PJMohxBAKr41",
        "outputId": "461ce6b5-0626-45ee-bb8e-afe5efc510e8"
      },
      "execution_count": 11,
      "outputs": [
        {
          "output_type": "stream",
          "name": "stdout",
          "text": [
            "Epoch 1/150\n",
            "750/750 [==============================] - 16s 12ms/step - loss: 0.9393 - accuracy: 0.6859 - val_loss: 0.5117 - val_accuracy: 0.7601\n",
            "Epoch 2/150\n",
            "750/750 [==============================] - 8s 11ms/step - loss: 0.4689 - accuracy: 0.7851 - val_loss: 0.4875 - val_accuracy: 0.7693\n",
            "Epoch 3/150\n",
            "750/750 [==============================] - 8s 11ms/step - loss: 0.4381 - accuracy: 0.8025 - val_loss: 0.4751 - val_accuracy: 0.7778\n",
            "Epoch 4/150\n",
            "750/750 [==============================] - 8s 11ms/step - loss: 0.4240 - accuracy: 0.8072 - val_loss: 0.4677 - val_accuracy: 0.7874\n",
            "Epoch 5/150\n",
            "750/750 [==============================] - 8s 11ms/step - loss: 0.4151 - accuracy: 0.8119 - val_loss: 0.4616 - val_accuracy: 0.7900\n",
            "Epoch 6/150\n",
            "750/750 [==============================] - 8s 11ms/step - loss: 0.4213 - accuracy: 0.8089 - val_loss: 0.4777 - val_accuracy: 0.7852\n",
            "Epoch 7/150\n",
            "750/750 [==============================] - 9s 12ms/step - loss: 0.3908 - accuracy: 0.8260 - val_loss: 0.4829 - val_accuracy: 0.7804\n",
            "Epoch 8/150\n",
            "750/750 [==============================] - 8s 11ms/step - loss: 0.3738 - accuracy: 0.8349 - val_loss: 0.4599 - val_accuracy: 0.7900\n",
            "Epoch 9/150\n",
            "750/750 [==============================] - 8s 11ms/step - loss: 0.3614 - accuracy: 0.8418 - val_loss: 0.4789 - val_accuracy: 0.7881\n",
            "Epoch 10/150\n",
            "750/750 [==============================] - 8s 11ms/step - loss: 0.3561 - accuracy: 0.8461 - val_loss: 0.4876 - val_accuracy: 0.7737\n",
            "Epoch 11/150\n",
            "750/750 [==============================] - 8s 11ms/step - loss: 0.3477 - accuracy: 0.8481 - val_loss: 0.4741 - val_accuracy: 0.7896\n",
            "Epoch 12/150\n",
            "750/750 [==============================] - 8s 11ms/step - loss: 0.3427 - accuracy: 0.8531 - val_loss: 0.5197 - val_accuracy: 0.7745\n",
            "Epoch 13/150\n",
            "750/750 [==============================] - 8s 11ms/step - loss: 0.3374 - accuracy: 0.8537 - val_loss: 0.4893 - val_accuracy: 0.7759\n",
            "Epoch 14/150\n",
            "750/750 [==============================] - 8s 11ms/step - loss: 0.3310 - accuracy: 0.8593 - val_loss: 0.4869 - val_accuracy: 0.7829\n",
            "Epoch 15/150\n",
            "750/750 [==============================] - 8s 11ms/step - loss: 0.3243 - accuracy: 0.8610 - val_loss: 0.4974 - val_accuracy: 0.7756\n",
            "Epoch 16/150\n",
            "750/750 [==============================] - 8s 11ms/step - loss: 0.3130 - accuracy: 0.8670 - val_loss: 0.4819 - val_accuracy: 0.7781\n",
            "Epoch 17/150\n",
            "750/750 [==============================] - 8s 11ms/step - loss: 0.3032 - accuracy: 0.8717 - val_loss: 0.5290 - val_accuracy: 0.7741\n",
            "Epoch 18/150\n",
            "750/750 [==============================] - 8s 11ms/step - loss: 0.2906 - accuracy: 0.8791 - val_loss: 0.5340 - val_accuracy: 0.7711\n",
            "Epoch 19/150\n",
            "750/750 [==============================] - 8s 11ms/step - loss: 0.2818 - accuracy: 0.8837 - val_loss: 0.5190 - val_accuracy: 0.7726\n",
            "Epoch 20/150\n",
            "750/750 [==============================] - 8s 11ms/step - loss: 0.2689 - accuracy: 0.8882 - val_loss: 0.5125 - val_accuracy: 0.7715\n",
            "Epoch 21/150\n",
            "750/750 [==============================] - 8s 11ms/step - loss: 0.2584 - accuracy: 0.8935 - val_loss: 0.6164 - val_accuracy: 0.7745\n",
            "Epoch 22/150\n",
            "750/750 [==============================] - 8s 11ms/step - loss: 0.2467 - accuracy: 0.8988 - val_loss: 0.5897 - val_accuracy: 0.7752\n",
            "Epoch 23/150\n",
            "750/750 [==============================] - 8s 11ms/step - loss: 0.2386 - accuracy: 0.9009 - val_loss: 0.6309 - val_accuracy: 0.7649\n",
            "Epoch 24/150\n",
            "750/750 [==============================] - 8s 11ms/step - loss: 0.2283 - accuracy: 0.9075 - val_loss: 0.6661 - val_accuracy: 0.7700\n",
            "Epoch 25/150\n",
            "750/750 [==============================] - 8s 11ms/step - loss: 0.2227 - accuracy: 0.9102 - val_loss: 0.6408 - val_accuracy: 0.7700\n",
            "Epoch 26/150\n",
            "750/750 [==============================] - 8s 11ms/step - loss: 0.2141 - accuracy: 0.9145 - val_loss: 0.7248 - val_accuracy: 0.7674\n",
            "Epoch 27/150\n",
            "750/750 [==============================] - 8s 11ms/step - loss: 0.2038 - accuracy: 0.9182 - val_loss: 0.7733 - val_accuracy: 0.7597\n",
            "Epoch 28/150\n",
            "750/750 [==============================] - 8s 11ms/step - loss: 0.1972 - accuracy: 0.9220 - val_loss: 0.7352 - val_accuracy: 0.7708\n",
            "Epoch 29/150\n",
            "750/750 [==============================] - 8s 11ms/step - loss: 0.1873 - accuracy: 0.9227 - val_loss: 0.8010 - val_accuracy: 0.7722\n",
            "Epoch 30/150\n",
            "750/750 [==============================] - 8s 11ms/step - loss: 0.1812 - accuracy: 0.9287 - val_loss: 0.7662 - val_accuracy: 0.7652\n",
            "Epoch 31/150\n",
            "750/750 [==============================] - 8s 11ms/step - loss: 0.1754 - accuracy: 0.9309 - val_loss: 0.6916 - val_accuracy: 0.7678\n",
            "Epoch 32/150\n",
            "750/750 [==============================] - 8s 11ms/step - loss: 0.1721 - accuracy: 0.9327 - val_loss: 0.7248 - val_accuracy: 0.7667\n",
            "Epoch 33/150\n",
            "750/750 [==============================] - 8s 11ms/step - loss: 0.1648 - accuracy: 0.9355 - val_loss: 0.8420 - val_accuracy: 0.7656\n",
            "Epoch 34/150\n",
            "750/750 [==============================] - 8s 11ms/step - loss: 0.1551 - accuracy: 0.9404 - val_loss: 0.8897 - val_accuracy: 0.7578\n",
            "Epoch 35/150\n",
            "750/750 [==============================] - 9s 11ms/step - loss: 0.1544 - accuracy: 0.9401 - val_loss: 0.8693 - val_accuracy: 0.7586\n",
            "Epoch 36/150\n",
            "750/750 [==============================] - 8s 11ms/step - loss: 0.1456 - accuracy: 0.9446 - val_loss: 0.9040 - val_accuracy: 0.7582\n",
            "Epoch 37/150\n",
            "750/750 [==============================] - 9s 12ms/step - loss: 0.1412 - accuracy: 0.9470 - val_loss: 0.9572 - val_accuracy: 0.7612\n",
            "Epoch 38/150\n",
            "750/750 [==============================] - 10s 13ms/step - loss: 0.1342 - accuracy: 0.9514 - val_loss: 1.0228 - val_accuracy: 0.7501\n",
            "Epoch 39/150\n",
            "750/750 [==============================] - 8s 11ms/step - loss: 0.1312 - accuracy: 0.9524 - val_loss: 0.9994 - val_accuracy: 0.7490\n",
            "Epoch 40/150\n",
            "750/750 [==============================] - 8s 11ms/step - loss: 0.1232 - accuracy: 0.9551 - val_loss: 1.0202 - val_accuracy: 0.7590\n",
            "Epoch 41/150\n",
            "750/750 [==============================] - 8s 11ms/step - loss: 0.1259 - accuracy: 0.9544 - val_loss: 0.9093 - val_accuracy: 0.7482\n",
            "Epoch 42/150\n",
            "750/750 [==============================] - 8s 11ms/step - loss: 0.1186 - accuracy: 0.9581 - val_loss: 1.0948 - val_accuracy: 0.7505\n",
            "Epoch 43/150\n",
            "750/750 [==============================] - 8s 11ms/step - loss: 0.1144 - accuracy: 0.9600 - val_loss: 0.9294 - val_accuracy: 0.7549\n",
            "Epoch 44/150\n",
            "750/750 [==============================] - 8s 11ms/step - loss: 0.1074 - accuracy: 0.9624 - val_loss: 1.0581 - val_accuracy: 0.7567\n",
            "Epoch 45/150\n",
            "750/750 [==============================] - 9s 11ms/step - loss: 0.1112 - accuracy: 0.9611 - val_loss: 1.0609 - val_accuracy: 0.7527\n",
            "Epoch 46/150\n",
            "750/750 [==============================] - 8s 11ms/step - loss: 0.1068 - accuracy: 0.9625 - val_loss: 1.0314 - val_accuracy: 0.7508\n",
            "Epoch 47/150\n",
            "750/750 [==============================] - 9s 11ms/step - loss: 0.0998 - accuracy: 0.9659 - val_loss: 1.2508 - val_accuracy: 0.7545\n",
            "Epoch 48/150\n",
            "750/750 [==============================] - 8s 11ms/step - loss: 0.0982 - accuracy: 0.9663 - val_loss: 0.9827 - val_accuracy: 0.7549\n",
            "Epoch 49/150\n",
            "750/750 [==============================] - 9s 11ms/step - loss: 0.0943 - accuracy: 0.9681 - val_loss: 1.0864 - val_accuracy: 0.7501\n",
            "Epoch 50/150\n",
            "750/750 [==============================] - 9s 11ms/step - loss: 0.0947 - accuracy: 0.9679 - val_loss: 1.1089 - val_accuracy: 0.7471\n",
            "Epoch 51/150\n",
            "750/750 [==============================] - 9s 11ms/step - loss: 0.0945 - accuracy: 0.9683 - val_loss: 1.2546 - val_accuracy: 0.7519\n",
            "Epoch 52/150\n",
            "750/750 [==============================] - 8s 11ms/step - loss: 0.0841 - accuracy: 0.9717 - val_loss: 1.2016 - val_accuracy: 0.7446\n",
            "Epoch 53/150\n",
            "750/750 [==============================] - 8s 11ms/step - loss: 0.0884 - accuracy: 0.9705 - val_loss: 1.1054 - val_accuracy: 0.7523\n",
            "Epoch 54/150\n",
            "750/750 [==============================] - 8s 11ms/step - loss: 0.0822 - accuracy: 0.9724 - val_loss: 1.1437 - val_accuracy: 0.7527\n",
            "Epoch 55/150\n",
            "750/750 [==============================] - 9s 11ms/step - loss: 0.0810 - accuracy: 0.9727 - val_loss: 1.1240 - val_accuracy: 0.7497\n",
            "Epoch 56/150\n",
            "750/750 [==============================] - 8s 11ms/step - loss: 0.0796 - accuracy: 0.9741 - val_loss: 1.0482 - val_accuracy: 0.7494\n",
            "Epoch 57/150\n",
            "750/750 [==============================] - 8s 11ms/step - loss: 0.0734 - accuracy: 0.9762 - val_loss: 1.2878 - val_accuracy: 0.7497\n",
            "Epoch 58/150\n",
            "750/750 [==============================] - 8s 11ms/step - loss: 0.0783 - accuracy: 0.9743 - val_loss: 1.1965 - val_accuracy: 0.7460\n",
            "Epoch 59/150\n",
            "750/750 [==============================] - 8s 11ms/step - loss: 0.0729 - accuracy: 0.9760 - val_loss: 1.1232 - val_accuracy: 0.7427\n",
            "Epoch 60/150\n",
            "750/750 [==============================] - 8s 11ms/step - loss: 0.0734 - accuracy: 0.9765 - val_loss: 1.2817 - val_accuracy: 0.7564\n",
            "Epoch 61/150\n",
            "750/750 [==============================] - 8s 11ms/step - loss: 0.0700 - accuracy: 0.9776 - val_loss: 1.2199 - val_accuracy: 0.7542\n",
            "Epoch 62/150\n",
            "750/750 [==============================] - 8s 11ms/step - loss: 0.0727 - accuracy: 0.9753 - val_loss: 1.1026 - val_accuracy: 0.7556\n",
            "Epoch 63/150\n",
            "750/750 [==============================] - 8s 11ms/step - loss: 0.0694 - accuracy: 0.9778 - val_loss: 1.2731 - val_accuracy: 0.7453\n",
            "Epoch 64/150\n",
            "750/750 [==============================] - 8s 11ms/step - loss: 0.0664 - accuracy: 0.9792 - val_loss: 1.2359 - val_accuracy: 0.7505\n",
            "Epoch 65/150\n",
            "750/750 [==============================] - 8s 11ms/step - loss: 0.0650 - accuracy: 0.9794 - val_loss: 1.4825 - val_accuracy: 0.7468\n",
            "Epoch 66/150\n",
            "750/750 [==============================] - 8s 11ms/step - loss: 0.0647 - accuracy: 0.9793 - val_loss: 1.4322 - val_accuracy: 0.7497\n",
            "Epoch 67/150\n",
            "750/750 [==============================] - 9s 12ms/step - loss: 0.0610 - accuracy: 0.9805 - val_loss: 1.3003 - val_accuracy: 0.7446\n",
            "Epoch 68/150\n",
            "750/750 [==============================] - 8s 11ms/step - loss: 0.0612 - accuracy: 0.9813 - val_loss: 1.3489 - val_accuracy: 0.7442\n",
            "Epoch 69/150\n",
            "750/750 [==============================] - 8s 11ms/step - loss: 0.0593 - accuracy: 0.9814 - val_loss: 1.4919 - val_accuracy: 0.7453\n",
            "Epoch 70/150\n",
            "750/750 [==============================] - 8s 11ms/step - loss: 0.0586 - accuracy: 0.9817 - val_loss: 1.3936 - val_accuracy: 0.7512\n",
            "Epoch 71/150\n",
            "750/750 [==============================] - 8s 11ms/step - loss: 0.0590 - accuracy: 0.9804 - val_loss: 1.4455 - val_accuracy: 0.7471\n",
            "Epoch 72/150\n",
            "750/750 [==============================] - 8s 11ms/step - loss: 0.0593 - accuracy: 0.9812 - val_loss: 1.2751 - val_accuracy: 0.7508\n",
            "Epoch 73/150\n",
            "750/750 [==============================] - 8s 11ms/step - loss: 0.0539 - accuracy: 0.9830 - val_loss: 1.2328 - val_accuracy: 0.7486\n",
            "Epoch 74/150\n",
            "750/750 [==============================] - 8s 11ms/step - loss: 0.0582 - accuracy: 0.9811 - val_loss: 1.3963 - val_accuracy: 0.7423\n",
            "Epoch 75/150\n",
            "750/750 [==============================] - 8s 11ms/step - loss: 0.0560 - accuracy: 0.9823 - val_loss: 1.4763 - val_accuracy: 0.7482\n",
            "Epoch 76/150\n",
            "750/750 [==============================] - 9s 11ms/step - loss: 0.0524 - accuracy: 0.9835 - val_loss: 1.5240 - val_accuracy: 0.7401\n",
            "Epoch 77/150\n",
            "750/750 [==============================] - 10s 13ms/step - loss: 0.0505 - accuracy: 0.9842 - val_loss: 1.4480 - val_accuracy: 0.7416\n",
            "Epoch 78/150\n",
            "750/750 [==============================] - 9s 11ms/step - loss: 0.0539 - accuracy: 0.9829 - val_loss: 1.3957 - val_accuracy: 0.7516\n",
            "Epoch 79/150\n",
            "750/750 [==============================] - 8s 11ms/step - loss: 0.0566 - accuracy: 0.9828 - val_loss: 1.5384 - val_accuracy: 0.7446\n",
            "Epoch 80/150\n",
            "750/750 [==============================] - 8s 11ms/step - loss: 0.0512 - accuracy: 0.9838 - val_loss: 1.6257 - val_accuracy: 0.7416\n",
            "Epoch 81/150\n",
            "750/750 [==============================] - 8s 11ms/step - loss: 0.0477 - accuracy: 0.9850 - val_loss: 1.3336 - val_accuracy: 0.7542\n",
            "Epoch 82/150\n",
            "750/750 [==============================] - 8s 11ms/step - loss: 0.0456 - accuracy: 0.9855 - val_loss: 1.4823 - val_accuracy: 0.7449\n",
            "Epoch 83/150\n",
            "750/750 [==============================] - 8s 11ms/step - loss: 0.0516 - accuracy: 0.9839 - val_loss: 1.4986 - val_accuracy: 0.7401\n",
            "Epoch 84/150\n",
            "750/750 [==============================] - 8s 11ms/step - loss: 0.0529 - accuracy: 0.9836 - val_loss: 1.4722 - val_accuracy: 0.7494\n",
            "Epoch 85/150\n",
            "750/750 [==============================] - 9s 11ms/step - loss: 0.0398 - accuracy: 0.9869 - val_loss: 1.5758 - val_accuracy: 0.7420\n",
            "Epoch 86/150\n",
            "750/750 [==============================] - 8s 11ms/step - loss: 0.0425 - accuracy: 0.9866 - val_loss: 1.6700 - val_accuracy: 0.7423\n",
            "Epoch 87/150\n",
            "750/750 [==============================] - 9s 11ms/step - loss: 0.0547 - accuracy: 0.9829 - val_loss: 1.5226 - val_accuracy: 0.7471\n",
            "Epoch 88/150\n",
            "750/750 [==============================] - 9s 11ms/step - loss: 0.0432 - accuracy: 0.9860 - val_loss: 1.5260 - val_accuracy: 0.7479\n",
            "Epoch 89/150\n",
            "750/750 [==============================] - 8s 11ms/step - loss: 0.0451 - accuracy: 0.9860 - val_loss: 1.6334 - val_accuracy: 0.7427\n",
            "Epoch 90/150\n",
            "750/750 [==============================] - 9s 11ms/step - loss: 0.0545 - accuracy: 0.9834 - val_loss: 1.5991 - val_accuracy: 0.7464\n",
            "Epoch 91/150\n",
            "750/750 [==============================] - 9s 11ms/step - loss: 0.0408 - accuracy: 0.9870 - val_loss: 1.6688 - val_accuracy: 0.7490\n",
            "Epoch 92/150\n",
            "750/750 [==============================] - 9s 12ms/step - loss: 0.0398 - accuracy: 0.9877 - val_loss: 1.6900 - val_accuracy: 0.7460\n",
            "Epoch 93/150\n",
            "750/750 [==============================] - 8s 11ms/step - loss: 0.0392 - accuracy: 0.9872 - val_loss: 1.8615 - val_accuracy: 0.7416\n",
            "Epoch 94/150\n",
            "750/750 [==============================] - 8s 11ms/step - loss: 0.0403 - accuracy: 0.9862 - val_loss: 1.5490 - val_accuracy: 0.7401\n",
            "Epoch 95/150\n",
            "750/750 [==============================] - 8s 11ms/step - loss: 0.0485 - accuracy: 0.9845 - val_loss: 1.5034 - val_accuracy: 0.7538\n",
            "Epoch 96/150\n",
            "750/750 [==============================] - 8s 11ms/step - loss: 0.0442 - accuracy: 0.9855 - val_loss: 1.7057 - val_accuracy: 0.7457\n",
            "Epoch 97/150\n",
            "750/750 [==============================] - 8s 11ms/step - loss: 0.0439 - accuracy: 0.9860 - val_loss: 1.5985 - val_accuracy: 0.7453\n",
            "Epoch 98/150\n",
            "750/750 [==============================] - 8s 11ms/step - loss: 0.0439 - accuracy: 0.9861 - val_loss: 1.5496 - val_accuracy: 0.7542\n",
            "Epoch 99/150\n",
            "750/750 [==============================] - 9s 11ms/step - loss: 0.0368 - accuracy: 0.9886 - val_loss: 1.8502 - val_accuracy: 0.7405\n",
            "Epoch 100/150\n",
            "750/750 [==============================] - 8s 11ms/step - loss: 0.0397 - accuracy: 0.9871 - val_loss: 1.6810 - val_accuracy: 0.7446\n",
            "Epoch 101/150\n",
            "750/750 [==============================] - 8s 11ms/step - loss: 0.0389 - accuracy: 0.9882 - val_loss: 1.5215 - val_accuracy: 0.7505\n",
            "Epoch 102/150\n",
            "750/750 [==============================] - 8s 11ms/step - loss: 0.0505 - accuracy: 0.9835 - val_loss: 1.4859 - val_accuracy: 0.7398\n",
            "Epoch 103/150\n",
            "750/750 [==============================] - 8s 11ms/step - loss: 0.0364 - accuracy: 0.9876 - val_loss: 1.4453 - val_accuracy: 0.7471\n",
            "Epoch 104/150\n",
            "750/750 [==============================] - 8s 11ms/step - loss: 0.0322 - accuracy: 0.9896 - val_loss: 1.5949 - val_accuracy: 0.7420\n",
            "Epoch 105/150\n",
            "750/750 [==============================] - 8s 11ms/step - loss: 0.0399 - accuracy: 0.9868 - val_loss: 1.5799 - val_accuracy: 0.7464\n",
            "Epoch 106/150\n",
            "750/750 [==============================] - 8s 11ms/step - loss: 0.0459 - accuracy: 0.9865 - val_loss: 1.3875 - val_accuracy: 0.7512\n",
            "Epoch 107/150\n",
            "750/750 [==============================] - 8s 11ms/step - loss: 0.0396 - accuracy: 0.9876 - val_loss: 1.3549 - val_accuracy: 0.7490\n",
            "Epoch 108/150\n",
            "750/750 [==============================] - 8s 11ms/step - loss: 0.0352 - accuracy: 0.9890 - val_loss: 1.6102 - val_accuracy: 0.7497\n",
            "Epoch 109/150\n",
            "750/750 [==============================] - 8s 11ms/step - loss: 0.0332 - accuracy: 0.9896 - val_loss: 1.6002 - val_accuracy: 0.7505\n",
            "Epoch 110/150\n",
            "750/750 [==============================] - 9s 11ms/step - loss: 0.0419 - accuracy: 0.9872 - val_loss: 1.5056 - val_accuracy: 0.7490\n",
            "Epoch 111/150\n",
            "750/750 [==============================] - 8s 11ms/step - loss: 0.0422 - accuracy: 0.9855 - val_loss: 1.6468 - val_accuracy: 0.7482\n",
            "Epoch 112/150\n",
            "750/750 [==============================] - 8s 11ms/step - loss: 0.0389 - accuracy: 0.9880 - val_loss: 1.7095 - val_accuracy: 0.7416\n",
            "Epoch 113/150\n",
            "750/750 [==============================] - 8s 11ms/step - loss: 0.0372 - accuracy: 0.9891 - val_loss: 1.5453 - val_accuracy: 0.7486\n",
            "Epoch 114/150\n",
            "750/750 [==============================] - 8s 11ms/step - loss: 0.0334 - accuracy: 0.9900 - val_loss: 1.7017 - val_accuracy: 0.7482\n",
            "Epoch 115/150\n",
            "750/750 [==============================] - 10s 13ms/step - loss: 0.0350 - accuracy: 0.9886 - val_loss: 1.7636 - val_accuracy: 0.7516\n",
            "Epoch 116/150\n",
            "750/750 [==============================] - 8s 11ms/step - loss: 0.0388 - accuracy: 0.9874 - val_loss: 1.7427 - val_accuracy: 0.7386\n",
            "Epoch 117/150\n",
            "750/750 [==============================] - 8s 11ms/step - loss: 0.0327 - accuracy: 0.9895 - val_loss: 1.8596 - val_accuracy: 0.7427\n",
            "Epoch 118/150\n",
            "750/750 [==============================] - 8s 11ms/step - loss: 0.0444 - accuracy: 0.9858 - val_loss: 1.7876 - val_accuracy: 0.7512\n",
            "Epoch 119/150\n",
            "750/750 [==============================] - 8s 11ms/step - loss: 0.0423 - accuracy: 0.9867 - val_loss: 1.6937 - val_accuracy: 0.7471\n",
            "Epoch 120/150\n",
            "750/750 [==============================] - 9s 11ms/step - loss: 0.0283 - accuracy: 0.9902 - val_loss: 1.9840 - val_accuracy: 0.7490\n",
            "Epoch 121/150\n",
            "750/750 [==============================] - 8s 11ms/step - loss: 0.0314 - accuracy: 0.9895 - val_loss: 1.8211 - val_accuracy: 0.7468\n",
            "Epoch 122/150\n",
            "750/750 [==============================] - 8s 11ms/step - loss: 0.0347 - accuracy: 0.9889 - val_loss: 1.8665 - val_accuracy: 0.7475\n",
            "Epoch 123/150\n",
            "750/750 [==============================] - 8s 11ms/step - loss: 0.0358 - accuracy: 0.9879 - val_loss: 1.6964 - val_accuracy: 0.7490\n",
            "Epoch 124/150\n",
            "750/750 [==============================] - 8s 11ms/step - loss: 0.0387 - accuracy: 0.9881 - val_loss: 1.5411 - val_accuracy: 0.7475\n",
            "Epoch 125/150\n",
            "750/750 [==============================] - 9s 11ms/step - loss: 0.0337 - accuracy: 0.9889 - val_loss: 1.5874 - val_accuracy: 0.7486\n",
            "Epoch 126/150\n",
            "750/750 [==============================] - 9s 11ms/step - loss: 0.0313 - accuracy: 0.9891 - val_loss: 1.6196 - val_accuracy: 0.7386\n",
            "Epoch 127/150\n",
            "750/750 [==============================] - 8s 11ms/step - loss: 0.0401 - accuracy: 0.9881 - val_loss: 1.8205 - val_accuracy: 0.7401\n",
            "Epoch 128/150\n",
            "750/750 [==============================] - 9s 11ms/step - loss: 0.0263 - accuracy: 0.9913 - val_loss: 1.7913 - val_accuracy: 0.7420\n",
            "Epoch 129/150\n",
            "750/750 [==============================] - 9s 11ms/step - loss: 0.0253 - accuracy: 0.9913 - val_loss: 1.6130 - val_accuracy: 0.7438\n",
            "Epoch 130/150\n",
            "750/750 [==============================] - 8s 11ms/step - loss: 0.0341 - accuracy: 0.9900 - val_loss: 1.9869 - val_accuracy: 0.7412\n",
            "Epoch 131/150\n",
            "750/750 [==============================] - 8s 11ms/step - loss: 0.0451 - accuracy: 0.9874 - val_loss: 1.6639 - val_accuracy: 0.7457\n",
            "Epoch 132/150\n",
            "750/750 [==============================] - 9s 11ms/step - loss: 0.0341 - accuracy: 0.9886 - val_loss: 1.9344 - val_accuracy: 0.7449\n",
            "Epoch 133/150\n",
            "750/750 [==============================] - 8s 11ms/step - loss: 0.0336 - accuracy: 0.9890 - val_loss: 1.6591 - val_accuracy: 0.7423\n",
            "Epoch 134/150\n",
            "750/750 [==============================] - 8s 11ms/step - loss: 0.0292 - accuracy: 0.9907 - val_loss: 1.6010 - val_accuracy: 0.7468\n",
            "Epoch 135/150\n",
            "750/750 [==============================] - 9s 11ms/step - loss: 0.0336 - accuracy: 0.9898 - val_loss: 1.7553 - val_accuracy: 0.7501\n",
            "Epoch 136/150\n",
            "750/750 [==============================] - 9s 11ms/step - loss: 0.0322 - accuracy: 0.9896 - val_loss: 1.7871 - val_accuracy: 0.7475\n",
            "Epoch 137/150\n",
            "750/750 [==============================] - 8s 11ms/step - loss: 0.0346 - accuracy: 0.9886 - val_loss: 1.8515 - val_accuracy: 0.7527\n",
            "Epoch 138/150\n",
            "750/750 [==============================] - 8s 11ms/step - loss: 0.0379 - accuracy: 0.9878 - val_loss: 1.8889 - val_accuracy: 0.7449\n",
            "Epoch 139/150\n",
            "750/750 [==============================] - 8s 11ms/step - loss: 0.0378 - accuracy: 0.9873 - val_loss: 1.6182 - val_accuracy: 0.7438\n",
            "Epoch 140/150\n",
            "750/750 [==============================] - 8s 11ms/step - loss: 0.0295 - accuracy: 0.9900 - val_loss: 1.8338 - val_accuracy: 0.7486\n",
            "Epoch 141/150\n",
            "750/750 [==============================] - 9s 11ms/step - loss: 0.0263 - accuracy: 0.9910 - val_loss: 1.6319 - val_accuracy: 0.7464\n",
            "Epoch 142/150\n",
            "750/750 [==============================] - 8s 11ms/step - loss: 0.0317 - accuracy: 0.9896 - val_loss: 1.9771 - val_accuracy: 0.7420\n",
            "Epoch 143/150\n",
            "750/750 [==============================] - 8s 11ms/step - loss: 0.0348 - accuracy: 0.9891 - val_loss: 1.7625 - val_accuracy: 0.7497\n",
            "Epoch 144/150\n",
            "750/750 [==============================] - 8s 11ms/step - loss: 0.0289 - accuracy: 0.9902 - val_loss: 1.7944 - val_accuracy: 0.7482\n",
            "Epoch 145/150\n",
            "750/750 [==============================] - 8s 11ms/step - loss: 0.0290 - accuracy: 0.9904 - val_loss: 1.7411 - val_accuracy: 0.7468\n",
            "Epoch 146/150\n",
            "750/750 [==============================] - 8s 11ms/step - loss: 0.0331 - accuracy: 0.9891 - val_loss: 1.8886 - val_accuracy: 0.7479\n",
            "Epoch 147/150\n",
            "750/750 [==============================] - 8s 11ms/step - loss: 0.0320 - accuracy: 0.9895 - val_loss: 1.8874 - val_accuracy: 0.7364\n",
            "Epoch 148/150\n",
            "750/750 [==============================] - 9s 11ms/step - loss: 0.0288 - accuracy: 0.9901 - val_loss: 1.9526 - val_accuracy: 0.7486\n",
            "Epoch 149/150\n",
            "750/750 [==============================] - 9s 13ms/step - loss: 0.0363 - accuracy: 0.9885 - val_loss: 1.8679 - val_accuracy: 0.7475\n",
            "Epoch 150/150\n",
            "750/750 [==============================] - 9s 11ms/step - loss: 0.0300 - accuracy: 0.9902 - val_loss: 1.7150 - val_accuracy: 0.7460\n"
          ]
        }
      ]
    },
    {
      "cell_type": "code",
      "source": [
        "def plot_graphs(history, string):\n",
        "  plt.plot(history.history[string]);\n",
        "  plt.plot(history.history['val_'+string]);\n",
        "  plt.legend([string, 'val_'+string]);\n",
        "  plt.show()\n",
        "\n",
        "plot_graphs(history, 'accuracy')\n",
        "plot_graphs(history, 'loss')"
      ],
      "metadata": {
        "colab": {
          "base_uri": "https://localhost:8080/",
          "height": 513
        },
        "id": "03KqoXfMP2HM",
        "outputId": "042eef23-0760-4cd3-ebad-d71003d3c124"
      },
      "execution_count": 13,
      "outputs": [
        {
          "output_type": "display_data",
          "data": {
            "text/plain": [
              "<Figure size 432x288 with 1 Axes>"
            ],
            "image/png": "[encoded data removed]"
          },
          "metadata": {
            "needs_background": "light"
          }
        },
        {
          "output_type": "display_data",
          "data": {
            "text/plain": [
              "<Figure size 432x288 with 1 Axes>"
            ],
            "image/png": "[encoded data removed]"
          },
          "metadata": {
            "needs_background": "light"
          }
        }
      ]
    },
    {
      "cell_type": "code",
      "source": [
        "reverse_word_index = dict([(value, key) for (key, value) in word_index.items()])\n",
        "\n",
        "def decode_sentence(text):\n",
        "  return ' '.join([reverse_word_index.get(i, '?') for i in text])\n",
        "\n",
        "print(decode_sentence(training_padded[2]))\n",
        "print(training_sentences[2])\n",
        "print(labels[2])"
      ],
      "metadata": {
        "colab": {
          "base_uri": "https://localhost:8080/"
        },
        "id": "l6ksKnLERQX3",
        "outputId": "d837c7bd-9547-489e-f942-349e14045793"
      },
      "execution_count": 14,
      "outputs": [
        {
          "output_type": "stream",
          "name": "stdout",
          "text": [
            "mom starting fear sons  series  thing will  ? ? ? ? ? ? ? ? ? ? ? ? ? ? ? ? ? ? ? ? ? ? ? ? ? ? ? ? ? ? ? ? ? ? ? ? ? ? ? ? ? ? ? ? ? ? ? ? ? ? ? ? ? ? ? ? ? ? ? ? ? ? ? ? ? ? ? ? ? ? ? ? ? ? ? ? ? ? ? ? ? ? ? ? ? ? ? ? ? ?\n",
            "mom starting fear sons web series closest thing will grandchild \n",
            "1\n"
          ]
        }
      ]
    },
    {
      "cell_type": "code",
      "source": [
        "e = model.layers[0]\n",
        "weights = e.get_weights()[0]\n",
        "weights.shape # shape: (vocab_size, embedding_dim)"
      ],
      "metadata": {
        "colab": {
          "base_uri": "https://localhost:8080/"
        },
        "id": "0mziIAfuSFDo",
        "outputId": "453e7873-bad7-4b38-8a0e-ca58ec533cde"
      },
      "execution_count": 22,
      "outputs": [
        {
          "output_type": "execute_result",
          "data": {
            "text/plain": [
              "(2000, 7)"
            ]
          },
          "metadata": {},
          "execution_count": 22
        }
      ]
    },
    {
      "cell_type": "code",
      "source": [
        "print(reverse_word_index[2])\n",
        "print(weights[2])"
      ],
      "metadata": {
        "colab": {
          "base_uri": "https://localhost:8080/"
        },
        "id": "VB9TA6ZqRQV-",
        "outputId": "ab7a8c67-50b9-4f6f-b4bc-1449aa57e8bd"
      },
      "execution_count": 23,
      "outputs": [
        {
          "output_type": "stream",
          "name": "stdout",
          "text": [
            "new\n",
            "[-0.25798702 -0.03797948  0.17335734  0.12450952 -0.01448106  0.15106018\n",
            " -0.2811939 ]\n"
          ]
        }
      ]
    },
    {
      "cell_type": "code",
      "source": [
        "test_sentences = [\"It Was, For, Uh, Medical Reasons, Says Doctor To Boris Johnson, Explaining Why They Had To Give Him Haircut\",\n",
        "                  \"It's a beautiful sunny day\",\n",
        "                  \"I lived in Ireland, so in High School they made me learn to speak and write in Gaelic\",\n",
        "                  \"Census Foot Soldiers Swarm Neighborhoods, Kick Down Doors To Tally Household Sizes\"]\n",
        "sequences = tokenizer.texts_to_sequences(test_sentences)\n",
        "print(sequences)\n",
        "\n",
        "padded = pad_sequences(sequences, maxlen=max_length, padding=padding_type, truncating=trunc_type)\n",
        "print(padded)\n",
        "\n",
        "predictions = model.predict(padded)\n",
        "print(predictions)"
      ],
      "metadata": {
        "colab": {
          "base_uri": "https://localhost:8080/"
        },
        "id": "2sIxHetYTH6z",
        "outputId": "429246bc-d86f-478e-d938-3e63be5d9ff0"
      },
      "execution_count": 25,
      "outputs": [
        {
          "output_type": "stream",
          "name": "stdout",
          "text": [
            "[[1, 1, 1, 1, 1260, 506, 16, 767, 1, 1, 1374, 1, 1, 1, 1, 1, 174, 1, 1], [1, 1, 448, 1, 14], [1, 1, 1, 1, 1, 1, 92, 51, 1, 136, 1, 969, 1, 1109, 1, 1651, 1, 1], [1, 1288, 1, 1, 1, 1985, 1, 1, 1, 1, 1, 1]]\n",
            "[[   1    1    1    1 1260  506   16  767    1    1 1374    1    1    1\n",
            "     1    1  174    1    1    0    0    0    0    0    0    0    0    0\n",
            "     0    0    0    0    0    0    0    0    0    0    0    0    0    0\n",
            "     0    0    0    0    0    0    0    0    0    0    0    0    0    0\n",
            "     0    0    0    0    0    0    0    0    0    0    0    0    0    0\n",
            "     0    0    0    0    0    0    0    0    0    0    0    0    0    0\n",
            "     0    0    0    0    0    0    0    0    0    0    0    0    0    0\n",
            "     0    0]\n",
            " [   1    1  448    1   14    0    0    0    0    0    0    0    0    0\n",
            "     0    0    0    0    0    0    0    0    0    0    0    0    0    0\n",
            "     0    0    0    0    0    0    0    0    0    0    0    0    0    0\n",
            "     0    0    0    0    0    0    0    0    0    0    0    0    0    0\n",
            "     0    0    0    0    0    0    0    0    0    0    0    0    0    0\n",
            "     0    0    0    0    0    0    0    0    0    0    0    0    0    0\n",
            "     0    0    0    0    0    0    0    0    0    0    0    0    0    0\n",
            "     0    0]\n",
            " [   1    1    1    1    1    1   92   51    1  136    1  969    1 1109\n",
            "     1 1651    1    1    0    0    0    0    0    0    0    0    0    0\n",
            "     0    0    0    0    0    0    0    0    0    0    0    0    0    0\n",
            "     0    0    0    0    0    0    0    0    0    0    0    0    0    0\n",
            "     0    0    0    0    0    0    0    0    0    0    0    0    0    0\n",
            "     0    0    0    0    0    0    0    0    0    0    0    0    0    0\n",
            "     0    0    0    0    0    0    0    0    0    0    0    0    0    0\n",
            "     0    0]\n",
            " [   1 1288    1    1    1 1985    1    1    1    1    1    1    0    0\n",
            "     0    0    0    0    0    0    0    0    0    0    0    0    0    0\n",
            "     0    0    0    0    0    0    0    0    0    0    0    0    0    0\n",
            "     0    0    0    0    0    0    0    0    0    0    0    0    0    0\n",
            "     0    0    0    0    0    0    0    0    0    0    0    0    0    0\n",
            "     0    0    0    0    0    0    0    0    0    0    0    0    0    0\n",
            "     0    0    0    0    0    0    0    0    0    0    0    0    0    0\n",
            "     0    0]]\n",
            "1/1 [==============================] - 0s 21ms/step\n",
            "[[0.9998498]\n",
            " [0.0180697]\n",
            " [0.9996592]\n",
            " [0.9999491]]\n"
          ]
        }
      ]
    }
  ]
}