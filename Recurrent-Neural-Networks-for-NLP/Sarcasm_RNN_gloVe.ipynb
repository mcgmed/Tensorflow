{
  "nbformat": 4,
  "nbformat_minor": 0,
  "metadata": {
    "colab": {
      "provenance": [],
      "authorship_tag": "ABX9TyMcCLY9GHIoojUMvEyTRFwC",
      "include_colab_link": true
    },
    "kernelspec": {
      "name": "python3",
      "display_name": "Python 3"
    },
    "language_info": {
      "name": "python"
    },
    "gpuClass": "standard",
    "accelerator": "GPU"
  },
  "cells": [
    {
      "cell_type": "markdown",
      "metadata": {
        "id": "view-in-github",
        "colab_type": "text"
      },
      "source": [
        "<a href=\"https://colab.research.google.com/github/mcgmed/Tensorflow/blob/main/Recurrent-Neural-Networks-for-NLP/Sarcasm_RNN_gloVe.ipynb\" target=\"_parent\"><img src=\"https://colab.research.google.com/assets/colab-badge.svg\" alt=\"Open In Colab\"/></a>"
      ]
    },
    {
      "cell_type": "code",
      "execution_count": 1,
      "metadata": {
        "id": "ZyJ0xE8pyC84"
      },
      "outputs": [],
      "source": [
        "import json\n",
        "import string\n",
        "import numpy as np\n",
        "import tensorflow as tf\n",
        "import matplotlib.pyplot as plt\n",
        "import os\n",
        "import zipfile\n",
        "from tensorflow.keras.preprocessing.text import Tokenizer\n",
        "from tensorflow.keras.preprocessing.sequence import pad_sequences\n",
        "from bs4 import BeautifulSoup"
      ]
    },
    {
      "cell_type": "code",
      "source": [
        "!wget --no-check-certificate \\\n",
        "    https://storage.googleapis.com/laurencemoroney-blog.appspot.com/sarcasm.json \\\n",
        "    -O /tmp/sarcasm.json\n",
        "\n",
        "# !wget --no-check-certificate \\\n",
        "#     https://nlp.stanford.edu/data/glove.twitter.27B.zip \\\n",
        "#     -O /tmp/glove.zip"
      ],
      "metadata": {
        "colab": {
          "base_uri": "https://localhost:8080/"
        },
        "id": "WfSQlOiUy6n3",
        "outputId": "b752ebe0-b9f6-4057-e4c5-b09353ce4907"
      },
      "execution_count": 2,
      "outputs": [
        {
          "output_type": "stream",
          "name": "stdout",
          "text": [
            "--2022-11-29 19:52:16--  https://storage.googleapis.com/laurencemoroney-blog.appspot.com/sarcasm.json\n",
            "Resolving storage.googleapis.com (storage.googleapis.com)... 172.217.219.128, 209.85.146.128, 209.85.147.128, ...\n",
            "Connecting to storage.googleapis.com (storage.googleapis.com)|172.217.219.128|:443... connected.\n",
            "HTTP request sent, awaiting response... 200 OK\n",
            "Length: 5643545 (5.4M) [application/json]\n",
            "Saving to: ‘/tmp/sarcasm.json’\n",
            "\n",
            "\r/tmp/sarcasm.json     0%[                    ]       0  --.-KB/s               \r/tmp/sarcasm.json   100%[===================>]   5.38M  --.-KB/s    in 0.05s   \n",
            "\n",
            "2022-11-29 19:52:16 (107 MB/s) - ‘/tmp/sarcasm.json’ saved [5643545/5643545]\n",
            "\n"
          ]
        }
      ]
    },
    {
      "cell_type": "code",
      "source": [
        "with open(\"/tmp/sarcasm.json\", 'r') as f:\n",
        "    datastore = json.load(f)\n",
        "\n",
        "datastore[:3]"
      ],
      "metadata": {
        "colab": {
          "base_uri": "https://localhost:8080/"
        },
        "id": "VDOEk3dnzYek",
        "outputId": "bfd4dd80-877b-400d-e952-8ce9e05f6c00"
      },
      "execution_count": 63,
      "outputs": [
        {
          "output_type": "execute_result",
          "data": {
            "text/plain": [
              "[{'article_link': 'https://www.huffingtonpost.com/entry/versace-black-code_us_5861fbefe4b0de3a08f600d5',\n",
              "  'headline': \"former versace store clerk sues over secret 'black code' for minority shoppers\",\n",
              "  'is_sarcastic': 0},\n",
              " {'article_link': 'https://www.huffingtonpost.com/entry/roseanne-revival-review_us_5ab3a497e4b054d118e04365',\n",
              "  'headline': \"the 'roseanne' revival catches up to our thorny political mood, for better and worse\",\n",
              "  'is_sarcastic': 0},\n",
              " {'article_link': 'https://local.theonion.com/mom-starting-to-fear-son-s-web-series-closest-thing-she-1819576697',\n",
              "  'headline': \"mom starting to fear son's web series closest thing she will have to grandchild\",\n",
              "  'is_sarcastic': 1}]"
            ]
          },
          "metadata": {},
          "execution_count": 63
        }
      ]
    },
    {
      "cell_type": "markdown",
      "source": [
        "glove.twitter.27B.25d.txt file is found on Internet and uploaded by hand."
      ],
      "metadata": {
        "id": "H8Ylocpo8RVE"
      }
    },
    {
      "cell_type": "code",
      "source": [
        "glove_embeddings = dict()\n",
        "f = open('/tmp/glove.twitter.27B.25d.txt')\n",
        "for line in f:\n",
        "  values = line.split()\n",
        "  word = values[0]\n",
        "  coefs = np.asarray(values[1:], dtype='float32')\n",
        "  glove_embeddings[word] = coefs\n",
        "f.close()\n",
        "\n",
        "print('Loaded %s word vectors.' % len(glove_embeddings))"
      ],
      "metadata": {
        "colab": {
          "base_uri": "https://localhost:8080/"
        },
        "id": "G5P9vSiq9GDy",
        "outputId": "953d5400-cdd6-4049-c39d-f1767d0eb30e"
      },
      "execution_count": 39,
      "outputs": [
        {
          "output_type": "stream",
          "name": "stdout",
          "text": [
            "Loaded 362 word vectors.\n"
          ]
        }
      ]
    },
    {
      "cell_type": "code",
      "source": [
        "glove_embeddings.pop('stop')"
      ],
      "metadata": {
        "colab": {
          "base_uri": "https://localhost:8080/"
        },
        "id": "-LPYfoe8BkVw",
        "outputId": "5fb70a51-3761-4c58-b7df-6e9a9d98640d"
      },
      "execution_count": 42,
      "outputs": [
        {
          "output_type": "execute_result",
          "data": {
            "text/plain": [
              "array([ 0.11609,  1.0681 , -0.0841 ], dtype=float32)"
            ]
          },
          "metadata": {},
          "execution_count": 42
        }
      ]
    },
    {
      "cell_type": "code",
      "source": [
        "glove_embeddings['home']"
      ],
      "metadata": {
        "colab": {
          "base_uri": "https://localhost:8080/"
        },
        "id": "-ECW95pZ-GvC",
        "outputId": "f1c6756c-09fe-4964-a8e4-8c776ba34cd0"
      },
      "execution_count": 44,
      "outputs": [
        {
          "output_type": "execute_result",
          "data": {
            "text/plain": [
              "array([-1.0591  ,  0.672   ,  0.63173 , -0.73768 , -0.208   ,  0.34584 ,\n",
              "        0.97608 , -0.064819,  0.17373 ,  0.3218  , -0.24289 , -0.23366 ,\n",
              "       -4.7382  ,  0.045759,  0.42937 , -0.53261 ,  0.41289 , -0.55134 ,\n",
              "       -0.68221 , -0.66009 , -0.47127 , -0.50653 ,  0.30581 ,  0.13673 ,\n",
              "        0.39416 ], dtype=float32)"
            ]
          },
          "metadata": {},
          "execution_count": 44
        }
      ]
    },
    {
      "cell_type": "code",
      "source": [
        "stopwords = [\"a\", \"about\", \"above\", \"after\", \"again\", \"against\", \"all\", \"am\", \"an\", \"and\", \"any\", \"are\", \"as\", \"at\",\n",
        "             \"be\", \"because\", \"been\", \"before\", \"being\", \"below\", \"between\", \"both\", \"but\", \"by\", \"could\", \"did\", \"do\",\n",
        "             \"does\", \"doing\", \"down\", \"during\", \"each\", \"few\", \"for\", \"from\", \"further\", \"had\", \"has\", \"have\", \"having\",\n",
        "             \"he\", \"hed\", \"hes\", \"her\", \"here\", \"heres\", \"hers\", \"herself\", \"him\", \"himself\", \"his\", \"how\",\n",
        "             \"hows\", \"i\", \"id\", \"ill\", \"im\", \"ive\", \"if\", \"in\", \"into\", \"is\", \"it\", \"its\", \"itself\",\n",
        "             \"lets\", \"me\", \"more\", \"most\", \"my\", \"myself\", \"nor\", \"of\", \"on\", \"once\", \"only\", \"or\", \"other\", \"ought\",\n",
        "             \"our\", \"ours\", \"ourselves\", \"out\", \"over\", \"own\", \"same\", \"she\", \"shed\", \"shell\", \"shes\", \"should\",\n",
        "             \"so\", \"some\", \"such\", \"than\", \"that\", \"thats\", \"the\", \"their\", \"theirs\", \"them\", \"themselves\", \"then\",\n",
        "             \"there\", \"theres\", \"these\", \"they\", \"theyd\", \"theyll\", \"theyre\", \"theyve\", \"this\", \"those\", \"through\",\n",
        "             \"to\", \"too\", \"under\", \"until\", \"up\", \"very\", \"was\", \"we\", \"wed\", \"well\", \"were\", \"weve\", \"were\",\n",
        "             \"what\", \"whats\", \"when\", \"whens\", \"where\", \"wheres\", \"which\", \"while\", \"who\", \"whos\", \"whom\", \"why\",\n",
        "             \"whys\", \"with\", \"would\", \"you\", \"youd\", \"youll\", \"youre\", \"youve\", \"your\", \"yours\", \"yourself\",\n",
        "             \"yourselves\"]\n",
        "\n",
        "table = str.maketrans('', '', string.punctuation)\n",
        "\n",
        "sentences = [] \n",
        "labels = []\n",
        "urls = []\n",
        "\n",
        "for item in datastore:\n",
        "    sentence = item['headline'].lower()\n",
        "    sentence = sentence.replace(\",\", \" , \")\n",
        "    sentence = sentence.replace(\".\", \" . \")\n",
        "    sentence = sentence.replace(\"-\", \" - \")\n",
        "    sentence = sentence.replace(\"/\", \" / \")\n",
        "    soup = BeautifulSoup(sentence)\n",
        "    sentence = soup.get_text()\n",
        "    words = sentence.split()\n",
        "    filtered_sentence = \"\"\n",
        "    for word in words:\n",
        "        word = word.translate(table)\n",
        "        if word not in stopwords:\n",
        "            filtered_sentence = filtered_sentence + word + \" \"\n",
        "    sentences.append(filtered_sentence)\n",
        "    labels.append(item['is_sarcastic'])\n",
        "    urls.append(item['article_link'])"
      ],
      "metadata": {
        "id": "F_Y6jKjZzkjm"
      },
      "execution_count": 45,
      "outputs": []
    },
    {
      "cell_type": "code",
      "source": [
        "vocab_size = 13200\n",
        "embedding_dim = 25\n",
        "max_length = 50\n",
        "trunc_type='post'\n",
        "padding_type='post'\n",
        "oov_tok = \"\"\n",
        "training_size = 23000\n",
        "num_epochs = 30"
      ],
      "metadata": {
        "id": "DOsU2W2tzvCr"
      },
      "execution_count": 46,
      "outputs": []
    },
    {
      "cell_type": "code",
      "source": [
        "print(f'Length of sentences: {len(sentences)}')\n",
        "\n",
        "training_sentences = sentences[0:training_size]\n",
        "testing_sentences = sentences[training_size:]\n",
        "training_labels = labels[0:training_size]\n",
        "testing_labels = labels[training_size:]\n",
        "\n",
        "tokenizer = Tokenizer(num_words=vocab_size, oov_token=oov_tok)\n",
        "tokenizer.fit_on_texts(training_sentences)\n",
        "\n",
        "word_index = tokenizer.word_index\n",
        "print(f'Instances from word index: {list(word_index.items())[:6]}')\n",
        "\n",
        "wc = tokenizer.word_counts\n",
        "print(f'Instances from word counts: {list(wc.items())[:6]}')\n",
        "\n",
        "training_sequences = tokenizer.texts_to_sequences(training_sentences)\n",
        "training_padded = pad_sequences(training_sequences, maxlen=max_length, padding=padding_type, truncating=trunc_type)\n",
        "\n",
        "testing_sequences = tokenizer.texts_to_sequences(testing_sentences)\n",
        "testing_padded = pad_sequences(testing_sequences, maxlen=max_length, padding=padding_type, truncating=trunc_type)"
      ],
      "metadata": {
        "colab": {
          "base_uri": "https://localhost:8080/"
        },
        "id": "DkMJycSfz_eY",
        "outputId": "3892ebb3-e04b-4d97-be62-b9dd6b576b70"
      },
      "execution_count": 47,
      "outputs": [
        {
          "output_type": "stream",
          "name": "stdout",
          "text": [
            "Length of sentences: 26709\n",
            "Instances from word index: [('', 1), ('new', 2), ('trump', 3), ('man', 4), ('not', 5), ('just', 6)]\n",
            "Instances from word counts: [('former', 90), ('versace', 1), ('store', 44), ('clerk', 9), ('sues', 13), ('secret', 78)]\n"
          ]
        }
      ]
    },
    {
      "cell_type": "code",
      "source": [
        "xs=[]\n",
        "ys=[]\n",
        "cumulative_x=[]\n",
        "cumulative_y=[]\n",
        "total_y=0\n",
        "for word, index in tokenizer.word_index.items():\n",
        "  xs.append(index)\n",
        "  cumulative_x.append(index)\n",
        "  if glove_embeddings.get(word) is not None:\n",
        "    total_y = total_y + 1\n",
        "    ys.append(1)\n",
        "  else:\n",
        "    ys.append(0)\n",
        "  cumulative_y.append(total_y / index)"
      ],
      "metadata": {
        "id": "H9juzWRL0Vlq"
      },
      "execution_count": 48,
      "outputs": []
    },
    {
      "cell_type": "code",
      "source": [
        "fig, ax = plt.subplots(figsize=(12,2))\n",
        "ax.spines['top'].set_visible(False)\n",
        "\n",
        "plt.margins(x=0, y=None, tight=True)\n",
        "#plt.axis([13000, 14000, 0, 1])\n",
        "plt.fill(ys)"
      ],
      "metadata": {
        "colab": {
          "base_uri": "https://localhost:8080/",
          "height": 174
        },
        "id": "LN7--FZG0axI",
        "outputId": "a999eb11-8c31-45af-8bb0-1d7ee2659bd4"
      },
      "execution_count": 49,
      "outputs": [
        {
          "output_type": "execute_result",
          "data": {
            "text/plain": [
              "[<matplotlib.patches.Polygon at 0x7fdb4b24d310>]"
            ]
          },
          "metadata": {},
          "execution_count": 49
        },
        {
          "output_type": "display_data",
          "data": {
            "text/plain": [
              "<Figure size 864x144 with 1 Axes>"
            ],
            "image/png": "[encoded data removed]"
          },
          "metadata": {
            "needs_background": "light"
          }
        }
      ]
    },
    {
      "cell_type": "code",
      "source": [
        "plt.plot(cumulative_x, cumulative_y)\n",
        "plt.axis([13000, 14000, .97, .98])\n",
        "print(cumulative_y[-1:])"
      ],
      "metadata": {
        "colab": {
          "base_uri": "https://localhost:8080/",
          "height": 286
        },
        "id": "EUAHDRyk0dku",
        "outputId": "2c2464bd-c9dd-4fc3-dc9d-ec6c1cca8d69"
      },
      "execution_count": 50,
      "outputs": [
        {
          "output_type": "stream",
          "name": "stdout",
          "text": [
            "[0.006092791568893829]\n"
          ]
        },
        {
          "output_type": "display_data",
          "data": {
            "text/plain": [
              "<Figure size 432x288 with 1 Axes>"
            ],
            "image/png": "[encoded data removed]"
          },
          "metadata": {
            "needs_background": "light"
          }
        }
      ]
    },
    {
      "cell_type": "code",
      "source": [
        "embedding_matrix = np.zeros((vocab_size, embedding_dim))\n",
        "for word, index in tokenizer.word_index.items():\n",
        "  if index > vocab_size - 1:\n",
        "    break\n",
        "  else:\n",
        "    embedding_vector = glove_embeddings.get(word)\n",
        "    if embedding_vector is not None:\n",
        "      embedding_matrix[index] = embedding_vector"
      ],
      "metadata": {
        "id": "4HcWNa2_0ijV"
      },
      "execution_count": 53,
      "outputs": []
    },
    {
      "cell_type": "code",
      "source": [
        "print(embedding_matrix[2])"
      ],
      "metadata": {
        "colab": {
          "base_uri": "https://localhost:8080/"
        },
        "id": "sFmYmfWJ0jvO",
        "outputId": "3648ec6a-5733-44eb-d979-1ef3e780bc49"
      },
      "execution_count": 54,
      "outputs": [
        {
          "output_type": "stream",
          "name": "stdout",
          "text": [
            "[-0.177       0.43200001  0.21391    -0.29515001  0.47343999 -0.38012999\n",
            "  1.60179996  0.56238002  0.40478    -0.57094002  0.34154001  0.40245\n",
            " -5.07679987 -0.1568     -0.27046999 -0.71336001  0.50856    -0.25975999\n",
            " -0.47931999  0.60913002 -1.00300002 -1.02250004 -0.099247   -0.58947998\n",
            " -0.42467999]\n"
          ]
        }
      ]
    },
    {
      "cell_type": "code",
      "source": [
        "training_padded = np.array(training_padded)\n",
        "training_labels = np.array(training_labels)\n",
        "testing_padded = np.array(testing_padded)\n",
        "testing_labels = np.array(testing_labels)"
      ],
      "metadata": {
        "id": "stNm_U7N0vEW"
      },
      "execution_count": 55,
      "outputs": []
    },
    {
      "cell_type": "code",
      "source": [
        "model = tf.keras.Sequential([\n",
        "    tf.keras.layers.Embedding(vocab_size, embedding_dim, weights=[embedding_matrix], trainable=False),\n",
        "    tf.keras.layers.Bidirectional(tf.keras.layers.LSTM(embedding_dim, return_sequences=True)),\n",
        "    tf.keras.layers.Bidirectional(tf.keras.layers.LSTM(embedding_dim)),\n",
        "    tf.keras.layers.Dense(24, activation='relu'),\n",
        "    tf.keras.layers.Dense(1, activation='sigmoid')\n",
        "])\n",
        "\n",
        "adam = tf.keras.optimizers.Adam(learning_rate=0.00001, beta_1=0.9, beta_2=0.999, amsgrad=False)\n",
        "model.compile(loss='binary_crossentropy',optimizer=adam, metrics=['accuracy'])\n",
        "model.summary()"
      ],
      "metadata": {
        "colab": {
          "base_uri": "https://localhost:8080/"
        },
        "id": "ouis-Qbk0ynq",
        "outputId": "61cb81f2-23f8-410a-afb1-d2f9bd6f0125"
      },
      "execution_count": 56,
      "outputs": [
        {
          "output_type": "stream",
          "name": "stdout",
          "text": [
            "Model: \"sequential\"\n",
            "_________________________________________________________________\n",
            " Layer (type)                Output Shape              Param #   \n",
            "=================================================================\n",
            " embedding (Embedding)       (None, None, 25)          330000    \n",
            "                                                                 \n",
            " bidirectional (Bidirectiona  (None, None, 50)         10200     \n",
            " l)                                                              \n",
            "                                                                 \n",
            " bidirectional_1 (Bidirectio  (None, 50)               15200     \n",
            " nal)                                                            \n",
            "                                                                 \n",
            " dense (Dense)               (None, 24)                1224      \n",
            "                                                                 \n",
            " dense_1 (Dense)             (None, 1)                 25        \n",
            "                                                                 \n",
            "=================================================================\n",
            "Total params: 356,649\n",
            "Trainable params: 26,649\n",
            "Non-trainable params: 330,000\n",
            "_________________________________________________________________\n"
          ]
        }
      ]
    },
    {
      "cell_type": "code",
      "source": [
        "history = model.fit(training_padded, training_labels, epochs=num_epochs, validation_data=(testing_padded, testing_labels))"
      ],
      "metadata": {
        "colab": {
          "base_uri": "https://localhost:8080/"
        },
        "id": "u55gOL4M09jv",
        "outputId": "b05ec607-da7c-444b-94af-2d0742b20363"
      },
      "execution_count": 57,
      "outputs": [
        {
          "output_type": "stream",
          "name": "stdout",
          "text": [
            "Epoch 1/30\n",
            "719/719 [==============================] - 25s 19ms/step - loss: 0.6918 - accuracy: 0.5524 - val_loss: 0.6895 - val_accuracy: 0.5689\n",
            "Epoch 2/30\n",
            "719/719 [==============================] - 12s 17ms/step - loss: 0.6877 - accuracy: 0.5636 - val_loss: 0.6844 - val_accuracy: 0.5767\n",
            "Epoch 3/30\n",
            "719/719 [==============================] - 13s 18ms/step - loss: 0.6841 - accuracy: 0.5661 - val_loss: 0.6806 - val_accuracy: 0.5813\n",
            "Epoch 4/30\n",
            "719/719 [==============================] - 13s 17ms/step - loss: 0.6814 - accuracy: 0.5725 - val_loss: 0.6778 - val_accuracy: 0.5875\n",
            "Epoch 5/30\n",
            "719/719 [==============================] - 13s 18ms/step - loss: 0.6792 - accuracy: 0.5779 - val_loss: 0.6753 - val_accuracy: 0.5864\n",
            "Epoch 6/30\n",
            "719/719 [==============================] - 12s 17ms/step - loss: 0.6772 - accuracy: 0.5844 - val_loss: 0.6732 - val_accuracy: 0.6050\n",
            "Epoch 7/30\n",
            "719/719 [==============================] - 12s 17ms/step - loss: 0.6753 - accuracy: 0.5938 - val_loss: 0.6707 - val_accuracy: 0.6058\n",
            "Epoch 8/30\n",
            "719/719 [==============================] - 12s 16ms/step - loss: 0.6733 - accuracy: 0.5956 - val_loss: 0.6681 - val_accuracy: 0.6066\n",
            "Epoch 9/30\n",
            "719/719 [==============================] - 12s 16ms/step - loss: 0.6714 - accuracy: 0.5980 - val_loss: 0.6656 - val_accuracy: 0.6083\n",
            "Epoch 10/30\n",
            "719/719 [==============================] - 11s 15ms/step - loss: 0.6696 - accuracy: 0.5996 - val_loss: 0.6633 - val_accuracy: 0.6101\n",
            "Epoch 11/30\n",
            "719/719 [==============================] - 11s 16ms/step - loss: 0.6679 - accuracy: 0.6022 - val_loss: 0.6610 - val_accuracy: 0.6128\n",
            "Epoch 12/30\n",
            "719/719 [==============================] - 11s 15ms/step - loss: 0.6665 - accuracy: 0.6027 - val_loss: 0.6597 - val_accuracy: 0.6123\n",
            "Epoch 13/30\n",
            "719/719 [==============================] - 11s 16ms/step - loss: 0.6654 - accuracy: 0.6033 - val_loss: 0.6581 - val_accuracy: 0.6139\n",
            "Epoch 14/30\n",
            "719/719 [==============================] - 12s 17ms/step - loss: 0.6645 - accuracy: 0.6031 - val_loss: 0.6566 - val_accuracy: 0.6166\n",
            "Epoch 15/30\n",
            "719/719 [==============================] - 11s 16ms/step - loss: 0.6638 - accuracy: 0.6030 - val_loss: 0.6560 - val_accuracy: 0.6161\n",
            "Epoch 16/30\n",
            "719/719 [==============================] - 11s 16ms/step - loss: 0.6632 - accuracy: 0.6047 - val_loss: 0.6553 - val_accuracy: 0.6174\n",
            "Epoch 17/30\n",
            "719/719 [==============================] - 12s 16ms/step - loss: 0.6626 - accuracy: 0.6042 - val_loss: 0.6547 - val_accuracy: 0.6188\n",
            "Epoch 18/30\n",
            "719/719 [==============================] - 12s 16ms/step - loss: 0.6621 - accuracy: 0.6058 - val_loss: 0.6537 - val_accuracy: 0.6188\n",
            "Epoch 19/30\n",
            "719/719 [==============================] - 12s 16ms/step - loss: 0.6617 - accuracy: 0.6047 - val_loss: 0.6533 - val_accuracy: 0.6188\n",
            "Epoch 20/30\n",
            "719/719 [==============================] - 12s 17ms/step - loss: 0.6613 - accuracy: 0.6063 - val_loss: 0.6529 - val_accuracy: 0.6198\n",
            "Epoch 21/30\n",
            "719/719 [==============================] - 12s 17ms/step - loss: 0.6610 - accuracy: 0.6062 - val_loss: 0.6528 - val_accuracy: 0.6215\n",
            "Epoch 22/30\n",
            "719/719 [==============================] - 12s 16ms/step - loss: 0.6605 - accuracy: 0.6057 - val_loss: 0.6517 - val_accuracy: 0.6193\n",
            "Epoch 23/30\n",
            "719/719 [==============================] - 14s 19ms/step - loss: 0.6603 - accuracy: 0.6068 - val_loss: 0.6517 - val_accuracy: 0.6209\n",
            "Epoch 24/30\n",
            "719/719 [==============================] - 14s 19ms/step - loss: 0.6599 - accuracy: 0.6064 - val_loss: 0.6517 - val_accuracy: 0.6204\n",
            "Epoch 25/30\n",
            "719/719 [==============================] - 13s 19ms/step - loss: 0.6596 - accuracy: 0.6077 - val_loss: 0.6513 - val_accuracy: 0.6207\n",
            "Epoch 26/30\n",
            "719/719 [==============================] - 13s 18ms/step - loss: 0.6593 - accuracy: 0.6066 - val_loss: 0.6506 - val_accuracy: 0.6198\n",
            "Epoch 27/30\n",
            "719/719 [==============================] - 11s 15ms/step - loss: 0.6590 - accuracy: 0.6071 - val_loss: 0.6501 - val_accuracy: 0.6204\n",
            "Epoch 28/30\n",
            "719/719 [==============================] - 13s 18ms/step - loss: 0.6587 - accuracy: 0.6075 - val_loss: 0.6498 - val_accuracy: 0.6204\n",
            "Epoch 29/30\n",
            "719/719 [==============================] - 13s 18ms/step - loss: 0.6584 - accuracy: 0.6082 - val_loss: 0.6500 - val_accuracy: 0.6193\n",
            "Epoch 30/30\n",
            "719/719 [==============================] - 13s 18ms/step - loss: 0.6581 - accuracy: 0.6077 - val_loss: 0.6494 - val_accuracy: 0.6220\n"
          ]
        }
      ]
    },
    {
      "cell_type": "markdown",
      "source": [
        "It's learning almost nothing because we feeded the neural network with only 362 words :) . I couldn't find the original glove.twitter.27B.25D.txt file but I think this is a good notebook so I will keep it."
      ],
      "metadata": {
        "id": "E8lFPAwADGFi"
      }
    },
    {
      "cell_type": "code",
      "source": [
        "def plot_graphs(history, string):\n",
        "  plt.plot(history.history[string]);\n",
        "  plt.plot(history.history['val_'+string]);\n",
        "  plt.legend([string, 'val_'+string]);\n",
        "  plt.show()\n",
        "\n",
        "plot_graphs(history, 'accuracy')\n",
        "plot_graphs(history, 'loss')"
      ],
      "metadata": {
        "colab": {
          "base_uri": "https://localhost:8080/",
          "height": 513
        },
        "id": "th9N9Rqn1F75",
        "outputId": "33346cbf-d884-4f66-c1fb-6bf481a22b12"
      },
      "execution_count": 58,
      "outputs": [
        {
          "output_type": "display_data",
          "data": {
            "text/plain": [
              "<Figure size 432x288 with 1 Axes>"
            ],
            "image/png": "[encoded data removed]"
          },
          "metadata": {
            "needs_background": "light"
          }
        },
        {
          "output_type": "display_data",
          "data": {
            "text/plain": [
              "<Figure size 432x288 with 1 Axes>"
            ],
            "image/png": "[encoded data removed]"
          },
          "metadata": {
            "needs_background": "light"
          }
        }
      ]
    },
    {
      "cell_type": "code",
      "source": [
        "reverse_word_index = dict([(value, key) for (key, value) in word_index.items()])\n",
        "\n",
        "def decode_sentence(text):\n",
        "  return ' '.join([reverse_word_index.get(i, '?') for i in text])\n",
        "\n",
        "print(decode_sentence(training_padded[2]))\n",
        "print(training_sentences[2])\n",
        "print(labels[2])"
      ],
      "metadata": {
        "colab": {
          "base_uri": "https://localhost:8080/"
        },
        "id": "_WNRJDuX1K77",
        "outputId": "398f0e2c-0cb2-4547-ae20-72a89eb00fcf"
      },
      "execution_count": 59,
      "outputs": [
        {
          "output_type": "stream",
          "name": "stdout",
          "text": [
            "mom starting fear sons web series closest thing will grandchild ? ? ? ? ? ? ? ? ? ? ? ? ? ? ? ? ? ? ? ? ? ? ? ? ? ? ? ? ? ? ? ? ? ? ? ? ? ? ? ?\n",
            "mom starting fear sons web series closest thing will grandchild \n",
            "1\n"
          ]
        }
      ]
    },
    {
      "cell_type": "code",
      "source": [
        "e = model.layers[0]\n",
        "weights = e.get_weights()[0]\n",
        "weights.shape # shape: (vocab_size, embedding_dim)"
      ],
      "metadata": {
        "colab": {
          "base_uri": "https://localhost:8080/"
        },
        "id": "bclQ8m-Y1MEk",
        "outputId": "a4ec14fb-8859-4cd9-fc85-cf588b9e5415"
      },
      "execution_count": 60,
      "outputs": [
        {
          "output_type": "execute_result",
          "data": {
            "text/plain": [
              "(13200, 25)"
            ]
          },
          "metadata": {},
          "execution_count": 60
        }
      ]
    },
    {
      "cell_type": "code",
      "source": [
        "print(reverse_word_index[2])\n",
        "print(weights[2])"
      ],
      "metadata": {
        "colab": {
          "base_uri": "https://localhost:8080/"
        },
        "id": "pM1HGvjA1Rtb",
        "outputId": "32834581-d7ee-415f-d119-09d34ac66dbf"
      },
      "execution_count": 61,
      "outputs": [
        {
          "output_type": "stream",
          "name": "stdout",
          "text": [
            "new\n",
            "[-0.177     0.432     0.21391  -0.29515   0.47344  -0.38013   1.6018\n",
            "  0.56238   0.40478  -0.57094   0.34154   0.40245  -5.0768   -0.1568\n",
            " -0.27047  -0.71336   0.50856  -0.25976  -0.47932   0.60913  -1.003\n",
            " -1.0225   -0.099247 -0.58948  -0.42468 ]\n"
          ]
        }
      ]
    },
    {
      "cell_type": "code",
      "source": [
        "test_sentences = [\"It Was, For, Uh, Medical Reasons, Says Doctor To Boris Johnson, Explaining Why They Had To Give Him Haircut\",\n",
        "                  \"It's a beautiful sunny day\",\n",
        "                  \"I lived in Ireland, so in High School they made me learn to speak and write in Gaelic\",\n",
        "                  \"Census Foot Soldiers Swarm Neighborhoods, Kick Down Doors To Tally Household Sizes\"]\n",
        "sequences = tokenizer.texts_to_sequences(test_sentences)\n",
        "print(sequences)\n",
        "\n",
        "padded = pad_sequences(sequences, maxlen=max_length, padding=padding_type, truncating=trunc_type)\n",
        "print(padded)\n",
        "\n",
        "predictions = model.predict(padded)\n",
        "print(predictions)"
      ],
      "metadata": {
        "colab": {
          "base_uri": "https://localhost:8080/"
        },
        "id": "jzZfKqXG1Xop",
        "outputId": "c5af0f6b-5ad5-4e3e-941f-dda7e8cc70e1"
      },
      "execution_count": 62,
      "outputs": [
        {
          "output_type": "stream",
          "name": "stdout",
          "text": [
            "[[1, 1, 1, 10876, 1206, 535, 17, 772, 1, 13084, 1365, 4319, 1, 1, 1, 1, 171, 1, 4686], [1, 1, 431, 8073, 13], [1, 3617, 1, 6064, 1, 1, 92, 50, 1, 142, 1, 1005, 1, 1094, 1, 1663, 1, 1], [2717, 1234, 3025, 6172, 7042, 1910, 1, 4265, 1, 1, 5585, 5434]]\n",
            "[[    1     1     1 10876  1206   535    17   772     1 13084  1365  4319\n",
            "      1     1     1     1   171     1  4686     0     0     0     0     0\n",
            "      0     0     0     0     0     0     0     0     0     0     0     0\n",
            "      0     0     0     0     0     0     0     0     0     0     0     0\n",
            "      0     0]\n",
            " [    1     1   431  8073    13     0     0     0     0     0     0     0\n",
            "      0     0     0     0     0     0     0     0     0     0     0     0\n",
            "      0     0     0     0     0     0     0     0     0     0     0     0\n",
            "      0     0     0     0     0     0     0     0     0     0     0     0\n",
            "      0     0]\n",
            " [    1  3617     1  6064     1     1    92    50     1   142     1  1005\n",
            "      1  1094     1  1663     1     1     0     0     0     0     0     0\n",
            "      0     0     0     0     0     0     0     0     0     0     0     0\n",
            "      0     0     0     0     0     0     0     0     0     0     0     0\n",
            "      0     0]\n",
            " [ 2717  1234  3025  6172  7042  1910     1  4265     1     1  5585  5434\n",
            "      0     0     0     0     0     0     0     0     0     0     0     0\n",
            "      0     0     0     0     0     0     0     0     0     0     0     0\n",
            "      0     0     0     0     0     0     0     0     0     0     0     0\n",
            "      0     0]]\n",
            "1/1 [==============================] - 1s 1s/step\n",
            "[[0.40049198]\n",
            " [0.47332054]\n",
            " [0.6133464 ]\n",
            " [0.40049198]]\n"
          ]
        }
      ]
    }
  ]
}