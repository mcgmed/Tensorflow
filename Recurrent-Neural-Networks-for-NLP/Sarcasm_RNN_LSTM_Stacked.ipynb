{
  "nbformat": 4,
  "nbformat_minor": 0,
  "metadata": {
    "colab": {
      "provenance": [],
      "authorship_tag": "ABX9TyPSgpjble8bQkBOHO3tK+G3",
      "include_colab_link": true
    },
    "kernelspec": {
      "name": "python3",
      "display_name": "Python 3"
    },
    "language_info": {
      "name": "python"
    },
    "accelerator": "GPU",
    "gpuClass": "standard"
  },
  "cells": [
    {
      "cell_type": "markdown",
      "metadata": {
        "id": "view-in-github",
        "colab_type": "text"
      },
      "source": [
        "<a href=\"https://colab.research.google.com/github/mcgmed/Tensorflow/blob/main/Recurrent-Neural-Networks-for-NLP/Sarcasm_RNN_LSTM_Stacked.ipynb\" target=\"_parent\"><img src=\"https://colab.research.google.com/assets/colab-badge.svg\" alt=\"Open In Colab\"/></a>"
      ]
    },
    {
      "cell_type": "code",
      "execution_count": 1,
      "metadata": {
        "id": "LE808CVIU2z2"
      },
      "outputs": [],
      "source": [
        "import json\n",
        "import string\n",
        "import numpy as np\n",
        "import tensorflow as tf\n",
        "import matplotlib.pyplot as plt\n",
        "from tensorflow.keras.preprocessing.text import Tokenizer\n",
        "from tensorflow.keras.preprocessing.sequence import pad_sequences\n",
        "from bs4 import BeautifulSoup"
      ]
    },
    {
      "cell_type": "code",
      "source": [
        "!wget --no-check-certificate \\\n",
        "    https://storage.googleapis.com/laurencemoroney-blog.appspot.com/sarcasm.json \\\n",
        "    -O /tmp/sarcasm.json\n",
        "\n",
        "with open(\"/tmp/sarcasm.json\", 'r') as f:\n",
        "    datastore = json.load(f)"
      ],
      "metadata": {
        "colab": {
          "base_uri": "https://localhost:8080/"
        },
        "id": "N8-DEcdXbk09",
        "outputId": "6ca3bb83-65a9-47d3-9f39-1a8b2bb31ca4"
      },
      "execution_count": 2,
      "outputs": [
        {
          "output_type": "stream",
          "name": "stdout",
          "text": [
            "--2022-11-29 13:01:24--  https://storage.googleapis.com/laurencemoroney-blog.appspot.com/sarcasm.json\n",
            "Resolving storage.googleapis.com (storage.googleapis.com)... 74.125.24.128, 172.217.194.128, 142.251.10.128, ...\n",
            "Connecting to storage.googleapis.com (storage.googleapis.com)|74.125.24.128|:443... connected.\n",
            "HTTP request sent, awaiting response... 200 OK\n",
            "Length: 5643545 (5.4M) [application/json]\n",
            "Saving to: ‘/tmp/sarcasm.json’\n",
            "\n",
            "/tmp/sarcasm.json   100%[===================>]   5.38M  5.09MB/s    in 1.1s    \n",
            "\n",
            "2022-11-29 13:01:26 (5.09 MB/s) - ‘/tmp/sarcasm.json’ saved [5643545/5643545]\n",
            "\n"
          ]
        }
      ]
    },
    {
      "cell_type": "code",
      "source": [
        "datastore[:3]"
      ],
      "metadata": {
        "colab": {
          "base_uri": "https://localhost:8080/"
        },
        "id": "8izV81TFbkyv",
        "outputId": "0b91511f-4aed-4dea-c6ff-5708ead08705"
      },
      "execution_count": 3,
      "outputs": [
        {
          "output_type": "execute_result",
          "data": {
            "text/plain": [
              "[{'article_link': 'https://www.huffingtonpost.com/entry/versace-black-code_us_5861fbefe4b0de3a08f600d5',\n",
              "  'headline': \"former versace store clerk sues over secret 'black code' for minority shoppers\",\n",
              "  'is_sarcastic': 0},\n",
              " {'article_link': 'https://www.huffingtonpost.com/entry/roseanne-revival-review_us_5ab3a497e4b054d118e04365',\n",
              "  'headline': \"the 'roseanne' revival catches up to our thorny political mood, for better and worse\",\n",
              "  'is_sarcastic': 0},\n",
              " {'article_link': 'https://local.theonion.com/mom-starting-to-fear-son-s-web-series-closest-thing-she-1819576697',\n",
              "  'headline': \"mom starting to fear son's web series closest thing she will have to grandchild\",\n",
              "  'is_sarcastic': 1}]"
            ]
          },
          "metadata": {},
          "execution_count": 3
        }
      ]
    },
    {
      "cell_type": "code",
      "source": [
        "stopwords = [\"a\", \"about\", \"above\", \"after\", \"again\", \"against\", \"all\", \"am\", \"an\", \"and\", \"any\", \"are\", \"as\", \"at\",\n",
        "             \"be\", \"because\", \"been\", \"before\", \"being\", \"below\", \"between\", \"both\", \"but\", \"by\", \"could\", \"did\", \"do\",\n",
        "             \"does\", \"doing\", \"down\", \"during\", \"each\", \"few\", \"for\", \"from\", \"further\", \"had\", \"has\", \"have\", \"having\",\n",
        "             \"he\", \"hed\", \"hes\", \"her\", \"here\", \"heres\", \"hers\", \"herself\", \"him\", \"himself\", \"his\", \"how\",\n",
        "             \"hows\", \"i\", \"id\", \"ill\", \"im\", \"ive\", \"if\", \"in\", \"into\", \"is\", \"it\", \"its\", \"itself\",\n",
        "             \"lets\", \"me\", \"more\", \"most\", \"my\", \"myself\", \"nor\", \"of\", \"on\", \"once\", \"only\", \"or\", \"other\", \"ought\",\n",
        "             \"our\", \"ours\", \"ourselves\", \"out\", \"over\", \"own\", \"same\", \"she\", \"shed\", \"shell\", \"shes\", \"should\",\n",
        "             \"so\", \"some\", \"such\", \"than\", \"that\", \"thats\", \"the\", \"their\", \"theirs\", \"them\", \"themselves\", \"then\",\n",
        "             \"there\", \"theres\", \"these\", \"they\", \"theyd\", \"theyll\", \"theyre\", \"theyve\", \"this\", \"those\", \"through\",\n",
        "             \"to\", \"too\", \"under\", \"until\", \"up\", \"very\", \"was\", \"we\", \"wed\", \"well\", \"were\", \"weve\", \"were\",\n",
        "             \"what\", \"whats\", \"when\", \"whens\", \"where\", \"wheres\", \"which\", \"while\", \"who\", \"whos\", \"whom\", \"why\",\n",
        "             \"whys\", \"with\", \"would\", \"you\", \"youd\", \"youll\", \"youre\", \"youve\", \"your\", \"yours\", \"yourself\",\n",
        "             \"yourselves\"]\n",
        "\n",
        "table = str.maketrans('', '', string.punctuation)\n",
        "\n",
        "sentences = [] \n",
        "labels = []\n",
        "urls = []\n",
        "\n",
        "for item in datastore:\n",
        "    sentence = item['headline'].lower()\n",
        "    sentence = sentence.replace(\",\", \" , \")\n",
        "    sentence = sentence.replace(\".\", \" . \")\n",
        "    sentence = sentence.replace(\"-\", \" - \")\n",
        "    sentence = sentence.replace(\"/\", \" / \")\n",
        "    soup = BeautifulSoup(sentence)\n",
        "    sentence = soup.get_text()\n",
        "    words = sentence.split()\n",
        "    filtered_sentence = \"\"\n",
        "    for word in words:\n",
        "        word = word.translate(table)\n",
        "        if word not in stopwords:\n",
        "            filtered_sentence = filtered_sentence + word + \" \"\n",
        "    sentences.append(filtered_sentence)\n",
        "    labels.append(item['is_sarcastic'])\n",
        "    urls.append(item['article_link'])"
      ],
      "metadata": {
        "id": "MSNMN_K_bkwj"
      },
      "execution_count": 4,
      "outputs": []
    },
    {
      "cell_type": "code",
      "source": [
        "xs=[]\n",
        "ys=[]\n",
        "current_item=1\n",
        "for item in sentences:\n",
        "  xs.append(current_item)\n",
        "  current_item=current_item+1\n",
        "  ys.append(len(item))\n",
        "newys = sorted(ys)\n",
        "\n",
        "import matplotlib.pyplot as plt\n",
        "plt.plot(xs,newys)\n",
        "plt.axis([26000, 27000, 50, 250])\n",
        "plt.show()\n",
        "\n",
        "print(newys[26000])"
      ],
      "metadata": {
        "colab": {
          "base_uri": "https://localhost:8080/",
          "height": 286
        },
        "id": "WiZ7e0T7bkub",
        "outputId": "b4206867-260d-4ee5-c922-8e7c82502aa5"
      },
      "execution_count": 5,
      "outputs": [
        {
          "output_type": "display_data",
          "data": {
            "text/plain": [
              "<Figure size 432x288 with 1 Axes>"
            ],
            "image/png": "[encoded data removed]"
          },
          "metadata": {
            "needs_background": "light"
          }
        },
        {
          "output_type": "stream",
          "name": "stdout",
          "text": [
            "85\n"
          ]
        }
      ]
    },
    {
      "cell_type": "code",
      "source": [
        "vocab_size = 2000\n",
        "embedding_dim = 7\n",
        "max_length = 100\n",
        "trunc_type='post'\n",
        "padding_type='post'\n",
        "oov_tok = \"\"\n",
        "training_size = 24000\n",
        "num_epochs = 150"
      ],
      "metadata": {
        "id": "qW2Nd9oRbklZ"
      },
      "execution_count": 6,
      "outputs": []
    },
    {
      "cell_type": "code",
      "source": [
        "print(f'Length of sentences: {len(sentences)}')\n",
        "\n",
        "training_sentences = sentences[0:training_size]\n",
        "testing_sentences = sentences[training_size:]\n",
        "training_labels = labels[0:training_size]\n",
        "testing_labels = labels[training_size:]\n",
        "\n",
        "tokenizer = Tokenizer(num_words=vocab_size, oov_token=oov_tok)\n",
        "tokenizer.fit_on_texts(training_sentences)\n",
        "\n",
        "word_index = tokenizer.word_index\n",
        "print(f'Instances from word index: {list(word_index.items())[:6]}')\n",
        "\n",
        "wc = tokenizer.word_counts\n",
        "print(f'Instances from word counts: {list(wc.items())[:6]}')\n",
        "\n",
        "training_sequences = tokenizer.texts_to_sequences(training_sentences)\n",
        "training_padded = pad_sequences(training_sequences, maxlen=max_length, padding=padding_type, truncating=trunc_type)\n",
        "\n",
        "testing_sequences = tokenizer.texts_to_sequences(testing_sentences)\n",
        "testing_padded = pad_sequences(testing_sequences, maxlen=max_length, padding=padding_type, truncating=trunc_type)"
      ],
      "metadata": {
        "colab": {
          "base_uri": "https://localhost:8080/"
        },
        "id": "ME8Yazr3bkjS",
        "outputId": "bb38617f-7e3d-4442-8fa6-6e1c055bf3d1"
      },
      "execution_count": 7,
      "outputs": [
        {
          "output_type": "stream",
          "name": "stdout",
          "text": [
            "Length of sentences: 26709\n",
            "Instances from word index: [('', 1), ('new', 2), ('trump', 3), ('man', 4), ('not', 5), ('just', 6)]\n",
            "Instances from word counts: [('former', 96), ('versace', 1), ('store', 47), ('clerk', 9), ('sues', 16), ('secret', 83)]\n"
          ]
        }
      ]
    },
    {
      "cell_type": "code",
      "source": [
        "from collections import OrderedDict\n",
        "\n",
        "newlist = (OrderedDict(sorted(wc.items(), key=lambda t: t[1], reverse=True)))\n",
        "print(f'Instances from new list: {list(newlist.items())[:6]}')\n",
        "xs=[]\n",
        "ys=[]\n",
        "curr_x = 1\n",
        "for item in newlist:\n",
        "  xs.append(curr_x)\n",
        "  curr_x=curr_x+1\n",
        "  ys.append(newlist[item])\n",
        "\n",
        "plt.plot(xs,ys)\n",
        "plt.show()"
      ],
      "metadata": {
        "colab": {
          "base_uri": "https://localhost:8080/",
          "height": 282
        },
        "id": "JE3QqT0qbkhF",
        "outputId": "42d501cf-a319-499a-c979-439c5a9c3834"
      },
      "execution_count": 8,
      "outputs": [
        {
          "output_type": "stream",
          "name": "stdout",
          "text": [
            "Instances from new list: [('new', 1376), ('trump', 1170), ('man', 1135), ('not', 668), ('just', 528), ('will', 502)]\n"
          ]
        },
        {
          "output_type": "display_data",
          "data": {
            "text/plain": [
              "<Figure size 432x288 with 1 Axes>"
            ],
            "image/png": "[encoded data removed]"
          },
          "metadata": {
            "needs_background": "light"
          }
        }
      ]
    },
    {
      "cell_type": "code",
      "source": [
        "training_padded = np.array(training_padded)\n",
        "training_labels = np.array(training_labels)\n",
        "testing_padded = np.array(testing_padded)\n",
        "testing_labels = np.array(testing_labels)"
      ],
      "metadata": {
        "id": "D4stgoFzbke_"
      },
      "execution_count": 9,
      "outputs": []
    },
    {
      "cell_type": "markdown",
      "source": [
        "Stacking LSTMs with TensorFlow is pretty straightforward. You add them as extra\n",
        "layers just like you would with a Dense layer, but with the exception that all of the layers prior to the last one will need to have their return_sequences property set to True.\n",
        "\n",
        "Very effective method to reduce overfitting was to reduce the learning rate.\n",
        "\n",
        "In addition to changing the learning rate parameter, it’s also worth considering using dropout in the LSTM layers. Do note that implementing dropout will greatly slow down your training."
      ],
      "metadata": {
        "id": "rnzZHpJTcIFY"
      }
    },
    {
      "cell_type": "code",
      "source": [
        "model = tf.keras.Sequential([\n",
        "    tf.keras.layers.Embedding(vocab_size, embedding_dim),\n",
        "    tf.keras.layers.Bidirectional(tf.keras.layers.LSTM(embedding_dim, return_sequences=True, dropout=0.2)),\n",
        "    tf.keras.layers.Bidirectional(tf.keras.layers.LSTM(embedding_dim, dropout=0.2)),\n",
        "    tf.keras.layers.Dense(32, activation='relu', kernel_regularizer=tf.keras.regularizers.l2(0.1)),\n",
        "    tf.keras.layers.Dense(1, activation='sigmoid')\n",
        "])\n",
        "\n",
        "model.compile(loss='binary_crossentropy',optimizer='adam',metrics=['accuracy'])\n",
        "model.summary()"
      ],
      "metadata": {
        "colab": {
          "base_uri": "https://localhost:8080/"
        },
        "id": "Wk2dshOabkc5",
        "outputId": "17ae6b5a-7f2f-4454-cbaa-91a3f51476de"
      },
      "execution_count": 10,
      "outputs": [
        {
          "output_type": "stream",
          "name": "stdout",
          "text": [
            "Model: \"sequential\"\n",
            "_________________________________________________________________\n",
            " Layer (type)                Output Shape              Param #   \n",
            "=================================================================\n",
            " embedding (Embedding)       (None, None, 7)           14000     \n",
            "                                                                 \n",
            " bidirectional (Bidirectiona  (None, None, 14)         840       \n",
            " l)                                                              \n",
            "                                                                 \n",
            " bidirectional_1 (Bidirectio  (None, 14)               1232      \n",
            " nal)                                                            \n",
            "                                                                 \n",
            " dense (Dense)               (None, 32)                480       \n",
            "                                                                 \n",
            " dense_1 (Dense)             (None, 1)                 33        \n",
            "                                                                 \n",
            "=================================================================\n",
            "Total params: 16,585\n",
            "Trainable params: 16,585\n",
            "Non-trainable params: 0\n",
            "_________________________________________________________________\n"
          ]
        }
      ]
    },
    {
      "cell_type": "code",
      "source": [
        "history = model.fit(training_padded, training_labels, epochs=num_epochs, validation_data=(testing_padded, testing_labels))"
      ],
      "metadata": {
        "colab": {
          "base_uri": "https://localhost:8080/"
        },
        "id": "7Ul_4ETAeu1A",
        "outputId": "98414ac5-b8d1-4453-c79c-7a111f2c0074"
      },
      "execution_count": 12,
      "outputs": [
        {
          "output_type": "stream",
          "name": "stdout",
          "text": [
            "Epoch 1/150\n",
            "750/750 [==============================] - 24s 20ms/step - loss: 0.8793 - accuracy: 0.6919 - val_loss: 0.5122 - val_accuracy: 0.7748\n",
            "Epoch 2/150\n",
            "750/750 [==============================] - 13s 18ms/step - loss: 0.4724 - accuracy: 0.7904 - val_loss: 0.4890 - val_accuracy: 0.7697\n",
            "Epoch 3/150\n",
            "750/750 [==============================] - 14s 18ms/step - loss: 0.4484 - accuracy: 0.7991 - val_loss: 0.4948 - val_accuracy: 0.7674\n",
            "Epoch 4/150\n",
            "750/750 [==============================] - 14s 18ms/step - loss: 0.4356 - accuracy: 0.8057 - val_loss: 0.4788 - val_accuracy: 0.7818\n",
            "Epoch 5/150\n",
            "750/750 [==============================] - 13s 17ms/step - loss: 0.4268 - accuracy: 0.8099 - val_loss: 0.4761 - val_accuracy: 0.7833\n",
            "Epoch 6/150\n",
            "750/750 [==============================] - 13s 18ms/step - loss: 0.4202 - accuracy: 0.8110 - val_loss: 0.4814 - val_accuracy: 0.7848\n",
            "Epoch 7/150\n",
            "750/750 [==============================] - 13s 17ms/step - loss: 0.4087 - accuracy: 0.8172 - val_loss: 0.4798 - val_accuracy: 0.7704\n",
            "Epoch 8/150\n",
            "750/750 [==============================] - 15s 19ms/step - loss: 0.3997 - accuracy: 0.8219 - val_loss: 0.4674 - val_accuracy: 0.7870\n",
            "Epoch 9/150\n",
            "750/750 [==============================] - 13s 18ms/step - loss: 0.3899 - accuracy: 0.8285 - val_loss: 0.4684 - val_accuracy: 0.7804\n",
            "Epoch 10/150\n",
            "750/750 [==============================] - 13s 18ms/step - loss: 0.3797 - accuracy: 0.8326 - val_loss: 0.4743 - val_accuracy: 0.7763\n",
            "Epoch 11/150\n",
            "750/750 [==============================] - 13s 18ms/step - loss: 0.3728 - accuracy: 0.8381 - val_loss: 0.4638 - val_accuracy: 0.7829\n",
            "Epoch 12/150\n",
            "750/750 [==============================] - 13s 17ms/step - loss: 0.3667 - accuracy: 0.8417 - val_loss: 0.4832 - val_accuracy: 0.7667\n",
            "Epoch 13/150\n",
            "750/750 [==============================] - 13s 17ms/step - loss: 0.3629 - accuracy: 0.8420 - val_loss: 0.4656 - val_accuracy: 0.7877\n",
            "Epoch 14/150\n",
            "750/750 [==============================] - 13s 18ms/step - loss: 0.3582 - accuracy: 0.8435 - val_loss: 0.4793 - val_accuracy: 0.7674\n",
            "Epoch 15/150\n",
            "750/750 [==============================] - 13s 18ms/step - loss: 0.3562 - accuracy: 0.8470 - val_loss: 0.5074 - val_accuracy: 0.7715\n",
            "Epoch 16/150\n",
            "750/750 [==============================] - 13s 18ms/step - loss: 0.3530 - accuracy: 0.8492 - val_loss: 0.4996 - val_accuracy: 0.7722\n",
            "Epoch 17/150\n",
            "750/750 [==============================] - 14s 18ms/step - loss: 0.3511 - accuracy: 0.8501 - val_loss: 0.4876 - val_accuracy: 0.7826\n",
            "Epoch 18/150\n",
            "750/750 [==============================] - 13s 18ms/step - loss: 0.3485 - accuracy: 0.8507 - val_loss: 0.4813 - val_accuracy: 0.7774\n",
            "Epoch 19/150\n",
            "750/750 [==============================] - 13s 18ms/step - loss: 0.3452 - accuracy: 0.8519 - val_loss: 0.4849 - val_accuracy: 0.7741\n",
            "Epoch 20/150\n",
            "750/750 [==============================] - 13s 18ms/step - loss: 0.3418 - accuracy: 0.8545 - val_loss: 0.4829 - val_accuracy: 0.7685\n",
            "Epoch 21/150\n",
            "750/750 [==============================] - 13s 17ms/step - loss: 0.3410 - accuracy: 0.8562 - val_loss: 0.5064 - val_accuracy: 0.7737\n",
            "Epoch 22/150\n",
            "750/750 [==============================] - 13s 17ms/step - loss: 0.3389 - accuracy: 0.8557 - val_loss: 0.5085 - val_accuracy: 0.7722\n",
            "Epoch 23/150\n",
            "750/750 [==============================] - 13s 18ms/step - loss: 0.3360 - accuracy: 0.8570 - val_loss: 0.4859 - val_accuracy: 0.7689\n",
            "Epoch 24/150\n",
            "750/750 [==============================] - 13s 18ms/step - loss: 0.3330 - accuracy: 0.8584 - val_loss: 0.5171 - val_accuracy: 0.7722\n",
            "Epoch 25/150\n",
            "750/750 [==============================] - 13s 18ms/step - loss: 0.3298 - accuracy: 0.8602 - val_loss: 0.4960 - val_accuracy: 0.7667\n",
            "Epoch 26/150\n",
            "750/750 [==============================] - 13s 18ms/step - loss: 0.3316 - accuracy: 0.8586 - val_loss: 0.5142 - val_accuracy: 0.7774\n",
            "Epoch 27/150\n",
            "750/750 [==============================] - 13s 18ms/step - loss: 0.3264 - accuracy: 0.8627 - val_loss: 0.5097 - val_accuracy: 0.7748\n",
            "Epoch 28/150\n",
            "750/750 [==============================] - 13s 18ms/step - loss: 0.3234 - accuracy: 0.8635 - val_loss: 0.4953 - val_accuracy: 0.7671\n",
            "Epoch 29/150\n",
            "750/750 [==============================] - 13s 17ms/step - loss: 0.3223 - accuracy: 0.8640 - val_loss: 0.5056 - val_accuracy: 0.7722\n",
            "Epoch 30/150\n",
            "750/750 [==============================] - 13s 18ms/step - loss: 0.3183 - accuracy: 0.8646 - val_loss: 0.4931 - val_accuracy: 0.7667\n",
            "Epoch 31/150\n",
            "750/750 [==============================] - 13s 17ms/step - loss: 0.3201 - accuracy: 0.8630 - val_loss: 0.4986 - val_accuracy: 0.7745\n",
            "Epoch 32/150\n",
            "750/750 [==============================] - 13s 17ms/step - loss: 0.3134 - accuracy: 0.8693 - val_loss: 0.4891 - val_accuracy: 0.7726\n",
            "Epoch 33/150\n",
            "750/750 [==============================] - 13s 17ms/step - loss: 0.3101 - accuracy: 0.8686 - val_loss: 0.5215 - val_accuracy: 0.7708\n",
            "Epoch 34/150\n",
            "750/750 [==============================] - 14s 19ms/step - loss: 0.3071 - accuracy: 0.8720 - val_loss: 0.5494 - val_accuracy: 0.7693\n",
            "Epoch 35/150\n",
            "750/750 [==============================] - 13s 17ms/step - loss: 0.3067 - accuracy: 0.8733 - val_loss: 0.5497 - val_accuracy: 0.7811\n",
            "Epoch 36/150\n",
            "750/750 [==============================] - 13s 17ms/step - loss: 0.3023 - accuracy: 0.8748 - val_loss: 0.5409 - val_accuracy: 0.7770\n",
            "Epoch 37/150\n",
            "750/750 [==============================] - 13s 18ms/step - loss: 0.2990 - accuracy: 0.8764 - val_loss: 0.5469 - val_accuracy: 0.7689\n",
            "Epoch 38/150\n",
            "750/750 [==============================] - 13s 18ms/step - loss: 0.2986 - accuracy: 0.8748 - val_loss: 0.5443 - val_accuracy: 0.7767\n",
            "Epoch 39/150\n",
            "750/750 [==============================] - 13s 18ms/step - loss: 0.2952 - accuracy: 0.8754 - val_loss: 0.5450 - val_accuracy: 0.7778\n",
            "Epoch 40/150\n",
            "750/750 [==============================] - 13s 18ms/step - loss: 0.2956 - accuracy: 0.8770 - val_loss: 0.5407 - val_accuracy: 0.7652\n",
            "Epoch 41/150\n",
            "750/750 [==============================] - 13s 17ms/step - loss: 0.2927 - accuracy: 0.8777 - val_loss: 0.5602 - val_accuracy: 0.7704\n",
            "Epoch 42/150\n",
            "750/750 [==============================] - 13s 18ms/step - loss: 0.2900 - accuracy: 0.8803 - val_loss: 0.5594 - val_accuracy: 0.7715\n",
            "Epoch 43/150\n",
            "750/750 [==============================] - 13s 18ms/step - loss: 0.2892 - accuracy: 0.8801 - val_loss: 0.5556 - val_accuracy: 0.7730\n",
            "Epoch 44/150\n",
            "750/750 [==============================] - 13s 17ms/step - loss: 0.2883 - accuracy: 0.8800 - val_loss: 0.5685 - val_accuracy: 0.7711\n",
            "Epoch 45/150\n",
            "750/750 [==============================] - 13s 17ms/step - loss: 0.2865 - accuracy: 0.8822 - val_loss: 0.5607 - val_accuracy: 0.7693\n",
            "Epoch 46/150\n",
            "750/750 [==============================] - 13s 18ms/step - loss: 0.2868 - accuracy: 0.8825 - val_loss: 0.5341 - val_accuracy: 0.7804\n",
            "Epoch 47/150\n",
            "750/750 [==============================] - 13s 17ms/step - loss: 0.2830 - accuracy: 0.8831 - val_loss: 0.5489 - val_accuracy: 0.7708\n",
            "Epoch 48/150\n",
            "750/750 [==============================] - 13s 17ms/step - loss: 0.2811 - accuracy: 0.8832 - val_loss: 0.5520 - val_accuracy: 0.7715\n",
            "Epoch 49/150\n",
            "750/750 [==============================] - 13s 17ms/step - loss: 0.2780 - accuracy: 0.8839 - val_loss: 0.5932 - val_accuracy: 0.7649\n",
            "Epoch 50/150\n",
            "750/750 [==============================] - 13s 18ms/step - loss: 0.2747 - accuracy: 0.8866 - val_loss: 0.5928 - val_accuracy: 0.7663\n",
            "Epoch 51/150\n",
            "750/750 [==============================] - 13s 18ms/step - loss: 0.2727 - accuracy: 0.8866 - val_loss: 0.5346 - val_accuracy: 0.7741\n",
            "Epoch 52/150\n",
            "750/750 [==============================] - 13s 17ms/step - loss: 0.2713 - accuracy: 0.8880 - val_loss: 0.5468 - val_accuracy: 0.7704\n",
            "Epoch 53/150\n",
            "750/750 [==============================] - 13s 17ms/step - loss: 0.2712 - accuracy: 0.8905 - val_loss: 0.5639 - val_accuracy: 0.7678\n",
            "Epoch 54/150\n",
            "750/750 [==============================] - 13s 17ms/step - loss: 0.2700 - accuracy: 0.8874 - val_loss: 0.5696 - val_accuracy: 0.7704\n",
            "Epoch 55/150\n",
            "750/750 [==============================] - 13s 17ms/step - loss: 0.2667 - accuracy: 0.8894 - val_loss: 0.5572 - val_accuracy: 0.7667\n",
            "Epoch 56/150\n",
            "750/750 [==============================] - 13s 17ms/step - loss: 0.2682 - accuracy: 0.8903 - val_loss: 0.5660 - val_accuracy: 0.7638\n",
            "Epoch 57/150\n",
            "750/750 [==============================] - 13s 18ms/step - loss: 0.2663 - accuracy: 0.8891 - val_loss: 0.5392 - val_accuracy: 0.7697\n",
            "Epoch 58/150\n",
            "750/750 [==============================] - 13s 18ms/step - loss: 0.2649 - accuracy: 0.8905 - val_loss: 0.5572 - val_accuracy: 0.7645\n",
            "Epoch 59/150\n",
            "750/750 [==============================] - 13s 18ms/step - loss: 0.2623 - accuracy: 0.8920 - val_loss: 0.5634 - val_accuracy: 0.7645\n",
            "Epoch 60/150\n",
            "750/750 [==============================] - 14s 19ms/step - loss: 0.2621 - accuracy: 0.8929 - val_loss: 0.6152 - val_accuracy: 0.7623\n",
            "Epoch 61/150\n",
            "750/750 [==============================] - 13s 18ms/step - loss: 0.2625 - accuracy: 0.8900 - val_loss: 0.5926 - val_accuracy: 0.7638\n",
            "Epoch 62/150\n",
            "750/750 [==============================] - 13s 17ms/step - loss: 0.2604 - accuracy: 0.8903 - val_loss: 0.5545 - val_accuracy: 0.7641\n",
            "Epoch 63/150\n",
            "750/750 [==============================] - 13s 18ms/step - loss: 0.2563 - accuracy: 0.8942 - val_loss: 0.5982 - val_accuracy: 0.7590\n",
            "Epoch 64/150\n",
            "750/750 [==============================] - 13s 18ms/step - loss: 0.2564 - accuracy: 0.8934 - val_loss: 0.5736 - val_accuracy: 0.7652\n",
            "Epoch 65/150\n",
            "750/750 [==============================] - 13s 18ms/step - loss: 0.2561 - accuracy: 0.8943 - val_loss: 0.6109 - val_accuracy: 0.7604\n",
            "Epoch 66/150\n",
            "750/750 [==============================] - 13s 17ms/step - loss: 0.2540 - accuracy: 0.8951 - val_loss: 0.5457 - val_accuracy: 0.7556\n",
            "Epoch 67/150\n",
            "750/750 [==============================] - 13s 17ms/step - loss: 0.2528 - accuracy: 0.8972 - val_loss: 0.6013 - val_accuracy: 0.7545\n",
            "Epoch 68/150\n",
            "750/750 [==============================] - 13s 17ms/step - loss: 0.2505 - accuracy: 0.8983 - val_loss: 0.5692 - val_accuracy: 0.7671\n",
            "Epoch 69/150\n",
            "750/750 [==============================] - 13s 18ms/step - loss: 0.2534 - accuracy: 0.8958 - val_loss: 0.5992 - val_accuracy: 0.7656\n",
            "Epoch 70/150\n",
            "750/750 [==============================] - 13s 18ms/step - loss: 0.2494 - accuracy: 0.8970 - val_loss: 0.6157 - val_accuracy: 0.7604\n",
            "Epoch 71/150\n",
            "750/750 [==============================] - 13s 17ms/step - loss: 0.2485 - accuracy: 0.8975 - val_loss: 0.6296 - val_accuracy: 0.7649\n",
            "Epoch 72/150\n",
            "750/750 [==============================] - 13s 18ms/step - loss: 0.2496 - accuracy: 0.8970 - val_loss: 0.5756 - val_accuracy: 0.7608\n",
            "Epoch 73/150\n",
            "750/750 [==============================] - 13s 18ms/step - loss: 0.2494 - accuracy: 0.8969 - val_loss: 0.5456 - val_accuracy: 0.7674\n",
            "Epoch 74/150\n",
            "750/750 [==============================] - 13s 18ms/step - loss: 0.2446 - accuracy: 0.8997 - val_loss: 0.5822 - val_accuracy: 0.7663\n",
            "Epoch 75/150\n",
            "750/750 [==============================] - 13s 18ms/step - loss: 0.2466 - accuracy: 0.8988 - val_loss: 0.5944 - val_accuracy: 0.7649\n",
            "Epoch 76/150\n",
            "750/750 [==============================] - 13s 17ms/step - loss: 0.2455 - accuracy: 0.8981 - val_loss: 0.6581 - val_accuracy: 0.7630\n",
            "Epoch 77/150\n",
            "750/750 [==============================] - 13s 17ms/step - loss: 0.2422 - accuracy: 0.9018 - val_loss: 0.5898 - val_accuracy: 0.7649\n",
            "Epoch 78/150\n",
            "750/750 [==============================] - 13s 17ms/step - loss: 0.2435 - accuracy: 0.8993 - val_loss: 0.5852 - val_accuracy: 0.7608\n",
            "Epoch 79/150\n",
            "750/750 [==============================] - 13s 18ms/step - loss: 0.2439 - accuracy: 0.8997 - val_loss: 0.5968 - val_accuracy: 0.7619\n",
            "Epoch 80/150\n",
            "750/750 [==============================] - 13s 17ms/step - loss: 0.2421 - accuracy: 0.9006 - val_loss: 0.6253 - val_accuracy: 0.7601\n",
            "Epoch 81/150\n",
            "750/750 [==============================] - 13s 18ms/step - loss: 0.2416 - accuracy: 0.9000 - val_loss: 0.6373 - val_accuracy: 0.7638\n",
            "Epoch 82/150\n",
            "750/750 [==============================] - 13s 17ms/step - loss: 0.2396 - accuracy: 0.9031 - val_loss: 0.6286 - val_accuracy: 0.7586\n",
            "Epoch 83/150\n",
            "750/750 [==============================] - 13s 18ms/step - loss: 0.2377 - accuracy: 0.9015 - val_loss: 0.6374 - val_accuracy: 0.7604\n",
            "Epoch 84/150\n",
            "750/750 [==============================] - 13s 18ms/step - loss: 0.2412 - accuracy: 0.8992 - val_loss: 0.6157 - val_accuracy: 0.7656\n",
            "Epoch 85/150\n",
            "750/750 [==============================] - 13s 17ms/step - loss: 0.2371 - accuracy: 0.9020 - val_loss: 0.6187 - val_accuracy: 0.7626\n",
            "Epoch 86/150\n",
            "750/750 [==============================] - 14s 19ms/step - loss: 0.2400 - accuracy: 0.9026 - val_loss: 0.6041 - val_accuracy: 0.7641\n",
            "Epoch 87/150\n",
            "750/750 [==============================] - 13s 18ms/step - loss: 0.2356 - accuracy: 0.9016 - val_loss: 0.6432 - val_accuracy: 0.7623\n",
            "Epoch 88/150\n",
            "750/750 [==============================] - 13s 18ms/step - loss: 0.2375 - accuracy: 0.9033 - val_loss: 0.6264 - val_accuracy: 0.7638\n",
            "Epoch 89/150\n",
            "750/750 [==============================] - 13s 17ms/step - loss: 0.2333 - accuracy: 0.9050 - val_loss: 0.5970 - val_accuracy: 0.7615\n",
            "Epoch 90/150\n",
            "750/750 [==============================] - 13s 18ms/step - loss: 0.2366 - accuracy: 0.9040 - val_loss: 0.6952 - val_accuracy: 0.7534\n",
            "Epoch 91/150\n",
            "750/750 [==============================] - 13s 18ms/step - loss: 0.2308 - accuracy: 0.9080 - val_loss: 0.6387 - val_accuracy: 0.7623\n",
            "Epoch 92/150\n",
            "750/750 [==============================] - 13s 18ms/step - loss: 0.2321 - accuracy: 0.9051 - val_loss: 0.6447 - val_accuracy: 0.7626\n",
            "Epoch 93/150\n",
            "750/750 [==============================] - 14s 18ms/step - loss: 0.2311 - accuracy: 0.9065 - val_loss: 0.6259 - val_accuracy: 0.7571\n",
            "Epoch 94/150\n",
            "750/750 [==============================] - 13s 18ms/step - loss: 0.2325 - accuracy: 0.9037 - val_loss: 0.5979 - val_accuracy: 0.7590\n",
            "Epoch 95/150\n",
            "750/750 [==============================] - 13s 18ms/step - loss: 0.2282 - accuracy: 0.9090 - val_loss: 0.6739 - val_accuracy: 0.7623\n",
            "Epoch 96/150\n",
            "750/750 [==============================] - 13s 18ms/step - loss: 0.2352 - accuracy: 0.9050 - val_loss: 0.5781 - val_accuracy: 0.7571\n",
            "Epoch 97/150\n",
            "750/750 [==============================] - 13s 18ms/step - loss: 0.2257 - accuracy: 0.9083 - val_loss: 0.6306 - val_accuracy: 0.7630\n",
            "Epoch 98/150\n",
            "750/750 [==============================] - 13s 18ms/step - loss: 0.2292 - accuracy: 0.9046 - val_loss: 0.6266 - val_accuracy: 0.7608\n",
            "Epoch 99/150\n",
            "750/750 [==============================] - 13s 17ms/step - loss: 0.2267 - accuracy: 0.9066 - val_loss: 0.6027 - val_accuracy: 0.7638\n",
            "Epoch 100/150\n",
            "750/750 [==============================] - 13s 18ms/step - loss: 0.2276 - accuracy: 0.9064 - val_loss: 0.5702 - val_accuracy: 0.7641\n",
            "Epoch 101/150\n",
            "750/750 [==============================] - 13s 17ms/step - loss: 0.2272 - accuracy: 0.9070 - val_loss: 0.6376 - val_accuracy: 0.7586\n",
            "Epoch 102/150\n",
            "750/750 [==============================] - 13s 17ms/step - loss: 0.2275 - accuracy: 0.9085 - val_loss: 0.6317 - val_accuracy: 0.7578\n",
            "Epoch 103/150\n",
            "750/750 [==============================] - 13s 18ms/step - loss: 0.2251 - accuracy: 0.9087 - val_loss: 0.6266 - val_accuracy: 0.7685\n",
            "Epoch 104/150\n",
            "750/750 [==============================] - 13s 18ms/step - loss: 0.2278 - accuracy: 0.9091 - val_loss: 0.6465 - val_accuracy: 0.7649\n",
            "Epoch 105/150\n",
            "750/750 [==============================] - 13s 18ms/step - loss: 0.2238 - accuracy: 0.9091 - val_loss: 0.6731 - val_accuracy: 0.7593\n",
            "Epoch 106/150\n",
            "750/750 [==============================] - 14s 18ms/step - loss: 0.2249 - accuracy: 0.9104 - val_loss: 0.6161 - val_accuracy: 0.7634\n",
            "Epoch 107/150\n",
            "750/750 [==============================] - 13s 18ms/step - loss: 0.2235 - accuracy: 0.9097 - val_loss: 0.5919 - val_accuracy: 0.7619\n",
            "Epoch 108/150\n",
            "750/750 [==============================] - 13s 17ms/step - loss: 0.2215 - accuracy: 0.9107 - val_loss: 0.6087 - val_accuracy: 0.7671\n",
            "Epoch 109/150\n",
            "750/750 [==============================] - 13s 17ms/step - loss: 0.2162 - accuracy: 0.9139 - val_loss: 0.7116 - val_accuracy: 0.7685\n",
            "Epoch 110/150\n",
            "750/750 [==============================] - 13s 18ms/step - loss: 0.2229 - accuracy: 0.9098 - val_loss: 0.6962 - val_accuracy: 0.7590\n",
            "Epoch 111/150\n",
            "750/750 [==============================] - 15s 20ms/step - loss: 0.2213 - accuracy: 0.9119 - val_loss: 0.6762 - val_accuracy: 0.7663\n",
            "Epoch 112/150\n",
            "750/750 [==============================] - 13s 17ms/step - loss: 0.2223 - accuracy: 0.9095 - val_loss: 0.6081 - val_accuracy: 0.7663\n",
            "Epoch 113/150\n",
            "750/750 [==============================] - 13s 17ms/step - loss: 0.2191 - accuracy: 0.9095 - val_loss: 0.6487 - val_accuracy: 0.7601\n",
            "Epoch 114/150\n",
            "750/750 [==============================] - 13s 18ms/step - loss: 0.2201 - accuracy: 0.9100 - val_loss: 0.7062 - val_accuracy: 0.7612\n",
            "Epoch 115/150\n",
            "750/750 [==============================] - 13s 18ms/step - loss: 0.2214 - accuracy: 0.9100 - val_loss: 0.7229 - val_accuracy: 0.7601\n",
            "Epoch 116/150\n",
            "750/750 [==============================] - 13s 18ms/step - loss: 0.2196 - accuracy: 0.9110 - val_loss: 0.6609 - val_accuracy: 0.7649\n",
            "Epoch 117/150\n",
            "750/750 [==============================] - 13s 17ms/step - loss: 0.2190 - accuracy: 0.9115 - val_loss: 0.6647 - val_accuracy: 0.7626\n",
            "Epoch 118/150\n",
            "750/750 [==============================] - 14s 18ms/step - loss: 0.2155 - accuracy: 0.9139 - val_loss: 0.6815 - val_accuracy: 0.7597\n",
            "Epoch 119/150\n",
            "750/750 [==============================] - 13s 18ms/step - loss: 0.2222 - accuracy: 0.9110 - val_loss: 0.6363 - val_accuracy: 0.7601\n",
            "Epoch 120/150\n",
            "750/750 [==============================] - 13s 18ms/step - loss: 0.2171 - accuracy: 0.9123 - val_loss: 0.6494 - val_accuracy: 0.7567\n",
            "Epoch 121/150\n",
            "750/750 [==============================] - 13s 18ms/step - loss: 0.2156 - accuracy: 0.9134 - val_loss: 0.6784 - val_accuracy: 0.7649\n",
            "Epoch 122/150\n",
            "750/750 [==============================] - 13s 18ms/step - loss: 0.2163 - accuracy: 0.9125 - val_loss: 0.6493 - val_accuracy: 0.7523\n",
            "Epoch 123/150\n",
            "750/750 [==============================] - 13s 18ms/step - loss: 0.2148 - accuracy: 0.9119 - val_loss: 0.6678 - val_accuracy: 0.7604\n",
            "Epoch 124/150\n",
            "750/750 [==============================] - 13s 18ms/step - loss: 0.2133 - accuracy: 0.9152 - val_loss: 0.6770 - val_accuracy: 0.7623\n",
            "Epoch 125/150\n",
            "750/750 [==============================] - 13s 17ms/step - loss: 0.2132 - accuracy: 0.9128 - val_loss: 0.6387 - val_accuracy: 0.7660\n",
            "Epoch 126/150\n",
            "750/750 [==============================] - 13s 17ms/step - loss: 0.2124 - accuracy: 0.9136 - val_loss: 0.7352 - val_accuracy: 0.7619\n",
            "Epoch 127/150\n",
            "750/750 [==============================] - 13s 18ms/step - loss: 0.2139 - accuracy: 0.9127 - val_loss: 0.6485 - val_accuracy: 0.7638\n",
            "Epoch 128/150\n",
            "750/750 [==============================] - 13s 18ms/step - loss: 0.2116 - accuracy: 0.9150 - val_loss: 0.7016 - val_accuracy: 0.7649\n",
            "Epoch 129/150\n",
            "750/750 [==============================] - 13s 17ms/step - loss: 0.2101 - accuracy: 0.9150 - val_loss: 0.7016 - val_accuracy: 0.7619\n",
            "Epoch 130/150\n",
            "750/750 [==============================] - 13s 18ms/step - loss: 0.2108 - accuracy: 0.9166 - val_loss: 0.6999 - val_accuracy: 0.7590\n",
            "Epoch 131/150\n",
            "750/750 [==============================] - 13s 17ms/step - loss: 0.2117 - accuracy: 0.9129 - val_loss: 0.7011 - val_accuracy: 0.7623\n",
            "Epoch 132/150\n",
            "750/750 [==============================] - 13s 18ms/step - loss: 0.2070 - accuracy: 0.9177 - val_loss: 0.6446 - val_accuracy: 0.7638\n",
            "Epoch 133/150\n",
            "750/750 [==============================] - 13s 18ms/step - loss: 0.2075 - accuracy: 0.9150 - val_loss: 0.6845 - val_accuracy: 0.7549\n",
            "Epoch 134/150\n",
            "750/750 [==============================] - 13s 18ms/step - loss: 0.2108 - accuracy: 0.9129 - val_loss: 0.7030 - val_accuracy: 0.7604\n",
            "Epoch 135/150\n",
            "750/750 [==============================] - 14s 18ms/step - loss: 0.2059 - accuracy: 0.9180 - val_loss: 0.7574 - val_accuracy: 0.7556\n",
            "Epoch 136/150\n",
            "750/750 [==============================] - 13s 18ms/step - loss: 0.2071 - accuracy: 0.9174 - val_loss: 0.6384 - val_accuracy: 0.7575\n",
            "Epoch 137/150\n",
            "750/750 [==============================] - 13s 18ms/step - loss: 0.2075 - accuracy: 0.9166 - val_loss: 0.7845 - val_accuracy: 0.7630\n",
            "Epoch 138/150\n",
            "750/750 [==============================] - 13s 18ms/step - loss: 0.2071 - accuracy: 0.9190 - val_loss: 0.7231 - val_accuracy: 0.7660\n",
            "Epoch 139/150\n",
            "750/750 [==============================] - 14s 19ms/step - loss: 0.2059 - accuracy: 0.9175 - val_loss: 0.7684 - val_accuracy: 0.7630\n",
            "Epoch 140/150\n",
            "750/750 [==============================] - 13s 18ms/step - loss: 0.2077 - accuracy: 0.9180 - val_loss: 0.7405 - val_accuracy: 0.7652\n",
            "Epoch 141/150\n",
            "750/750 [==============================] - 13s 18ms/step - loss: 0.2078 - accuracy: 0.9161 - val_loss: 0.7429 - val_accuracy: 0.7674\n",
            "Epoch 142/150\n",
            "750/750 [==============================] - 14s 18ms/step - loss: 0.2072 - accuracy: 0.9168 - val_loss: 0.7026 - val_accuracy: 0.7660\n",
            "Epoch 143/150\n",
            "750/750 [==============================] - 13s 17ms/step - loss: 0.2062 - accuracy: 0.9168 - val_loss: 0.6766 - val_accuracy: 0.7671\n",
            "Epoch 144/150\n",
            "750/750 [==============================] - 13s 18ms/step - loss: 0.2052 - accuracy: 0.9189 - val_loss: 0.6852 - val_accuracy: 0.7578\n",
            "Epoch 145/150\n",
            "750/750 [==============================] - 13s 18ms/step - loss: 0.2025 - accuracy: 0.9187 - val_loss: 0.7074 - val_accuracy: 0.7615\n",
            "Epoch 146/150\n",
            "750/750 [==============================] - 13s 18ms/step - loss: 0.2051 - accuracy: 0.9157 - val_loss: 0.7169 - val_accuracy: 0.7689\n",
            "Epoch 147/150\n",
            "750/750 [==============================] - 13s 17ms/step - loss: 0.2057 - accuracy: 0.9155 - val_loss: 0.6162 - val_accuracy: 0.7678\n",
            "Epoch 148/150\n",
            "750/750 [==============================] - 13s 18ms/step - loss: 0.2039 - accuracy: 0.9176 - val_loss: 0.7546 - val_accuracy: 0.7630\n",
            "Epoch 149/150\n",
            "750/750 [==============================] - 13s 18ms/step - loss: 0.2001 - accuracy: 0.9196 - val_loss: 0.7074 - val_accuracy: 0.7704\n",
            "Epoch 150/150\n",
            "750/750 [==============================] - 13s 18ms/step - loss: 0.2055 - accuracy: 0.9200 - val_loss: 0.7109 - val_accuracy: 0.7745\n"
          ]
        }
      ]
    },
    {
      "cell_type": "code",
      "source": [
        "def plot_graphs(history, string):\n",
        "  plt.plot(history.history[string]);\n",
        "  plt.plot(history.history['val_'+string]);\n",
        "  plt.legend([string, 'val_'+string]);\n",
        "  plt.show()\n",
        "\n",
        "plot_graphs(history, 'accuracy')\n",
        "plot_graphs(history, 'loss')"
      ],
      "metadata": {
        "colab": {
          "base_uri": "https://localhost:8080/",
          "height": 513
        },
        "id": "Fgxo2B-Zbkao",
        "outputId": "9009621f-a2c4-4791-fa6d-e32c8202ffa9"
      },
      "execution_count": 13,
      "outputs": [
        {
          "output_type": "display_data",
          "data": {
            "text/plain": [
              "<Figure size 432x288 with 1 Axes>"
            ],
            "image/png": "[encoded data removed]"
          },
          "metadata": {
            "needs_background": "light"
          }
        },
        {
          "output_type": "display_data",
          "data": {
            "text/plain": [
              "<Figure size 432x288 with 1 Axes>"
            ],
            "image/png": "[encoded data removed]"
          },
          "metadata": {
            "needs_background": "light"
          }
        }
      ]
    },
    {
      "cell_type": "code",
      "source": [
        "reverse_word_index = dict([(value, key) for (key, value) in word_index.items()])\n",
        "\n",
        "def decode_sentence(text):\n",
        "  return ' '.join([reverse_word_index.get(i, '?') for i in text])\n",
        "\n",
        "print(decode_sentence(training_padded[2]))\n",
        "print(training_sentences[2])\n",
        "print(labels[2])"
      ],
      "metadata": {
        "colab": {
          "base_uri": "https://localhost:8080/"
        },
        "id": "1V95GFfeeA_M",
        "outputId": "5fe6c5d5-f90e-4093-880e-803bb8fecaa9"
      },
      "execution_count": 14,
      "outputs": [
        {
          "output_type": "stream",
          "name": "stdout",
          "text": [
            "mom starting fear sons  series  thing will  ? ? ? ? ? ? ? ? ? ? ? ? ? ? ? ? ? ? ? ? ? ? ? ? ? ? ? ? ? ? ? ? ? ? ? ? ? ? ? ? ? ? ? ? ? ? ? ? ? ? ? ? ? ? ? ? ? ? ? ? ? ? ? ? ? ? ? ? ? ? ? ? ? ? ? ? ? ? ? ? ? ? ? ? ? ? ? ? ? ?\n",
            "mom starting fear sons web series closest thing will grandchild \n",
            "1\n"
          ]
        }
      ]
    },
    {
      "cell_type": "code",
      "source": [
        "e = model.layers[0]\n",
        "weights = e.get_weights()[0]\n",
        "weights.shape # shape: (vocab_size, embedding_dim)"
      ],
      "metadata": {
        "colab": {
          "base_uri": "https://localhost:8080/"
        },
        "id": "DQGujjKAeB4S",
        "outputId": "f31cca35-f3f6-415b-f9bf-f84b268eeadf"
      },
      "execution_count": 15,
      "outputs": [
        {
          "output_type": "execute_result",
          "data": {
            "text/plain": [
              "(2000, 7)"
            ]
          },
          "metadata": {},
          "execution_count": 15
        }
      ]
    },
    {
      "cell_type": "code",
      "source": [
        "print(reverse_word_index[2])\n",
        "print(weights[2])"
      ],
      "metadata": {
        "colab": {
          "base_uri": "https://localhost:8080/"
        },
        "id": "-CHSvO49eB2C",
        "outputId": "af2a9f5a-ff5e-4cb3-b2d6-3e9c3882f753"
      },
      "execution_count": 16,
      "outputs": [
        {
          "output_type": "stream",
          "name": "stdout",
          "text": [
            "new\n",
            "[ 0.23162827 -0.05743404  0.04352963  0.09544941 -0.1383184  -0.08541379\n",
            " -0.204308  ]\n"
          ]
        }
      ]
    },
    {
      "cell_type": "code",
      "source": [
        "test_sentences = [\"It Was, For, Uh, Medical Reasons, Says Doctor To Boris Johnson, Explaining Why They Had To Give Him Haircut\",\n",
        "                  \"It's a beautiful sunny day\",\n",
        "                  \"I lived in Ireland, so in High School they made me learn to speak and write in Gaelic\",\n",
        "                  \"Census Foot Soldiers Swarm Neighborhoods, Kick Down Doors To Tally Household Sizes\"]\n",
        "sequences = tokenizer.texts_to_sequences(test_sentences)\n",
        "print(sequences)\n",
        "\n",
        "padded = pad_sequences(sequences, maxlen=max_length, padding=padding_type, truncating=trunc_type)\n",
        "print(padded)\n",
        "\n",
        "predictions = model.predict(padded)\n",
        "print(predictions)"
      ],
      "metadata": {
        "colab": {
          "base_uri": "https://localhost:8080/"
        },
        "id": "XsGFzW01eFcz",
        "outputId": "74964cd6-b95b-4ef9-fab5-c38c1a7f75f7"
      },
      "execution_count": 17,
      "outputs": [
        {
          "output_type": "stream",
          "name": "stdout",
          "text": [
            "[[1, 1, 1, 1, 1260, 506, 16, 767, 1, 1, 1374, 1, 1, 1, 1, 1, 174, 1, 1], [1, 1, 448, 1, 14], [1, 1, 1, 1, 1, 1, 92, 51, 1, 136, 1, 969, 1, 1109, 1, 1651, 1, 1], [1, 1288, 1, 1, 1, 1985, 1, 1, 1, 1, 1, 1]]\n",
            "[[   1    1    1    1 1260  506   16  767    1    1 1374    1    1    1\n",
            "     1    1  174    1    1    0    0    0    0    0    0    0    0    0\n",
            "     0    0    0    0    0    0    0    0    0    0    0    0    0    0\n",
            "     0    0    0    0    0    0    0    0    0    0    0    0    0    0\n",
            "     0    0    0    0    0    0    0    0    0    0    0    0    0    0\n",
            "     0    0    0    0    0    0    0    0    0    0    0    0    0    0\n",
            "     0    0    0    0    0    0    0    0    0    0    0    0    0    0\n",
            "     0    0]\n",
            " [   1    1  448    1   14    0    0    0    0    0    0    0    0    0\n",
            "     0    0    0    0    0    0    0    0    0    0    0    0    0    0\n",
            "     0    0    0    0    0    0    0    0    0    0    0    0    0    0\n",
            "     0    0    0    0    0    0    0    0    0    0    0    0    0    0\n",
            "     0    0    0    0    0    0    0    0    0    0    0    0    0    0\n",
            "     0    0    0    0    0    0    0    0    0    0    0    0    0    0\n",
            "     0    0    0    0    0    0    0    0    0    0    0    0    0    0\n",
            "     0    0]\n",
            " [   1    1    1    1    1    1   92   51    1  136    1  969    1 1109\n",
            "     1 1651    1    1    0    0    0    0    0    0    0    0    0    0\n",
            "     0    0    0    0    0    0    0    0    0    0    0    0    0    0\n",
            "     0    0    0    0    0    0    0    0    0    0    0    0    0    0\n",
            "     0    0    0    0    0    0    0    0    0    0    0    0    0    0\n",
            "     0    0    0    0    0    0    0    0    0    0    0    0    0    0\n",
            "     0    0    0    0    0    0    0    0    0    0    0    0    0    0\n",
            "     0    0]\n",
            " [   1 1288    1    1    1 1985    1    1    1    1    1    1    0    0\n",
            "     0    0    0    0    0    0    0    0    0    0    0    0    0    0\n",
            "     0    0    0    0    0    0    0    0    0    0    0    0    0    0\n",
            "     0    0    0    0    0    0    0    0    0    0    0    0    0    0\n",
            "     0    0    0    0    0    0    0    0    0    0    0    0    0    0\n",
            "     0    0    0    0    0    0    0    0    0    0    0    0    0    0\n",
            "     0    0    0    0    0    0    0    0    0    0    0    0    0    0\n",
            "     0    0]]\n",
            "1/1 [==============================] - 1s 1s/step\n",
            "[[0.9886077]\n",
            " [0.8370429]\n",
            " [0.9973455]\n",
            " [0.9964385]]\n"
          ]
        }
      ]
    }
  ]
}