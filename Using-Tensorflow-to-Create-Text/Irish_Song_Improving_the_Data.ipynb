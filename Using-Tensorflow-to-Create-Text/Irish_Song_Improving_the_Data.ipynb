{
  "nbformat": 4,
  "nbformat_minor": 0,
  "metadata": {
    "colab": {
      "provenance": [],
      "authorship_tag": "ABX9TyPDeRSRBtwZEEZE8ybB85T+",
      "include_colab_link": true
    },
    "kernelspec": {
      "name": "python3",
      "display_name": "Python 3"
    },
    "language_info": {
      "name": "python"
    },
    "accelerator": "GPU",
    "gpuClass": "standard"
  },
  "cells": [
    {
      "cell_type": "markdown",
      "metadata": {
        "id": "view-in-github",
        "colab_type": "text"
      },
      "source": [
        "<a href=\"https://colab.research.google.com/github/mcgmed/Tensorflow/blob/main/Using-Tensorflow-to-Create-Text/Irish_Song_Improving_the_Data.ipynb\" target=\"_parent\"><img src=\"https://colab.research.google.com/assets/colab-badge.svg\" alt=\"Open In Colab\"/></a>"
      ]
    },
    {
      "cell_type": "code",
      "execution_count": 1,
      "metadata": {
        "id": "rQVk2zIY-J0y"
      },
      "outputs": [],
      "source": [
        "import numpy as np \n",
        "import tensorflow as tf\n",
        "import matplotlib.pyplot as plt\n",
        "from tensorflow.keras.preprocessing.sequence import pad_sequences\n",
        "from tensorflow.keras.layers import Embedding, LSTM, Dense, Bidirectional\n",
        "from tensorflow.keras.preprocessing.text import Tokenizer\n",
        "from tensorflow.keras.models import Sequential\n",
        "from tensorflow.keras.optimizers import Adam"
      ]
    },
    {
      "cell_type": "code",
      "source": [
        "!wget --no-check-certificate \\\n",
        "    https://storage.googleapis.com/laurencemoroney-blog.appspot.com/irish-lyrics-eof.txt \\\n",
        "    -O /tmp/irish-lyrics-eof.txt"
      ],
      "metadata": {
        "colab": {
          "base_uri": "https://localhost:8080/"
        },
        "id": "zDym6kW7-R6N",
        "outputId": "f4927dee-0072-4d23-b7bd-447d5e602ddc"
      },
      "execution_count": 2,
      "outputs": [
        {
          "output_type": "stream",
          "name": "stdout",
          "text": [
            "--2022-11-30 19:34:42--  https://storage.googleapis.com/laurencemoroney-blog.appspot.com/irish-lyrics-eof.txt\n",
            "Resolving storage.googleapis.com (storage.googleapis.com)... 108.177.119.128, 108.177.126.128, 108.177.127.128, ...\n",
            "Connecting to storage.googleapis.com (storage.googleapis.com)|108.177.119.128|:443... connected.\n",
            "HTTP request sent, awaiting response... 200 OK\n",
            "Length: 68970 (67K) [text/plain]\n",
            "Saving to: ‘/tmp/irish-lyrics-eof.txt’\n",
            "\n",
            "/tmp/irish-lyrics-e 100%[===================>]  67.35K  --.-KB/s    in 0.09s   \n",
            "\n",
            "2022-11-30 19:34:42 (736 KB/s) - ‘/tmp/irish-lyrics-eof.txt’ saved [68970/68970]\n",
            "\n"
          ]
        }
      ]
    },
    {
      "cell_type": "code",
      "source": [
        "tokenizer = Tokenizer()\n",
        "max_sequence_len = 6\n",
        "sentences=[]\n",
        "alltext=[]\n",
        "data = open('/tmp/irish-lyrics-eof.txt').read()\n",
        "corpus = data.lower()\n",
        "alltext.append(corpus)\n",
        "words = corpus.split(\" \")\n",
        "range_size = len(words)-max_sequence_len\n",
        "for i in range(0, range_size):\n",
        "  thissentence=\"\"\n",
        "  for word in range(0, max_sequence_len-1):\n",
        "    word = words[i+word]\n",
        "    thissentence = thissentence + word\n",
        "    thissentence = thissentence + \" \"\n",
        "  sentences.append(thissentence)\n",
        "\n",
        "oov_tok = \"\"\n",
        "vocab_size=2700\n",
        "tokenizer = Tokenizer(num_words=vocab_size, oov_token=oov_tok, split=\" \", char_level=False)\n",
        "tokenizer.fit_on_texts(alltext)\n",
        "total_words = len(tokenizer.word_index) + 1\n",
        "\n",
        "word_index = tokenizer.word_index\n",
        "print(f'Instances from word index: {list(word_index.items())[:6]}')\n",
        "print(f'Total word number is: {total_words}')\n",
        "\n",
        "input_sequences = []\n",
        "for line in sentences:\n",
        "\ttoken_list = tokenizer.texts_to_sequences([line])[0]\n",
        "\tfor i in range(1, len(token_list)):\n",
        "\t\tn_gram_sequence = token_list[:i+1]\n",
        "\t\tinput_sequences.append(n_gram_sequence)\n",
        "\n",
        "# pad sequences \n",
        "#max_sequence_len = max([len(x) for x in input_sequences])\n",
        "input_sequences = np.array(pad_sequences(input_sequences, maxlen=max_sequence_len, padding='pre'))\n",
        "\n",
        "# create predictors and label\n",
        "xs, labels = input_sequences[:,:-1],input_sequences[:,-1]\n",
        "\n",
        "ys = tf.keras.utils.to_categorical(labels, num_classes=total_words)"
      ],
      "metadata": {
        "colab": {
          "base_uri": "https://localhost:8080/"
        },
        "id": "uTnVjgy8-0QA",
        "outputId": "3d687369-26f3-49f2-fc02-6e6ee94c8d62"
      },
      "execution_count": 3,
      "outputs": [
        {
          "output_type": "stream",
          "name": "stdout",
          "text": [
            "Instances from word index: [('', 1), ('the', 2), ('and', 3), ('i', 4), ('to', 5), ('a', 6)]\n",
            "Total word number is: 2691\n"
          ]
        }
      ]
    },
    {
      "cell_type": "code",
      "source": [
        "print(xs.shape)"
      ],
      "metadata": {
        "colab": {
          "base_uri": "https://localhost:8080/"
        },
        "id": "iXKIC4w0BcIL",
        "outputId": "ca05a05c-d783-458d-e826-a01ac2b39505"
      },
      "execution_count": 4,
      "outputs": [
        {
          "output_type": "stream",
          "name": "stdout",
          "text": [
            "(56643, 5)\n"
          ]
        }
      ]
    },
    {
      "cell_type": "code",
      "source": [
        "print(xs[:20])"
      ],
      "metadata": {
        "colab": {
          "base_uri": "https://localhost:8080/"
        },
        "id": "D88PcCDcBeX2",
        "outputId": "d7a7626a-659b-4859-e907-79891ec90ecd"
      },
      "execution_count": 5,
      "outputs": [
        {
          "output_type": "stream",
          "name": "stdout",
          "text": [
            "[[   0    0    0    0   52]\n",
            " [   0    0    0   52   13]\n",
            " [   0    0   52   13   97]\n",
            " [   0   52   13   97 1218]\n",
            " [   0    0    0    0   13]\n",
            " [   0    0    0   13   97]\n",
            " [   0    0   13   97 1218]\n",
            " [   0   13   97 1218   49]\n",
            " [   0    0    0    0   97]\n",
            " [   0    0    0   97 1218]\n",
            " [   0    0   97 1218   49]\n",
            " [   0   97 1218   49    3]\n",
            " [  97 1218   49    3   70]\n",
            " [   0    0    0    0 1218]\n",
            " [   0    0    0 1218   49]\n",
            " [   0    0 1218   49    3]\n",
            " [   0 1218   49    3   70]\n",
            " [1218   49    3   70    3]\n",
            " [   0    0    0    0   49]\n",
            " [   0    0    0   49    3]]\n"
          ]
        }
      ]
    },
    {
      "cell_type": "code",
      "source": [
        "model = Sequential()\n",
        "model.add(Embedding(total_words, 16, input_length=max_sequence_len-1))\n",
        "model.add(Bidirectional(LSTM(32, return_sequences=True)))\n",
        "model.add(Bidirectional(LSTM(32)))\n",
        "model.add(Dense(total_words, activation='softmax'))\n",
        "adam = Adam(learning_rate=0.01)\n",
        "model.compile(loss='categorical_crossentropy', optimizer=adam, metrics=['accuracy'])\n",
        "history = model.fit(xs, ys, epochs=50)\n",
        "#model.save(\"bidiirish2.h5\")"
      ],
      "metadata": {
        "colab": {
          "base_uri": "https://localhost:8080/"
        },
        "id": "sK0jDudjBoyM",
        "outputId": "52f69319-fe00-476e-9152-7df63f2124bb"
      },
      "execution_count": 7,
      "outputs": [
        {
          "output_type": "stream",
          "name": "stdout",
          "text": [
            "Epoch 1/50\n",
            "1771/1771 [==============================] - 24s 11ms/step - loss: 6.0307 - accuracy: 0.0820\n",
            "Epoch 2/50\n",
            "1771/1771 [==============================] - 18s 10ms/step - loss: 5.1277 - accuracy: 0.1344\n",
            "Epoch 3/50\n",
            "1771/1771 [==============================] - 18s 10ms/step - loss: 4.4708 - accuracy: 0.1786\n",
            "Epoch 4/50\n",
            "1771/1771 [==============================] - 19s 11ms/step - loss: 3.9656 - accuracy: 0.2224\n",
            "Epoch 5/50\n",
            "1771/1771 [==============================] - 18s 10ms/step - loss: 3.5725 - accuracy: 0.2646\n",
            "Epoch 6/50\n",
            "1771/1771 [==============================] - 18s 10ms/step - loss: 3.2816 - accuracy: 0.3011\n",
            "Epoch 7/50\n",
            "1771/1771 [==============================] - 18s 10ms/step - loss: 3.0663 - accuracy: 0.3313\n",
            "Epoch 8/50\n",
            "1771/1771 [==============================] - 18s 10ms/step - loss: 2.8886 - accuracy: 0.3598\n",
            "Epoch 9/50\n",
            "1771/1771 [==============================] - 18s 10ms/step - loss: 2.7513 - accuracy: 0.3812\n",
            "Epoch 10/50\n",
            "1771/1771 [==============================] - 18s 10ms/step - loss: 2.6379 - accuracy: 0.3981\n",
            "Epoch 11/50\n",
            "1771/1771 [==============================] - 18s 10ms/step - loss: 2.5432 - accuracy: 0.4148\n",
            "Epoch 12/50\n",
            "1771/1771 [==============================] - 18s 10ms/step - loss: 2.4602 - accuracy: 0.4289\n",
            "Epoch 13/50\n",
            "1771/1771 [==============================] - 19s 11ms/step - loss: 2.3898 - accuracy: 0.4433\n",
            "Epoch 14/50\n",
            "1771/1771 [==============================] - 18s 10ms/step - loss: 2.3301 - accuracy: 0.4534\n",
            "Epoch 15/50\n",
            "1771/1771 [==============================] - 18s 10ms/step - loss: 2.2695 - accuracy: 0.4652\n",
            "Epoch 16/50\n",
            "1771/1771 [==============================] - 18s 10ms/step - loss: 2.2064 - accuracy: 0.4773\n",
            "Epoch 17/50\n",
            "1771/1771 [==============================] - 18s 10ms/step - loss: 2.1717 - accuracy: 0.4831\n",
            "Epoch 18/50\n",
            "1771/1771 [==============================] - 18s 10ms/step - loss: 2.1085 - accuracy: 0.4971\n",
            "Epoch 19/50\n",
            "1771/1771 [==============================] - 18s 10ms/step - loss: 2.0727 - accuracy: 0.5009\n",
            "Epoch 20/50\n",
            "1771/1771 [==============================] - 18s 10ms/step - loss: 2.0404 - accuracy: 0.5085\n",
            "Epoch 21/50\n",
            "1771/1771 [==============================] - 18s 10ms/step - loss: 2.0199 - accuracy: 0.5132\n",
            "Epoch 22/50\n",
            "1771/1771 [==============================] - 18s 10ms/step - loss: 1.9863 - accuracy: 0.5214\n",
            "Epoch 23/50\n",
            "1771/1771 [==============================] - 18s 10ms/step - loss: 1.9658 - accuracy: 0.5251\n",
            "Epoch 24/50\n",
            "1771/1771 [==============================] - 18s 10ms/step - loss: 1.9504 - accuracy: 0.5287\n",
            "Epoch 25/50\n",
            "1771/1771 [==============================] - 18s 10ms/step - loss: 1.9264 - accuracy: 0.5311\n",
            "Epoch 26/50\n",
            "1771/1771 [==============================] - 18s 10ms/step - loss: 1.8878 - accuracy: 0.5392\n",
            "Epoch 27/50\n",
            "1771/1771 [==============================] - 18s 10ms/step - loss: 1.9056 - accuracy: 0.5374\n",
            "Epoch 28/50\n",
            "1771/1771 [==============================] - 18s 10ms/step - loss: 1.8635 - accuracy: 0.5430\n",
            "Epoch 29/50\n",
            "1771/1771 [==============================] - 18s 10ms/step - loss: 1.8671 - accuracy: 0.5460\n",
            "Epoch 30/50\n",
            "1771/1771 [==============================] - 18s 10ms/step - loss: 1.8313 - accuracy: 0.5514\n",
            "Epoch 31/50\n",
            "1771/1771 [==============================] - 18s 10ms/step - loss: 1.8334 - accuracy: 0.5536\n",
            "Epoch 32/50\n",
            "1771/1771 [==============================] - 18s 10ms/step - loss: 1.8135 - accuracy: 0.5548\n",
            "Epoch 33/50\n",
            "1771/1771 [==============================] - 18s 10ms/step - loss: 1.8275 - accuracy: 0.5529\n",
            "Epoch 34/50\n",
            "1771/1771 [==============================] - 18s 10ms/step - loss: 1.8225 - accuracy: 0.5533\n",
            "Epoch 35/50\n",
            "1771/1771 [==============================] - 18s 10ms/step - loss: 1.7740 - accuracy: 0.5617\n",
            "Epoch 36/50\n",
            "1771/1771 [==============================] - 18s 10ms/step - loss: 1.7871 - accuracy: 0.5622\n",
            "Epoch 37/50\n",
            "1771/1771 [==============================] - 18s 10ms/step - loss: 1.7572 - accuracy: 0.5680\n",
            "Epoch 38/50\n",
            "1771/1771 [==============================] - 18s 10ms/step - loss: 1.7650 - accuracy: 0.5632\n",
            "Epoch 39/50\n",
            "1771/1771 [==============================] - 18s 10ms/step - loss: 1.7584 - accuracy: 0.5686\n",
            "Epoch 40/50\n",
            "1771/1771 [==============================] - 18s 10ms/step - loss: 1.7619 - accuracy: 0.5661\n",
            "Epoch 41/50\n",
            "1771/1771 [==============================] - 18s 10ms/step - loss: 1.7604 - accuracy: 0.5663\n",
            "Epoch 42/50\n",
            "1771/1771 [==============================] - 18s 10ms/step - loss: 1.7463 - accuracy: 0.5694\n",
            "Epoch 43/50\n",
            "1771/1771 [==============================] - 18s 10ms/step - loss: 1.7279 - accuracy: 0.5705\n",
            "Epoch 44/50\n",
            "1771/1771 [==============================] - 18s 10ms/step - loss: 1.7263 - accuracy: 0.5730\n",
            "Epoch 45/50\n",
            "1771/1771 [==============================] - 18s 10ms/step - loss: 1.7344 - accuracy: 0.5721\n",
            "Epoch 46/50\n",
            "1771/1771 [==============================] - 18s 10ms/step - loss: 1.7324 - accuracy: 0.5736\n",
            "Epoch 47/50\n",
            "1771/1771 [==============================] - 19s 10ms/step - loss: 1.7135 - accuracy: 0.5757\n",
            "Epoch 48/50\n",
            "1771/1771 [==============================] - 19s 11ms/step - loss: 1.7337 - accuracy: 0.5703\n",
            "Epoch 49/50\n",
            "1771/1771 [==============================] - 18s 10ms/step - loss: 1.7096 - accuracy: 0.5751\n",
            "Epoch 50/50\n",
            "1771/1771 [==============================] - 18s 10ms/step - loss: 1.7290 - accuracy: 0.5706\n"
          ]
        }
      ]
    },
    {
      "cell_type": "code",
      "source": [
        "def plot_graphs(history, string):\n",
        "  plt.plot(history.history[string]);\n",
        "  plt.legend([string]);\n",
        "  plt.show()\n",
        "\n",
        "plot_graphs(history, 'accuracy')\n",
        "plot_graphs(history, 'loss')"
      ],
      "metadata": {
        "colab": {
          "base_uri": "https://localhost:8080/",
          "height": 517
        },
        "id": "n0TWtscOBxMr",
        "outputId": "66dacd39-a7cf-4668-c148-4d80fbae3561"
      },
      "execution_count": 8,
      "outputs": [
        {
          "output_type": "display_data",
          "data": {
            "text/plain": [
              "<Figure size 432x288 with 1 Axes>"
            ],
            "image/png": "[encoded data removed]"
          },
          "metadata": {
            "needs_background": "light"
          }
        },
        {
          "output_type": "display_data",
          "data": {
            "text/plain": [
              "<Figure size 432x288 with 1 Axes>"
            ],
            "image/png": "[encoded data removed]"
          },
          "metadata": {
            "needs_background": "light"
          }
        }
      ]
    },
    {
      "cell_type": "code",
      "source": [
        "seed_text = \"sweet jeremy saw dublin\"\n",
        "\n",
        "token_list = tokenizer.texts_to_sequences([seed_text])[0]\n",
        "token_list = pad_sequences([token_list], maxlen=max_sequence_len-1, padding='pre')\n",
        "predicted = np.argmax(model.predict(token_list), axis=-1)\n",
        "pred_classes=model.predict(token_list)\n",
        "print(pred_classes.reshape(-1)[predicted])\n",
        "print(predicted)\n",
        "for word, index in tokenizer.word_index.items():\n",
        "\tif index == predicted:\n",
        "\t\tprint(word)\n",
        "\t\tbreak"
      ],
      "metadata": {
        "colab": {
          "base_uri": "https://localhost:8080/"
        },
        "id": "2nWjS1P2B2zg",
        "outputId": "967df71c-c20e-4dd5-d49c-35d377de623f"
      },
      "execution_count": 9,
      "outputs": [
        {
          "output_type": "stream",
          "name": "stdout",
          "text": [
            "1/1 [==============================] - 1s 1s/step\n",
            "1/1 [==============================] - 0s 17ms/step\n",
            "[0.32880518]\n",
            "[72]\n",
            "town\n"
          ]
        }
      ]
    },
    {
      "cell_type": "code",
      "source": [
        "seed_text = \"are you feeling lucky\"\n",
        "next_words=100\n",
        "\n",
        "for _ in range(next_words):\n",
        "\ttoken_list = tokenizer.texts_to_sequences([seed_text])[0]\n",
        "\ttoken_list = pad_sequences([token_list], maxlen=max_sequence_len-1, padding='pre')\n",
        "\tpredicted = np.argmax(model.predict(token_list),axis=1)\n",
        "\toutput_word = \"\"\n",
        "\tfor word, index in tokenizer.word_index.items():\n",
        "\t\tif index == predicted:\n",
        "\t\t\toutput_word = word\n",
        "\t\t\tbreak\n",
        "\tseed_text += \" \" + output_word\n",
        "\n",
        "print(seed_text)"
      ],
      "metadata": {
        "colab": {
          "base_uri": "https://localhost:8080/"
        },
        "id": "2SWcw59eB8HQ",
        "outputId": "c837cf80-5b47-4199-ff64-69f81668a357"
      },
      "execution_count": 10,
      "outputs": [
        {
          "output_type": "stream",
          "name": "stdout",
          "text": [
            "1/1 [==============================] - 0s 17ms/step\n",
            "1/1 [==============================] - 0s 17ms/step\n",
            "1/1 [==============================] - 0s 22ms/step\n",
            "1/1 [==============================] - 0s 17ms/step\n",
            "1/1 [==============================] - 0s 21ms/step\n",
            "1/1 [==============================] - 0s 18ms/step\n",
            "1/1 [==============================] - 0s 20ms/step\n",
            "1/1 [==============================] - 0s 18ms/step\n",
            "1/1 [==============================] - 0s 17ms/step\n",
            "1/1 [==============================] - 0s 19ms/step\n",
            "1/1 [==============================] - 0s 20ms/step\n",
            "1/1 [==============================] - 0s 21ms/step\n",
            "1/1 [==============================] - 0s 18ms/step\n",
            "1/1 [==============================] - 0s 20ms/step\n",
            "1/1 [==============================] - 0s 21ms/step\n",
            "1/1 [==============================] - 0s 17ms/step\n",
            "1/1 [==============================] - 0s 23ms/step\n",
            "1/1 [==============================] - 0s 21ms/step\n",
            "1/1 [==============================] - 0s 21ms/step\n",
            "1/1 [==============================] - 0s 20ms/step\n",
            "1/1 [==============================] - 0s 20ms/step\n",
            "1/1 [==============================] - 0s 20ms/step\n",
            "1/1 [==============================] - 0s 18ms/step\n",
            "1/1 [==============================] - 0s 21ms/step\n",
            "1/1 [==============================] - 0s 20ms/step\n",
            "1/1 [==============================] - 0s 21ms/step\n",
            "1/1 [==============================] - 0s 20ms/step\n",
            "1/1 [==============================] - 0s 25ms/step\n",
            "1/1 [==============================] - 0s 21ms/step\n",
            "1/1 [==============================] - 0s 18ms/step\n",
            "1/1 [==============================] - 0s 18ms/step\n",
            "1/1 [==============================] - 0s 18ms/step\n",
            "1/1 [==============================] - 0s 18ms/step\n",
            "1/1 [==============================] - 0s 18ms/step\n",
            "1/1 [==============================] - 0s 23ms/step\n",
            "1/1 [==============================] - 0s 17ms/step\n",
            "1/1 [==============================] - 0s 22ms/step\n",
            "1/1 [==============================] - 0s 22ms/step\n",
            "1/1 [==============================] - 0s 20ms/step\n",
            "1/1 [==============================] - 0s 20ms/step\n",
            "1/1 [==============================] - 0s 18ms/step\n",
            "1/1 [==============================] - 0s 18ms/step\n",
            "1/1 [==============================] - 0s 21ms/step\n",
            "1/1 [==============================] - 0s 21ms/step\n",
            "1/1 [==============================] - 0s 22ms/step\n",
            "1/1 [==============================] - 0s 22ms/step\n",
            "1/1 [==============================] - 0s 18ms/step\n",
            "1/1 [==============================] - 0s 19ms/step\n",
            "1/1 [==============================] - 0s 19ms/step\n",
            "1/1 [==============================] - 0s 18ms/step\n",
            "1/1 [==============================] - 0s 18ms/step\n",
            "1/1 [==============================] - 0s 21ms/step\n",
            "1/1 [==============================] - 0s 20ms/step\n",
            "1/1 [==============================] - 0s 21ms/step\n",
            "1/1 [==============================] - 0s 19ms/step\n",
            "1/1 [==============================] - 0s 18ms/step\n",
            "1/1 [==============================] - 0s 18ms/step\n",
            "1/1 [==============================] - 0s 18ms/step\n",
            "1/1 [==============================] - 0s 18ms/step\n",
            "1/1 [==============================] - 0s 21ms/step\n",
            "1/1 [==============================] - 0s 19ms/step\n",
            "1/1 [==============================] - 0s 21ms/step\n",
            "1/1 [==============================] - 0s 23ms/step\n",
            "1/1 [==============================] - 0s 18ms/step\n",
            "1/1 [==============================] - 0s 17ms/step\n",
            "1/1 [==============================] - 0s 17ms/step\n",
            "1/1 [==============================] - 0s 17ms/step\n",
            "1/1 [==============================] - 0s 20ms/step\n",
            "1/1 [==============================] - 0s 21ms/step\n",
            "1/1 [==============================] - 0s 17ms/step\n",
            "1/1 [==============================] - 0s 21ms/step\n",
            "1/1 [==============================] - 0s 20ms/step\n",
            "1/1 [==============================] - 0s 22ms/step\n",
            "1/1 [==============================] - 0s 20ms/step\n",
            "1/1 [==============================] - 0s 19ms/step\n",
            "1/1 [==============================] - 0s 18ms/step\n",
            "1/1 [==============================] - 0s 17ms/step\n",
            "1/1 [==============================] - 0s 21ms/step\n",
            "1/1 [==============================] - 0s 22ms/step\n",
            "1/1 [==============================] - 0s 17ms/step\n",
            "1/1 [==============================] - 0s 17ms/step\n",
            "1/1 [==============================] - 0s 20ms/step\n",
            "1/1 [==============================] - 0s 19ms/step\n",
            "1/1 [==============================] - 0s 20ms/step\n",
            "1/1 [==============================] - 0s 20ms/step\n",
            "1/1 [==============================] - 0s 20ms/step\n",
            "1/1 [==============================] - 0s 19ms/step\n",
            "1/1 [==============================] - 0s 19ms/step\n",
            "1/1 [==============================] - 0s 21ms/step\n",
            "1/1 [==============================] - 0s 20ms/step\n",
            "1/1 [==============================] - 0s 18ms/step\n",
            "1/1 [==============================] - 0s 18ms/step\n",
            "1/1 [==============================] - 0s 18ms/step\n",
            "1/1 [==============================] - 0s 19ms/step\n",
            "1/1 [==============================] - 0s 26ms/step\n",
            "1/1 [==============================] - 0s 20ms/step\n",
            "1/1 [==============================] - 0s 18ms/step\n",
            "1/1 [==============================] - 0s 23ms/step\n",
            "1/1 [==============================] - 0s 19ms/step\n",
            "1/1 [==============================] - 0s 21ms/step\n",
            "are you feeling lucky and please girded on and oh oh come when i was born cut a stout black old johnny morn the blades of liverpool when we paid a flying let them know i was born cut a stout black old johnny morn the blades of liverpool when we paid a flying let them know i was born cut a stout black old johnny morn the blades of liverpool when we paid a flying let them know i was born cut a stout black old johnny morn the blades of liverpool when we paid a flying let them know i was born\n"
          ]
        }
      ]
    }
  ]
}